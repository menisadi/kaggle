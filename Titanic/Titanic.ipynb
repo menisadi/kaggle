{
 "cells": [
  {
   "cell_type": "code",
   "execution_count": 1,
   "id": "a6097e89",
   "metadata": {},
   "outputs": [],
   "source": [
    "import numpy as np\n",
    "import pandas as pd\n",
    "import seaborn as sns\n",
    "import matplotlib.pyplot as plt\n",
    "%config Completer.use_jedi = False\n",
    "%matplotlib inline"
   ]
  },
  {
   "cell_type": "code",
   "execution_count": 2,
   "id": "0ef26a5e",
   "metadata": {},
   "outputs": [],
   "source": [
    "from sklearn.model_selection import train_test_split"
   ]
  },
  {
   "cell_type": "code",
   "execution_count": 3,
   "id": "c1bc4b2c",
   "metadata": {},
   "outputs": [],
   "source": [
    "from sklearn.metrics import confusion_matrix, classification_report"
   ]
  },
  {
   "cell_type": "code",
   "execution_count": 4,
   "id": "5b772639",
   "metadata": {},
   "outputs": [],
   "source": [
    "from sklearn.metrics import accuracy_score\n",
    "from sklearn.ensemble import RandomForestClassifier"
   ]
  },
  {
   "cell_type": "code",
   "execution_count": 5,
   "id": "14bbc74a",
   "metadata": {},
   "outputs": [],
   "source": [
    "titanic = pd.read_csv(\"train.csv\")"
   ]
  },
  {
   "cell_type": "code",
   "execution_count": 33,
   "id": "22cf9be8",
   "metadata": {},
   "outputs": [
    {
     "data": {
      "text/html": [
       "<div>\n",
       "<style scoped>\n",
       "    .dataframe tbody tr th:only-of-type {\n",
       "        vertical-align: middle;\n",
       "    }\n",
       "\n",
       "    .dataframe tbody tr th {\n",
       "        vertical-align: top;\n",
       "    }\n",
       "\n",
       "    .dataframe thead th {\n",
       "        text-align: right;\n",
       "    }\n",
       "</style>\n",
       "<table border=\"1\" class=\"dataframe\">\n",
       "  <thead>\n",
       "    <tr style=\"text-align: right;\">\n",
       "      <th></th>\n",
       "      <th>PassengerId</th>\n",
       "      <th>Survived</th>\n",
       "      <th>Pclass</th>\n",
       "      <th>Name</th>\n",
       "      <th>Sex</th>\n",
       "      <th>Age</th>\n",
       "      <th>SibSp</th>\n",
       "      <th>Parch</th>\n",
       "      <th>Ticket</th>\n",
       "      <th>Fare</th>\n",
       "      <th>Cabin</th>\n",
       "      <th>Embarked</th>\n",
       "    </tr>\n",
       "  </thead>\n",
       "  <tbody>\n",
       "    <tr>\n",
       "      <th>0</th>\n",
       "      <td>1</td>\n",
       "      <td>0</td>\n",
       "      <td>3</td>\n",
       "      <td>Braund, Mr. Owen Harris</td>\n",
       "      <td>male</td>\n",
       "      <td>22.0</td>\n",
       "      <td>1</td>\n",
       "      <td>0</td>\n",
       "      <td>A/5 21171</td>\n",
       "      <td>7.2500</td>\n",
       "      <td>NaN</td>\n",
       "      <td>S</td>\n",
       "    </tr>\n",
       "    <tr>\n",
       "      <th>1</th>\n",
       "      <td>2</td>\n",
       "      <td>1</td>\n",
       "      <td>1</td>\n",
       "      <td>Cumings, Mrs. John Bradley (Florence Briggs Th...</td>\n",
       "      <td>female</td>\n",
       "      <td>38.0</td>\n",
       "      <td>1</td>\n",
       "      <td>0</td>\n",
       "      <td>PC 17599</td>\n",
       "      <td>71.2833</td>\n",
       "      <td>C85</td>\n",
       "      <td>C</td>\n",
       "    </tr>\n",
       "    <tr>\n",
       "      <th>2</th>\n",
       "      <td>3</td>\n",
       "      <td>1</td>\n",
       "      <td>3</td>\n",
       "      <td>Heikkinen, Miss. Laina</td>\n",
       "      <td>female</td>\n",
       "      <td>26.0</td>\n",
       "      <td>0</td>\n",
       "      <td>0</td>\n",
       "      <td>STON/O2. 3101282</td>\n",
       "      <td>7.9250</td>\n",
       "      <td>NaN</td>\n",
       "      <td>S</td>\n",
       "    </tr>\n",
       "    <tr>\n",
       "      <th>3</th>\n",
       "      <td>4</td>\n",
       "      <td>1</td>\n",
       "      <td>1</td>\n",
       "      <td>Futrelle, Mrs. Jacques Heath (Lily May Peel)</td>\n",
       "      <td>female</td>\n",
       "      <td>35.0</td>\n",
       "      <td>1</td>\n",
       "      <td>0</td>\n",
       "      <td>113803</td>\n",
       "      <td>53.1000</td>\n",
       "      <td>C123</td>\n",
       "      <td>S</td>\n",
       "    </tr>\n",
       "    <tr>\n",
       "      <th>4</th>\n",
       "      <td>5</td>\n",
       "      <td>0</td>\n",
       "      <td>3</td>\n",
       "      <td>Allen, Mr. William Henry</td>\n",
       "      <td>male</td>\n",
       "      <td>35.0</td>\n",
       "      <td>0</td>\n",
       "      <td>0</td>\n",
       "      <td>373450</td>\n",
       "      <td>8.0500</td>\n",
       "      <td>NaN</td>\n",
       "      <td>S</td>\n",
       "    </tr>\n",
       "  </tbody>\n",
       "</table>\n",
       "</div>"
      ],
      "text/plain": [
       "   PassengerId  Survived  Pclass  \\\n",
       "0            1         0       3   \n",
       "1            2         1       1   \n",
       "2            3         1       3   \n",
       "3            4         1       1   \n",
       "4            5         0       3   \n",
       "\n",
       "                                                Name     Sex   Age  SibSp  \\\n",
       "0                            Braund, Mr. Owen Harris    male  22.0      1   \n",
       "1  Cumings, Mrs. John Bradley (Florence Briggs Th...  female  38.0      1   \n",
       "2                             Heikkinen, Miss. Laina  female  26.0      0   \n",
       "3       Futrelle, Mrs. Jacques Heath (Lily May Peel)  female  35.0      1   \n",
       "4                           Allen, Mr. William Henry    male  35.0      0   \n",
       "\n",
       "   Parch            Ticket     Fare Cabin Embarked  \n",
       "0      0         A/5 21171   7.2500   NaN        S  \n",
       "1      0          PC 17599  71.2833   C85        C  \n",
       "2      0  STON/O2. 3101282   7.9250   NaN        S  \n",
       "3      0            113803  53.1000  C123        S  \n",
       "4      0            373450   8.0500   NaN        S  "
      ]
     },
     "execution_count": 33,
     "metadata": {},
     "output_type": "execute_result"
    }
   ],
   "source": [
    "titanic.head()"
   ]
  },
  {
   "cell_type": "code",
   "execution_count": 34,
   "id": "38a87a5b",
   "metadata": {},
   "outputs": [
    {
     "name": "stdout",
     "output_type": "stream",
     "text": [
      "<class 'pandas.core.frame.DataFrame'>\n",
      "RangeIndex: 891 entries, 0 to 890\n",
      "Data columns (total 12 columns):\n",
      " #   Column       Non-Null Count  Dtype  \n",
      "---  ------       --------------  -----  \n",
      " 0   PassengerId  891 non-null    int64  \n",
      " 1   Survived     891 non-null    int64  \n",
      " 2   Pclass       891 non-null    int64  \n",
      " 3   Name         891 non-null    object \n",
      " 4   Sex          891 non-null    object \n",
      " 5   Age          714 non-null    float64\n",
      " 6   SibSp        891 non-null    int64  \n",
      " 7   Parch        891 non-null    int64  \n",
      " 8   Ticket       891 non-null    object \n",
      " 9   Fare         891 non-null    float64\n",
      " 10  Cabin        204 non-null    object \n",
      " 11  Embarked     889 non-null    object \n",
      "dtypes: float64(2), int64(5), object(5)\n",
      "memory usage: 83.7+ KB\n"
     ]
    }
   ],
   "source": [
    "titanic.info()"
   ]
  },
  {
   "cell_type": "markdown",
   "id": "94a39c8d",
   "metadata": {},
   "source": [
    "## Preprocessing"
   ]
  },
  {
   "cell_type": "code",
   "execution_count": 6,
   "id": "904b5abd",
   "metadata": {},
   "outputs": [],
   "source": [
    "def prefix_name(n):\n",
    "    pref = n.split()[1]\n",
    "    popular_prefix = ['Mr.', 'Mrs.', 'Miss.', 'Master.']\n",
    "    if pref[-1] != '.' or pref not in popular_prefix:\n",
    "        pref = 'Other'\n",
    "    return pref"
   ]
  },
  {
   "cell_type": "code",
   "execution_count": 7,
   "id": "575585da",
   "metadata": {},
   "outputs": [],
   "source": [
    "titanic['Prefix'] = titanic['Name'].apply(prefix_name)"
   ]
  },
  {
   "cell_type": "code",
   "execution_count": 37,
   "id": "bf9f7277",
   "metadata": {},
   "outputs": [
    {
     "data": {
      "text/plain": [
       "array(['Mr.', 'Mrs.', 'Miss.', 'Master.', 'Other'], dtype=object)"
      ]
     },
     "execution_count": 37,
     "metadata": {},
     "output_type": "execute_result"
    }
   ],
   "source": [
    "titanic['Prefix'].unique()"
   ]
  },
  {
   "cell_type": "code",
   "execution_count": 8,
   "id": "5d428480",
   "metadata": {},
   "outputs": [],
   "source": [
    "titanic.drop('Name', axis=1, inplace=True)\n",
    "titanic.drop('Cabin', axis=1, inplace=True)\n",
    "titanic.drop('Ticket', axis=1, inplace=True)\n",
    "titanic.drop('PassengerId', axis=1, inplace=True)\n",
    "titanic.drop('Embarked', axis=1, inplace=True)"
   ]
  },
  {
   "cell_type": "code",
   "execution_count": 12,
   "id": "a398625a",
   "metadata": {},
   "outputs": [],
   "source": [
    "age_mean = titanic['Age'].mean()\n",
    "titanic['Age'] = titanic['Age'].fillna(value=age_mean)"
   ]
  },
  {
   "cell_type": "code",
   "execution_count": 139,
   "id": "2ba8e582",
   "metadata": {},
   "outputs": [
    {
     "name": "stdout",
     "output_type": "stream",
     "text": [
      "<class 'pandas.core.frame.DataFrame'>\n",
      "RangeIndex: 418 entries, 0 to 417\n",
      "Data columns (total 27 columns):\n",
      " #   Column          Non-Null Count  Dtype  \n",
      "---  ------          --------------  -----  \n",
      " 0   Age             418 non-null    float64\n",
      " 1   Fare            418 non-null    float64\n",
      " 2   SibSp_0         418 non-null    uint8  \n",
      " 3   SibSp_1         418 non-null    uint8  \n",
      " 4   SibSp_2         418 non-null    uint8  \n",
      " 5   SibSp_3         418 non-null    uint8  \n",
      " 6   SibSp_4         418 non-null    uint8  \n",
      " 7   SibSp_5         418 non-null    uint8  \n",
      " 8   SibSp_8         418 non-null    uint8  \n",
      " 9   Sex_female      418 non-null    uint8  \n",
      " 10  Sex_male        418 non-null    uint8  \n",
      " 11  Pclass_1        418 non-null    uint8  \n",
      " 12  Pclass_2        418 non-null    uint8  \n",
      " 13  Pclass_3        418 non-null    uint8  \n",
      " 14  Parch_0         418 non-null    uint8  \n",
      " 15  Parch_1         418 non-null    uint8  \n",
      " 16  Parch_2         418 non-null    uint8  \n",
      " 17  Parch_3         418 non-null    uint8  \n",
      " 18  Parch_4         418 non-null    uint8  \n",
      " 19  Parch_5         418 non-null    uint8  \n",
      " 20  Parch_6         418 non-null    uint8  \n",
      " 21  Parch_9         418 non-null    uint8  \n",
      " 22  Prefix_Master.  418 non-null    uint8  \n",
      " 23  Prefix_Miss.    418 non-null    uint8  \n",
      " 24  Prefix_Mr.      418 non-null    uint8  \n",
      " 25  Prefix_Mrs.     418 non-null    uint8  \n",
      " 26  Prefix_Other    418 non-null    uint8  \n",
      "dtypes: float64(2), uint8(25)\n",
      "memory usage: 16.9 KB\n"
     ]
    }
   ],
   "source": [
    "test.info()"
   ]
  },
  {
   "cell_type": "code",
   "execution_count": 21,
   "id": "7b558f54",
   "metadata": {},
   "outputs": [
    {
     "data": {
      "text/plain": [
       "<matplotlib.axes._subplots.AxesSubplot at 0x1f583f41e08>"
      ]
     },
     "execution_count": 21,
     "metadata": {},
     "output_type": "execute_result"
    },
    {
     "data": {
      "image/png": "[encoded data removed]",
      "text/plain": [
       "<Figure size 432x288 with 1 Axes>"
      ]
     },
     "metadata": {
      "needs_background": "light"
     },
     "output_type": "display_data"
    }
   ],
   "source": [
    "sns.heatmap(titanic.isnull(),yticklabels=False,cbar=False,cmap='viridis')"
   ]
  },
  {
   "cell_type": "code",
   "execution_count": 161,
   "id": "d50d66dd",
   "metadata": {},
   "outputs": [],
   "source": [
    "test = pd.read_csv('test.csv')"
   ]
  },
  {
   "cell_type": "code",
   "execution_count": 162,
   "id": "9f58c8d8",
   "metadata": {},
   "outputs": [],
   "source": [
    "test_ids = test['PassengerId']"
   ]
  },
  {
   "cell_type": "code",
   "execution_count": 134,
   "id": "75c4d03b",
   "metadata": {},
   "outputs": [],
   "source": [
    "test['Prefix'] = test['Name'].apply(prefix_name)"
   ]
  },
  {
   "cell_type": "code",
   "execution_count": 135,
   "id": "41c3dc29",
   "metadata": {},
   "outputs": [],
   "source": [
    "test.drop('Name', axis=1, inplace=True)\n",
    "test.drop('Cabin', axis=1, inplace=True)\n",
    "test.drop('Ticket', axis=1, inplace=True)\n",
    "test.drop('PassengerId', axis=1, inplace=True)\n",
    "test.drop('Embarked', axis=1, inplace=True)"
   ]
  },
  {
   "cell_type": "code",
   "execution_count": 136,
   "id": "bc4c9511",
   "metadata": {},
   "outputs": [],
   "source": [
    "test['Age'] = test['Age'].fillna(value=age_mean)"
   ]
  },
  {
   "cell_type": "code",
   "execution_count": 137,
   "id": "98a416e4",
   "metadata": {},
   "outputs": [],
   "source": [
    "fare_mean = titanic['Fare'].mean()\n",
    "test['Fare'] = test['Fare'].fillna(value=fare_mean)"
   ]
  },
  {
   "cell_type": "code",
   "execution_count": 138,
   "id": "3442e626",
   "metadata": {},
   "outputs": [],
   "source": [
    "test = pd.get_dummies(data=test, columns=['SibSp','Sex','Pclass','Parch','Prefix'])"
   ]
  },
  {
   "cell_type": "code",
   "execution_count": 140,
   "id": "69e4e661",
   "metadata": {},
   "outputs": [],
   "source": [
    "test = test.reindex(columns = titanic.columns, fill_value=0)"
   ]
  },
  {
   "cell_type": "code",
   "execution_count": 141,
   "id": "4fa4b58c",
   "metadata": {},
   "outputs": [],
   "source": [
    "test.drop('Survived', inplace=True, axis=1)"
   ]
  },
  {
   "cell_type": "code",
   "execution_count": 142,
   "id": "20658221",
   "metadata": {},
   "outputs": [
    {
     "data": {
      "text/plain": [
       "<matplotlib.axes._subplots.AxesSubplot at 0x1f598f05588>"
      ]
     },
     "execution_count": 142,
     "metadata": {},
     "output_type": "execute_result"
    },
    {
     "data": {
      "image/png": "[encoded data removed]",
      "text/plain": [
       "<Figure size 432x288 with 1 Axes>"
      ]
     },
     "metadata": {
      "needs_background": "light"
     },
     "output_type": "display_data"
    }
   ],
   "source": [
    "sns.heatmap(test.isnull(),yticklabels=False,cbar=False,cmap='viridis')"
   ]
  },
  {
   "cell_type": "markdown",
   "id": "7441dabb",
   "metadata": {},
   "source": [
    "## EDA"
   ]
  },
  {
   "cell_type": "code",
   "execution_count": 22,
   "id": "e8394393",
   "metadata": {
    "scrolled": true
   },
   "outputs": [
    {
     "data": {
      "text/plain": [
       "<matplotlib.axes._subplots.AxesSubplot at 0x1f583fb0ac8>"
      ]
     },
     "execution_count": 22,
     "metadata": {},
     "output_type": "execute_result"
    },
    {
     "data": {
      "image/png": "[encoded data removed]",
      "text/plain": [
       "<Figure size 432x288 with 1 Axes>"
      ]
     },
     "metadata": {
      "needs_background": "light"
     },
     "output_type": "display_data"
    }
   ],
   "source": [
    "sns.countplot(data=titanic, x='Prefix')"
   ]
  },
  {
   "cell_type": "code",
   "execution_count": 23,
   "id": "9ed6c1a4",
   "metadata": {},
   "outputs": [
    {
     "data": {
      "text/plain": [
       "<matplotlib.axes._subplots.AxesSubplot at 0x1f584006e08>"
      ]
     },
     "execution_count": 23,
     "metadata": {},
     "output_type": "execute_result"
    },
    {
     "data": {
      "image/png": "[encoded data removed]",
      "text/plain": [
       "<Figure size 432x288 with 1 Axes>"
      ]
     },
     "metadata": {
      "needs_background": "light"
     },
     "output_type": "display_data"
    }
   ],
   "source": [
    "sns.histplot(data=titanic, x='Age')"
   ]
  },
  {
   "cell_type": "code",
   "execution_count": 24,
   "id": "fad9ce2c",
   "metadata": {},
   "outputs": [
    {
     "data": {
      "text/plain": [
       "<matplotlib.axes._subplots.AxesSubplot at 0x1f584115948>"
      ]
     },
     "execution_count": 24,
     "metadata": {},
     "output_type": "execute_result"
    },
    {
     "data": {
      "image/png": "[encoded data removed]",
      "text/plain": [
       "<Figure size 432x288 with 1 Axes>"
      ]
     },
     "metadata": {
      "needs_background": "light"
     },
     "output_type": "display_data"
    }
   ],
   "source": [
    "sns.countplot(data=titanic, x='Survived')"
   ]
  },
  {
   "cell_type": "code",
   "execution_count": 25,
   "id": "6460dfb2",
   "metadata": {},
   "outputs": [
    {
     "data": {
      "text/plain": [
       "<seaborn.axisgrid.PairGrid at 0x1f5840fc9c8>"
      ]
     },
     "execution_count": 25,
     "metadata": {},
     "output_type": "execute_result"
    },
    {
     "data": {
      "image/png": "[encoded data removed]",
      "text/plain": [
       "<Figure size 951.875x900 with 30 Axes>"
      ]
     },
     "metadata": {
      "needs_background": "light"
     },
     "output_type": "display_data"
    }
   ],
   "source": [
    "sns.pairplot(titanic, hue='Survived')"
   ]
  },
  {
   "cell_type": "code",
   "execution_count": 29,
   "id": "4e3bbf9e",
   "metadata": {},
   "outputs": [
    {
     "data": {
      "text/html": [
       "<div>\n",
       "<style scoped>\n",
       "    .dataframe tbody tr th:only-of-type {\n",
       "        vertical-align: middle;\n",
       "    }\n",
       "\n",
       "    .dataframe tbody tr th {\n",
       "        vertical-align: top;\n",
       "    }\n",
       "\n",
       "    .dataframe thead th {\n",
       "        text-align: right;\n",
       "    }\n",
       "</style>\n",
       "<table border=\"1\" class=\"dataframe\">\n",
       "  <thead>\n",
       "    <tr style=\"text-align: right;\">\n",
       "      <th></th>\n",
       "      <th>Survived</th>\n",
       "      <th>Pclass</th>\n",
       "      <th>Age</th>\n",
       "      <th>SibSp</th>\n",
       "      <th>Parch</th>\n",
       "      <th>Fare</th>\n",
       "    </tr>\n",
       "  </thead>\n",
       "  <tbody>\n",
       "    <tr>\n",
       "      <th>Survived</th>\n",
       "      <td>1.000000</td>\n",
       "      <td>-0.338481</td>\n",
       "      <td>-0.069809</td>\n",
       "      <td>-0.035322</td>\n",
       "      <td>0.081629</td>\n",
       "      <td>0.257307</td>\n",
       "    </tr>\n",
       "    <tr>\n",
       "      <th>Pclass</th>\n",
       "      <td>-0.338481</td>\n",
       "      <td>1.000000</td>\n",
       "      <td>-0.331339</td>\n",
       "      <td>0.083081</td>\n",
       "      <td>0.018443</td>\n",
       "      <td>-0.549500</td>\n",
       "    </tr>\n",
       "    <tr>\n",
       "      <th>Age</th>\n",
       "      <td>-0.069809</td>\n",
       "      <td>-0.331339</td>\n",
       "      <td>1.000000</td>\n",
       "      <td>-0.232625</td>\n",
       "      <td>-0.179191</td>\n",
       "      <td>0.091566</td>\n",
       "    </tr>\n",
       "    <tr>\n",
       "      <th>SibSp</th>\n",
       "      <td>-0.035322</td>\n",
       "      <td>0.083081</td>\n",
       "      <td>-0.232625</td>\n",
       "      <td>1.000000</td>\n",
       "      <td>0.414838</td>\n",
       "      <td>0.159651</td>\n",
       "    </tr>\n",
       "    <tr>\n",
       "      <th>Parch</th>\n",
       "      <td>0.081629</td>\n",
       "      <td>0.018443</td>\n",
       "      <td>-0.179191</td>\n",
       "      <td>0.414838</td>\n",
       "      <td>1.000000</td>\n",
       "      <td>0.216225</td>\n",
       "    </tr>\n",
       "    <tr>\n",
       "      <th>Fare</th>\n",
       "      <td>0.257307</td>\n",
       "      <td>-0.549500</td>\n",
       "      <td>0.091566</td>\n",
       "      <td>0.159651</td>\n",
       "      <td>0.216225</td>\n",
       "      <td>1.000000</td>\n",
       "    </tr>\n",
       "  </tbody>\n",
       "</table>\n",
       "</div>"
      ],
      "text/plain": [
       "          Survived    Pclass       Age     SibSp     Parch      Fare\n",
       "Survived  1.000000 -0.338481 -0.069809 -0.035322  0.081629  0.257307\n",
       "Pclass   -0.338481  1.000000 -0.331339  0.083081  0.018443 -0.549500\n",
       "Age      -0.069809 -0.331339  1.000000 -0.232625 -0.179191  0.091566\n",
       "SibSp    -0.035322  0.083081 -0.232625  1.000000  0.414838  0.159651\n",
       "Parch     0.081629  0.018443 -0.179191  0.414838  1.000000  0.216225\n",
       "Fare      0.257307 -0.549500  0.091566  0.159651  0.216225  1.000000"
      ]
     },
     "execution_count": 29,
     "metadata": {},
     "output_type": "execute_result"
    }
   ],
   "source": [
    "titanic.corr()"
   ]
  },
  {
   "cell_type": "code",
   "execution_count": 30,
   "id": "748e3e57",
   "metadata": {},
   "outputs": [
    {
     "data": {
      "text/plain": [
       "Pclass     -0.338481\n",
       "Age        -0.069809\n",
       "SibSp      -0.035322\n",
       "Parch       0.081629\n",
       "Fare        0.257307\n",
       "Survived    1.000000\n",
       "Name: Survived, dtype: float64"
      ]
     },
     "execution_count": 30,
     "metadata": {},
     "output_type": "execute_result"
    }
   ],
   "source": [
    "titanic.corr()['Survived'].sort_values()"
   ]
  },
  {
   "cell_type": "code",
   "execution_count": 32,
   "id": "ac095098",
   "metadata": {},
   "outputs": [
    {
     "data": {
      "text/plain": [
       "<matplotlib.axes._subplots.AxesSubplot at 0x1f58682f248>"
      ]
     },
     "execution_count": 32,
     "metadata": {},
     "output_type": "execute_result"
    },
    {
     "data": {
      "image/png": "[encoded data removed]",
      "text/plain": [
       "<Figure size 432x288 with 1 Axes>"
      ]
     },
     "metadata": {
      "needs_background": "light"
     },
     "output_type": "display_data"
    }
   ],
   "source": [
    "titanic.corr()['Survived'].sort_values()[:-1].plot(kind='bar')"
   ]
  },
  {
   "cell_type": "markdown",
   "id": "187c0043",
   "metadata": {},
   "source": [
    "## First try"
   ]
  },
  {
   "cell_type": "code",
   "execution_count": 35,
   "id": "a8c1089b",
   "metadata": {},
   "outputs": [],
   "source": [
    "from sklearn.preprocessing import OrdinalEncoder"
   ]
  },
  {
   "cell_type": "code",
   "execution_count": 36,
   "id": "92e6637d",
   "metadata": {},
   "outputs": [],
   "source": [
    "ordenc = OrdinalEncoder()"
   ]
  },
  {
   "cell_type": "code",
   "execution_count": 38,
   "id": "cfda13b9",
   "metadata": {},
   "outputs": [
    {
     "data": {
      "text/plain": [
       "OrdinalEncoder()"
      ]
     },
     "execution_count": 38,
     "metadata": {},
     "output_type": "execute_result"
    }
   ],
   "source": [
    "ordenc.fit(titanic[['Sex','Ticket','Cabin', 'Embarked', 'prefix']])"
   ]
  },
  {
   "cell_type": "code",
   "execution_count": 39,
   "id": "bd50046b",
   "metadata": {},
   "outputs": [],
   "source": [
    "titanic[['Sex','Ticket','Cabin', 'Embarked', 'prefix']] = ordenc.fit_transform(\n",
    "    titanic[['Sex','Ticket','Cabin', 'Embarked', 'prefix']])"
   ]
  },
  {
   "cell_type": "code",
   "execution_count": 41,
   "id": "87529e2a",
   "metadata": {},
   "outputs": [
    {
     "data": {
      "text/html": [
       "<div>\n",
       "<style scoped>\n",
       "    .dataframe tbody tr th:only-of-type {\n",
       "        vertical-align: middle;\n",
       "    }\n",
       "\n",
       "    .dataframe tbody tr th {\n",
       "        vertical-align: top;\n",
       "    }\n",
       "\n",
       "    .dataframe thead th {\n",
       "        text-align: right;\n",
       "    }\n",
       "</style>\n",
       "<table border=\"1\" class=\"dataframe\">\n",
       "  <thead>\n",
       "    <tr style=\"text-align: right;\">\n",
       "      <th></th>\n",
       "      <th>PassengerId</th>\n",
       "      <th>Survived</th>\n",
       "      <th>Pclass</th>\n",
       "      <th>Name</th>\n",
       "      <th>Sex</th>\n",
       "      <th>Age</th>\n",
       "      <th>SibSp</th>\n",
       "      <th>Parch</th>\n",
       "      <th>Ticket</th>\n",
       "      <th>Fare</th>\n",
       "      <th>Cabin</th>\n",
       "      <th>Embarked</th>\n",
       "      <th>prefix</th>\n",
       "    </tr>\n",
       "  </thead>\n",
       "  <tbody>\n",
       "    <tr>\n",
       "      <th>0</th>\n",
       "      <td>1</td>\n",
       "      <td>0</td>\n",
       "      <td>3</td>\n",
       "      <td>Braund, Mr. Owen Harris</td>\n",
       "      <td>1.0</td>\n",
       "      <td>22.0</td>\n",
       "      <td>1</td>\n",
       "      <td>0</td>\n",
       "      <td>523.0</td>\n",
       "      <td>7.2500</td>\n",
       "      <td>NaN</td>\n",
       "      <td>2.0</td>\n",
       "      <td>10.0</td>\n",
       "    </tr>\n",
       "    <tr>\n",
       "      <th>1</th>\n",
       "      <td>2</td>\n",
       "      <td>1</td>\n",
       "      <td>1</td>\n",
       "      <td>Cumings, Mrs. John Bradley (Florence Briggs Th...</td>\n",
       "      <td>0.0</td>\n",
       "      <td>38.0</td>\n",
       "      <td>1</td>\n",
       "      <td>0</td>\n",
       "      <td>596.0</td>\n",
       "      <td>71.2833</td>\n",
       "      <td>81.0</td>\n",
       "      <td>0.0</td>\n",
       "      <td>11.0</td>\n",
       "    </tr>\n",
       "    <tr>\n",
       "      <th>2</th>\n",
       "      <td>3</td>\n",
       "      <td>1</td>\n",
       "      <td>3</td>\n",
       "      <td>Heikkinen, Miss. Laina</td>\n",
       "      <td>0.0</td>\n",
       "      <td>26.0</td>\n",
       "      <td>0</td>\n",
       "      <td>0</td>\n",
       "      <td>669.0</td>\n",
       "      <td>7.9250</td>\n",
       "      <td>NaN</td>\n",
       "      <td>2.0</td>\n",
       "      <td>7.0</td>\n",
       "    </tr>\n",
       "    <tr>\n",
       "      <th>3</th>\n",
       "      <td>4</td>\n",
       "      <td>1</td>\n",
       "      <td>1</td>\n",
       "      <td>Futrelle, Mrs. Jacques Heath (Lily May Peel)</td>\n",
       "      <td>0.0</td>\n",
       "      <td>35.0</td>\n",
       "      <td>1</td>\n",
       "      <td>0</td>\n",
       "      <td>49.0</td>\n",
       "      <td>53.1000</td>\n",
       "      <td>55.0</td>\n",
       "      <td>2.0</td>\n",
       "      <td>11.0</td>\n",
       "    </tr>\n",
       "    <tr>\n",
       "      <th>4</th>\n",
       "      <td>5</td>\n",
       "      <td>0</td>\n",
       "      <td>3</td>\n",
       "      <td>Allen, Mr. William Henry</td>\n",
       "      <td>1.0</td>\n",
       "      <td>35.0</td>\n",
       "      <td>0</td>\n",
       "      <td>0</td>\n",
       "      <td>472.0</td>\n",
       "      <td>8.0500</td>\n",
       "      <td>NaN</td>\n",
       "      <td>2.0</td>\n",
       "      <td>10.0</td>\n",
       "    </tr>\n",
       "  </tbody>\n",
       "</table>\n",
       "</div>"
      ],
      "text/plain": [
       "   PassengerId  Survived  Pclass  \\\n",
       "0            1         0       3   \n",
       "1            2         1       1   \n",
       "2            3         1       3   \n",
       "3            4         1       1   \n",
       "4            5         0       3   \n",
       "\n",
       "                                                Name  Sex   Age  SibSp  Parch  \\\n",
       "0                            Braund, Mr. Owen Harris  1.0  22.0      1      0   \n",
       "1  Cumings, Mrs. John Bradley (Florence Briggs Th...  0.0  38.0      1      0   \n",
       "2                             Heikkinen, Miss. Laina  0.0  26.0      0      0   \n",
       "3       Futrelle, Mrs. Jacques Heath (Lily May Peel)  0.0  35.0      1      0   \n",
       "4                           Allen, Mr. William Henry  1.0  35.0      0      0   \n",
       "\n",
       "   Ticket     Fare  Cabin  Embarked  prefix  \n",
       "0   523.0   7.2500    NaN       2.0    10.0  \n",
       "1   596.0  71.2833   81.0       0.0    11.0  \n",
       "2   669.0   7.9250    NaN       2.0     7.0  \n",
       "3    49.0  53.1000   55.0       2.0    11.0  \n",
       "4   472.0   8.0500    NaN       2.0    10.0  "
      ]
     },
     "execution_count": 41,
     "metadata": {},
     "output_type": "execute_result"
    }
   ],
   "source": [
    "titanic.head()"
   ]
  },
  {
   "cell_type": "code",
   "execution_count": 46,
   "id": "9446b67e",
   "metadata": {},
   "outputs": [
    {
     "data": {
      "text/html": [
       "<div>\n",
       "<style scoped>\n",
       "    .dataframe tbody tr th:only-of-type {\n",
       "        vertical-align: middle;\n",
       "    }\n",
       "\n",
       "    .dataframe tbody tr th {\n",
       "        vertical-align: top;\n",
       "    }\n",
       "\n",
       "    .dataframe thead th {\n",
       "        text-align: right;\n",
       "    }\n",
       "</style>\n",
       "<table border=\"1\" class=\"dataframe\">\n",
       "  <thead>\n",
       "    <tr style=\"text-align: right;\">\n",
       "      <th></th>\n",
       "      <th>PassengerId</th>\n",
       "      <th>Survived</th>\n",
       "      <th>Pclass</th>\n",
       "      <th>Sex</th>\n",
       "      <th>Age</th>\n",
       "      <th>SibSp</th>\n",
       "      <th>Parch</th>\n",
       "      <th>Ticket</th>\n",
       "      <th>Fare</th>\n",
       "      <th>Cabin</th>\n",
       "      <th>Embarked</th>\n",
       "      <th>prefix</th>\n",
       "    </tr>\n",
       "  </thead>\n",
       "  <tbody>\n",
       "    <tr>\n",
       "      <th>count</th>\n",
       "      <td>891.000000</td>\n",
       "      <td>891.000000</td>\n",
       "      <td>891.000000</td>\n",
       "      <td>891.000000</td>\n",
       "      <td>714.000000</td>\n",
       "      <td>891.000000</td>\n",
       "      <td>891.000000</td>\n",
       "      <td>891.000000</td>\n",
       "      <td>891.000000</td>\n",
       "      <td>204.000000</td>\n",
       "      <td>889.000000</td>\n",
       "      <td>891.000000</td>\n",
       "    </tr>\n",
       "    <tr>\n",
       "      <th>mean</th>\n",
       "      <td>446.000000</td>\n",
       "      <td>0.383838</td>\n",
       "      <td>2.308642</td>\n",
       "      <td>0.647587</td>\n",
       "      <td>29.699118</td>\n",
       "      <td>0.523008</td>\n",
       "      <td>0.381594</td>\n",
       "      <td>338.528620</td>\n",
       "      <td>32.204208</td>\n",
       "      <td>76.000000</td>\n",
       "      <td>1.535433</td>\n",
       "      <td>9.347924</td>\n",
       "    </tr>\n",
       "    <tr>\n",
       "      <th>std</th>\n",
       "      <td>257.353842</td>\n",
       "      <td>0.486592</td>\n",
       "      <td>0.836071</td>\n",
       "      <td>0.477990</td>\n",
       "      <td>14.526497</td>\n",
       "      <td>1.102743</td>\n",
       "      <td>0.806057</td>\n",
       "      <td>200.850657</td>\n",
       "      <td>49.693429</td>\n",
       "      <td>42.233225</td>\n",
       "      <td>0.792088</td>\n",
       "      <td>1.860936</td>\n",
       "    </tr>\n",
       "    <tr>\n",
       "      <th>min</th>\n",
       "      <td>1.000000</td>\n",
       "      <td>0.000000</td>\n",
       "      <td>1.000000</td>\n",
       "      <td>0.000000</td>\n",
       "      <td>0.420000</td>\n",
       "      <td>0.000000</td>\n",
       "      <td>0.000000</td>\n",
       "      <td>0.000000</td>\n",
       "      <td>0.000000</td>\n",
       "      <td>0.000000</td>\n",
       "      <td>0.000000</td>\n",
       "      <td>0.000000</td>\n",
       "    </tr>\n",
       "    <tr>\n",
       "      <th>25%</th>\n",
       "      <td>223.500000</td>\n",
       "      <td>0.000000</td>\n",
       "      <td>2.000000</td>\n",
       "      <td>0.000000</td>\n",
       "      <td>20.125000</td>\n",
       "      <td>0.000000</td>\n",
       "      <td>0.000000</td>\n",
       "      <td>158.500000</td>\n",
       "      <td>7.910400</td>\n",
       "      <td>40.000000</td>\n",
       "      <td>1.000000</td>\n",
       "      <td>7.000000</td>\n",
       "    </tr>\n",
       "    <tr>\n",
       "      <th>50%</th>\n",
       "      <td>446.000000</td>\n",
       "      <td>0.000000</td>\n",
       "      <td>3.000000</td>\n",
       "      <td>1.000000</td>\n",
       "      <td>28.000000</td>\n",
       "      <td>0.000000</td>\n",
       "      <td>0.000000</td>\n",
       "      <td>337.000000</td>\n",
       "      <td>14.454200</td>\n",
       "      <td>75.000000</td>\n",
       "      <td>2.000000</td>\n",
       "      <td>10.000000</td>\n",
       "    </tr>\n",
       "    <tr>\n",
       "      <th>75%</th>\n",
       "      <td>668.500000</td>\n",
       "      <td>1.000000</td>\n",
       "      <td>3.000000</td>\n",
       "      <td>1.000000</td>\n",
       "      <td>38.000000</td>\n",
       "      <td>1.000000</td>\n",
       "      <td>0.000000</td>\n",
       "      <td>519.500000</td>\n",
       "      <td>31.000000</td>\n",
       "      <td>113.250000</td>\n",
       "      <td>2.000000</td>\n",
       "      <td>10.000000</td>\n",
       "    </tr>\n",
       "    <tr>\n",
       "      <th>max</th>\n",
       "      <td>891.000000</td>\n",
       "      <td>1.000000</td>\n",
       "      <td>3.000000</td>\n",
       "      <td>1.000000</td>\n",
       "      <td>80.000000</td>\n",
       "      <td>8.000000</td>\n",
       "      <td>6.000000</td>\n",
       "      <td>680.000000</td>\n",
       "      <td>512.329200</td>\n",
       "      <td>146.000000</td>\n",
       "      <td>2.000000</td>\n",
       "      <td>14.000000</td>\n",
       "    </tr>\n",
       "  </tbody>\n",
       "</table>\n",
       "</div>"
      ],
      "text/plain": [
       "       PassengerId    Survived      Pclass         Sex         Age  \\\n",
       "count   891.000000  891.000000  891.000000  891.000000  714.000000   \n",
       "mean    446.000000    0.383838    2.308642    0.647587   29.699118   \n",
       "std     257.353842    0.486592    0.836071    0.477990   14.526497   \n",
       "min       1.000000    0.000000    1.000000    0.000000    0.420000   \n",
       "25%     223.500000    0.000000    2.000000    0.000000   20.125000   \n",
       "50%     446.000000    0.000000    3.000000    1.000000   28.000000   \n",
       "75%     668.500000    1.000000    3.000000    1.000000   38.000000   \n",
       "max     891.000000    1.000000    3.000000    1.000000   80.000000   \n",
       "\n",
       "            SibSp       Parch      Ticket        Fare       Cabin    Embarked  \\\n",
       "count  891.000000  891.000000  891.000000  891.000000  204.000000  889.000000   \n",
       "mean     0.523008    0.381594  338.528620   32.204208   76.000000    1.535433   \n",
       "std      1.102743    0.806057  200.850657   49.693429   42.233225    0.792088   \n",
       "min      0.000000    0.000000    0.000000    0.000000    0.000000    0.000000   \n",
       "25%      0.000000    0.000000  158.500000    7.910400   40.000000    1.000000   \n",
       "50%      0.000000    0.000000  337.000000   14.454200   75.000000    2.000000   \n",
       "75%      1.000000    0.000000  519.500000   31.000000  113.250000    2.000000   \n",
       "max      8.000000    6.000000  680.000000  512.329200  146.000000    2.000000   \n",
       "\n",
       "           prefix  \n",
       "count  891.000000  \n",
       "mean     9.347924  \n",
       "std      1.860936  \n",
       "min      0.000000  \n",
       "25%      7.000000  \n",
       "50%     10.000000  \n",
       "75%     10.000000  \n",
       "max     14.000000  "
      ]
     },
     "execution_count": 46,
     "metadata": {},
     "output_type": "execute_result"
    }
   ],
   "source": [
    "titanic.describe()"
   ]
  },
  {
   "cell_type": "code",
   "execution_count": 66,
   "id": "c3a2a42e",
   "metadata": {},
   "outputs": [],
   "source": [
    "mode_embarked = titanic['Embarked'].mode()\n",
    "titanic['Embarked'].fillna(value=0, inplace=True)"
   ]
  },
  {
   "cell_type": "code",
   "execution_count": 67,
   "id": "e27b897e",
   "metadata": {},
   "outputs": [],
   "source": [
    "# titanic[titanic['Embarked'].isna()]['Embarked'] = mode_embarked\n",
    "# titanic[titanic['Embarked'].isna()]"
   ]
  },
  {
   "cell_type": "code",
   "execution_count": 68,
   "id": "cd44b4ac",
   "metadata": {},
   "outputs": [
    {
     "name": "stdout",
     "output_type": "stream",
     "text": [
      "<class 'pandas.core.frame.DataFrame'>\n",
      "RangeIndex: 891 entries, 0 to 890\n",
      "Data columns (total 11 columns):\n",
      " #   Column       Non-Null Count  Dtype  \n",
      "---  ------       --------------  -----  \n",
      " 0   PassengerId  891 non-null    int64  \n",
      " 1   Survived     891 non-null    int64  \n",
      " 2   Pclass       891 non-null    int64  \n",
      " 3   Sex          891 non-null    float64\n",
      " 4   Age          891 non-null    float64\n",
      " 5   SibSp        891 non-null    int64  \n",
      " 6   Parch        891 non-null    int64  \n",
      " 7   Ticket       891 non-null    float64\n",
      " 8   Fare         891 non-null    float64\n",
      " 9   Embarked     891 non-null    float64\n",
      " 10  prefix       891 non-null    float64\n",
      "dtypes: float64(6), int64(5)\n",
      "memory usage: 76.7 KB\n"
     ]
    }
   ],
   "source": [
    "titanic.info()"
   ]
  },
  {
   "cell_type": "code",
   "execution_count": 20,
   "id": "7aa24455",
   "metadata": {},
   "outputs": [],
   "source": [
    "from sklearn.tree import DecisionTreeClassifier"
   ]
  },
  {
   "cell_type": "code",
   "execution_count": 21,
   "id": "30ec9e97",
   "metadata": {},
   "outputs": [],
   "source": [
    "baseline = pd.read_csv('gender_submission.csv')"
   ]
  },
  {
   "cell_type": "code",
   "execution_count": 27,
   "id": "ea1cac1c",
   "metadata": {},
   "outputs": [],
   "source": [
    "tree = DecisionTreeClassifier()"
   ]
  },
  {
   "cell_type": "code",
   "execution_count": 69,
   "id": "d409150e",
   "metadata": {},
   "outputs": [],
   "source": [
    "X = titanic.drop('Survived', axis=1)\n",
    "y = titanic['Survived']\n",
    "X_train, X_test, y_train, y_test = train_test_split(X, y, test_size=0.3)"
   ]
  },
  {
   "cell_type": "code",
   "execution_count": 70,
   "id": "ac9c97b0",
   "metadata": {},
   "outputs": [
    {
     "data": {
      "text/plain": [
       "DecisionTreeClassifier()"
      ]
     },
     "execution_count": 70,
     "metadata": {},
     "output_type": "execute_result"
    }
   ],
   "source": [
    "tree.fit(X_train, y_train)"
   ]
  },
  {
   "cell_type": "code",
   "execution_count": 71,
   "id": "b84d0588",
   "metadata": {},
   "outputs": [],
   "source": [
    "predictions = tree.predict(X_test)"
   ]
  },
  {
   "cell_type": "code",
   "execution_count": 72,
   "id": "794a5d56",
   "metadata": {},
   "outputs": [
    {
     "name": "stdout",
     "output_type": "stream",
     "text": [
      "[[138  33]\n",
      " [ 34  63]]\n",
      "              precision    recall  f1-score   support\n",
      "\n",
      "           0       0.80      0.81      0.80       171\n",
      "           1       0.66      0.65      0.65        97\n",
      "\n",
      "    accuracy                           0.75       268\n",
      "   macro avg       0.73      0.73      0.73       268\n",
      "weighted avg       0.75      0.75      0.75       268\n",
      "\n"
     ]
    }
   ],
   "source": [
    "print(confusion_matrix(y_test, predictions))\n",
    "print(classification_report(y_test, predictions))"
   ]
  },
  {
   "cell_type": "code",
   "execution_count": 91,
   "id": "843349a5",
   "metadata": {},
   "outputs": [],
   "source": [
    "from sklearn.ensemble import RandomForestClassifier"
   ]
  },
  {
   "cell_type": "code",
   "execution_count": 92,
   "id": "577ac292",
   "metadata": {},
   "outputs": [],
   "source": [
    "from sklearn.linear_model import LogisticRegression"
   ]
  },
  {
   "cell_type": "code",
   "execution_count": 93,
   "id": "fbf8423a",
   "metadata": {},
   "outputs": [],
   "source": [
    "rf = RandomForestClassifier()"
   ]
  },
  {
   "cell_type": "code",
   "execution_count": 78,
   "id": "6b98cddc",
   "metadata": {},
   "outputs": [
    {
     "name": "stdout",
     "output_type": "stream",
     "text": [
      "[[150  17]\n",
      " [ 27  74]]\n",
      "              precision    recall  f1-score   support\n",
      "\n",
      "           0       0.85      0.90      0.87       167\n",
      "           1       0.81      0.73      0.77       101\n",
      "\n",
      "    accuracy                           0.84       268\n",
      "   macro avg       0.83      0.82      0.82       268\n",
      "weighted avg       0.83      0.84      0.83       268\n",
      "\n"
     ]
    }
   ],
   "source": [
    "X = titanic.drop('Survived', axis=1)\n",
    "y = titanic['Survived']\n",
    "X_train, X_test, y_train, y_test = train_test_split(X, y, test_size=0.3)\n",
    "\n",
    "rf.fit(X_train, y_train)\n",
    "\n",
    "predictions = rf.predict(X_test)\n",
    "\n",
    "print(confusion_matrix(y_test, predictions))\n",
    "print(classification_report(y_test, predictions))"
   ]
  },
  {
   "cell_type": "code",
   "execution_count": 80,
   "id": "f70864ba",
   "metadata": {},
   "outputs": [
    {
     "data": {
      "text/html": [
       "<div>\n",
       "<style scoped>\n",
       "    .dataframe tbody tr th:only-of-type {\n",
       "        vertical-align: middle;\n",
       "    }\n",
       "\n",
       "    .dataframe tbody tr th {\n",
       "        vertical-align: top;\n",
       "    }\n",
       "\n",
       "    .dataframe thead th {\n",
       "        text-align: right;\n",
       "    }\n",
       "</style>\n",
       "<table border=\"1\" class=\"dataframe\">\n",
       "  <thead>\n",
       "    <tr style=\"text-align: right;\">\n",
       "      <th></th>\n",
       "      <th>PassengerId</th>\n",
       "      <th>Survived</th>\n",
       "    </tr>\n",
       "  </thead>\n",
       "  <tbody>\n",
       "    <tr>\n",
       "      <th>0</th>\n",
       "      <td>892</td>\n",
       "      <td>0</td>\n",
       "    </tr>\n",
       "    <tr>\n",
       "      <th>1</th>\n",
       "      <td>893</td>\n",
       "      <td>1</td>\n",
       "    </tr>\n",
       "    <tr>\n",
       "      <th>2</th>\n",
       "      <td>894</td>\n",
       "      <td>0</td>\n",
       "    </tr>\n",
       "    <tr>\n",
       "      <th>3</th>\n",
       "      <td>895</td>\n",
       "      <td>0</td>\n",
       "    </tr>\n",
       "    <tr>\n",
       "      <th>4</th>\n",
       "      <td>896</td>\n",
       "      <td>1</td>\n",
       "    </tr>\n",
       "    <tr>\n",
       "      <th>...</th>\n",
       "      <td>...</td>\n",
       "      <td>...</td>\n",
       "    </tr>\n",
       "    <tr>\n",
       "      <th>413</th>\n",
       "      <td>1305</td>\n",
       "      <td>0</td>\n",
       "    </tr>\n",
       "    <tr>\n",
       "      <th>414</th>\n",
       "      <td>1306</td>\n",
       "      <td>1</td>\n",
       "    </tr>\n",
       "    <tr>\n",
       "      <th>415</th>\n",
       "      <td>1307</td>\n",
       "      <td>0</td>\n",
       "    </tr>\n",
       "    <tr>\n",
       "      <th>416</th>\n",
       "      <td>1308</td>\n",
       "      <td>0</td>\n",
       "    </tr>\n",
       "    <tr>\n",
       "      <th>417</th>\n",
       "      <td>1309</td>\n",
       "      <td>0</td>\n",
       "    </tr>\n",
       "  </tbody>\n",
       "</table>\n",
       "<p>418 rows × 2 columns</p>\n",
       "</div>"
      ],
      "text/plain": [
       "     PassengerId  Survived\n",
       "0            892         0\n",
       "1            893         1\n",
       "2            894         0\n",
       "3            895         0\n",
       "4            896         1\n",
       "..           ...       ...\n",
       "413         1305         0\n",
       "414         1306         1\n",
       "415         1307         0\n",
       "416         1308         0\n",
       "417         1309         0\n",
       "\n",
       "[418 rows x 2 columns]"
      ]
     },
     "execution_count": 80,
     "metadata": {},
     "output_type": "execute_result"
    }
   ],
   "source": [
    "baseline"
   ]
  },
  {
   "cell_type": "code",
   "execution_count": 82,
   "id": "83be9d78",
   "metadata": {},
   "outputs": [
    {
     "data": {
      "text/html": [
       "<div>\n",
       "<style scoped>\n",
       "    .dataframe tbody tr th:only-of-type {\n",
       "        vertical-align: middle;\n",
       "    }\n",
       "\n",
       "    .dataframe tbody tr th {\n",
       "        vertical-align: top;\n",
       "    }\n",
       "\n",
       "    .dataframe thead th {\n",
       "        text-align: right;\n",
       "    }\n",
       "</style>\n",
       "<table border=\"1\" class=\"dataframe\">\n",
       "  <thead>\n",
       "    <tr style=\"text-align: right;\">\n",
       "      <th></th>\n",
       "      <th>PassengerId</th>\n",
       "      <th>Pclass</th>\n",
       "      <th>Name</th>\n",
       "      <th>Sex</th>\n",
       "      <th>Age</th>\n",
       "      <th>SibSp</th>\n",
       "      <th>Parch</th>\n",
       "      <th>Ticket</th>\n",
       "      <th>Fare</th>\n",
       "      <th>Cabin</th>\n",
       "      <th>Embarked</th>\n",
       "    </tr>\n",
       "  </thead>\n",
       "  <tbody>\n",
       "    <tr>\n",
       "      <th>0</th>\n",
       "      <td>892</td>\n",
       "      <td>3</td>\n",
       "      <td>Kelly, Mr. James</td>\n",
       "      <td>male</td>\n",
       "      <td>34.5</td>\n",
       "      <td>0</td>\n",
       "      <td>0</td>\n",
       "      <td>330911</td>\n",
       "      <td>7.8292</td>\n",
       "      <td>NaN</td>\n",
       "      <td>Q</td>\n",
       "    </tr>\n",
       "    <tr>\n",
       "      <th>1</th>\n",
       "      <td>893</td>\n",
       "      <td>3</td>\n",
       "      <td>Wilkes, Mrs. James (Ellen Needs)</td>\n",
       "      <td>female</td>\n",
       "      <td>47.0</td>\n",
       "      <td>1</td>\n",
       "      <td>0</td>\n",
       "      <td>363272</td>\n",
       "      <td>7.0000</td>\n",
       "      <td>NaN</td>\n",
       "      <td>S</td>\n",
       "    </tr>\n",
       "    <tr>\n",
       "      <th>2</th>\n",
       "      <td>894</td>\n",
       "      <td>2</td>\n",
       "      <td>Myles, Mr. Thomas Francis</td>\n",
       "      <td>male</td>\n",
       "      <td>62.0</td>\n",
       "      <td>0</td>\n",
       "      <td>0</td>\n",
       "      <td>240276</td>\n",
       "      <td>9.6875</td>\n",
       "      <td>NaN</td>\n",
       "      <td>Q</td>\n",
       "    </tr>\n",
       "    <tr>\n",
       "      <th>3</th>\n",
       "      <td>895</td>\n",
       "      <td>3</td>\n",
       "      <td>Wirz, Mr. Albert</td>\n",
       "      <td>male</td>\n",
       "      <td>27.0</td>\n",
       "      <td>0</td>\n",
       "      <td>0</td>\n",
       "      <td>315154</td>\n",
       "      <td>8.6625</td>\n",
       "      <td>NaN</td>\n",
       "      <td>S</td>\n",
       "    </tr>\n",
       "    <tr>\n",
       "      <th>4</th>\n",
       "      <td>896</td>\n",
       "      <td>3</td>\n",
       "      <td>Hirvonen, Mrs. Alexander (Helga E Lindqvist)</td>\n",
       "      <td>female</td>\n",
       "      <td>22.0</td>\n",
       "      <td>1</td>\n",
       "      <td>1</td>\n",
       "      <td>3101298</td>\n",
       "      <td>12.2875</td>\n",
       "      <td>NaN</td>\n",
       "      <td>S</td>\n",
       "    </tr>\n",
       "  </tbody>\n",
       "</table>\n",
       "</div>"
      ],
      "text/plain": [
       "   PassengerId  Pclass                                          Name     Sex  \\\n",
       "0          892       3                              Kelly, Mr. James    male   \n",
       "1          893       3              Wilkes, Mrs. James (Ellen Needs)  female   \n",
       "2          894       2                     Myles, Mr. Thomas Francis    male   \n",
       "3          895       3                              Wirz, Mr. Albert    male   \n",
       "4          896       3  Hirvonen, Mrs. Alexander (Helga E Lindqvist)  female   \n",
       "\n",
       "    Age  SibSp  Parch   Ticket     Fare Cabin Embarked  \n",
       "0  34.5      0      0   330911   7.8292   NaN        Q  \n",
       "1  47.0      1      0   363272   7.0000   NaN        S  \n",
       "2  62.0      0      0   240276   9.6875   NaN        Q  \n",
       "3  27.0      0      0   315154   8.6625   NaN        S  \n",
       "4  22.0      1      1  3101298  12.2875   NaN        S  "
      ]
     },
     "execution_count": 82,
     "metadata": {},
     "output_type": "execute_result"
    }
   ],
   "source": [
    "test.head()"
   ]
  },
  {
   "cell_type": "code",
   "execution_count": 83,
   "id": "a0d926da",
   "metadata": {},
   "outputs": [],
   "source": [
    "test['prefix'] = test['Name'].apply(prefix_name)\n",
    "test[['Sex','Ticket','Cabin', 'Embarked', 'prefix']] = ordenc.fit_transform(\n",
    "    test[['Sex','Ticket','Cabin', 'Embarked', 'prefix']])\n",
    "test.drop('Name', axis=1, inplace=True)\n",
    "test['Age'].fillna(value=age_mean, inplace=True)\n",
    "test.drop('Cabin', axis=1, inplace=True)\n",
    "test['Embarked'].fillna(value=0, inplace=True)"
   ]
  },
  {
   "cell_type": "code",
   "execution_count": 87,
   "id": "d1930762",
   "metadata": {},
   "outputs": [],
   "source": [
    "mean_fare = test['Fare'].mean()\n",
    "test['Fare'].fillna(value=mean_fare, inplace=True)"
   ]
  },
  {
   "cell_type": "code",
   "execution_count": 88,
   "id": "fefe9a7a",
   "metadata": {},
   "outputs": [
    {
     "name": "stdout",
     "output_type": "stream",
     "text": [
      "<class 'pandas.core.frame.DataFrame'>\n",
      "RangeIndex: 418 entries, 0 to 417\n",
      "Data columns (total 10 columns):\n",
      " #   Column       Non-Null Count  Dtype  \n",
      "---  ------       --------------  -----  \n",
      " 0   PassengerId  418 non-null    int64  \n",
      " 1   Pclass       418 non-null    int64  \n",
      " 2   Sex          418 non-null    float64\n",
      " 3   Age          418 non-null    float64\n",
      " 4   SibSp        418 non-null    int64  \n",
      " 5   Parch        418 non-null    int64  \n",
      " 6   Ticket       418 non-null    float64\n",
      " 7   Fare         418 non-null    float64\n",
      " 8   Embarked     418 non-null    float64\n",
      " 9   prefix       418 non-null    float64\n",
      "dtypes: float64(6), int64(4)\n",
      "memory usage: 32.8 KB\n"
     ]
    }
   ],
   "source": [
    "test.info()"
   ]
  },
  {
   "cell_type": "code",
   "execution_count": 89,
   "id": "b96b5cd3",
   "metadata": {},
   "outputs": [],
   "source": [
    "my_submit = rf.predict(test)"
   ]
  },
  {
   "cell_type": "code",
   "execution_count": 104,
   "id": "af1e49b2",
   "metadata": {},
   "outputs": [],
   "source": [
    "submit = pd.DataFrame(my_submit, columns=['Survived'], index=test['PassengerId'])"
   ]
  },
  {
   "cell_type": "code",
   "execution_count": 105,
   "id": "2b40d45f",
   "metadata": {},
   "outputs": [],
   "source": [
    "submit.reset_index(inplace=True)"
   ]
  },
  {
   "cell_type": "code",
   "execution_count": 106,
   "id": "66625520",
   "metadata": {
    "scrolled": true
   },
   "outputs": [
    {
     "data": {
      "text/html": [
       "<div>\n",
       "<style scoped>\n",
       "    .dataframe tbody tr th:only-of-type {\n",
       "        vertical-align: middle;\n",
       "    }\n",
       "\n",
       "    .dataframe tbody tr th {\n",
       "        vertical-align: top;\n",
       "    }\n",
       "\n",
       "    .dataframe thead th {\n",
       "        text-align: right;\n",
       "    }\n",
       "</style>\n",
       "<table border=\"1\" class=\"dataframe\">\n",
       "  <thead>\n",
       "    <tr style=\"text-align: right;\">\n",
       "      <th></th>\n",
       "      <th>PassengerId</th>\n",
       "      <th>Survived</th>\n",
       "    </tr>\n",
       "  </thead>\n",
       "  <tbody>\n",
       "    <tr>\n",
       "      <th>0</th>\n",
       "      <td>892</td>\n",
       "      <td>0</td>\n",
       "    </tr>\n",
       "    <tr>\n",
       "      <th>1</th>\n",
       "      <td>893</td>\n",
       "      <td>0</td>\n",
       "    </tr>\n",
       "    <tr>\n",
       "      <th>2</th>\n",
       "      <td>894</td>\n",
       "      <td>0</td>\n",
       "    </tr>\n",
       "    <tr>\n",
       "      <th>3</th>\n",
       "      <td>895</td>\n",
       "      <td>0</td>\n",
       "    </tr>\n",
       "    <tr>\n",
       "      <th>4</th>\n",
       "      <td>896</td>\n",
       "      <td>1</td>\n",
       "    </tr>\n",
       "    <tr>\n",
       "      <th>...</th>\n",
       "      <td>...</td>\n",
       "      <td>...</td>\n",
       "    </tr>\n",
       "    <tr>\n",
       "      <th>413</th>\n",
       "      <td>1305</td>\n",
       "      <td>0</td>\n",
       "    </tr>\n",
       "    <tr>\n",
       "      <th>414</th>\n",
       "      <td>1306</td>\n",
       "      <td>1</td>\n",
       "    </tr>\n",
       "    <tr>\n",
       "      <th>415</th>\n",
       "      <td>1307</td>\n",
       "      <td>0</td>\n",
       "    </tr>\n",
       "    <tr>\n",
       "      <th>416</th>\n",
       "      <td>1308</td>\n",
       "      <td>0</td>\n",
       "    </tr>\n",
       "    <tr>\n",
       "      <th>417</th>\n",
       "      <td>1309</td>\n",
       "      <td>1</td>\n",
       "    </tr>\n",
       "  </tbody>\n",
       "</table>\n",
       "<p>418 rows × 2 columns</p>\n",
       "</div>"
      ],
      "text/plain": [
       "     PassengerId  Survived\n",
       "0            892         0\n",
       "1            893         0\n",
       "2            894         0\n",
       "3            895         0\n",
       "4            896         1\n",
       "..           ...       ...\n",
       "413         1305         0\n",
       "414         1306         1\n",
       "415         1307         0\n",
       "416         1308         0\n",
       "417         1309         1\n",
       "\n",
       "[418 rows x 2 columns]"
      ]
     },
     "execution_count": 106,
     "metadata": {},
     "output_type": "execute_result"
    }
   ],
   "source": [
    "submit"
   ]
  },
  {
   "cell_type": "code",
   "execution_count": 107,
   "id": "3dfc1c4c",
   "metadata": {},
   "outputs": [],
   "source": [
    "submit.to_csv('submit.csv')"
   ]
  },
  {
   "cell_type": "markdown",
   "id": "1dcc0a7c",
   "metadata": {},
   "source": [
    "This ended my first try"
   ]
  },
  {
   "cell_type": "markdown",
   "id": "7ec1c2d0",
   "metadata": {},
   "source": [
    "## Second try"
   ]
  },
  {
   "cell_type": "code",
   "execution_count": 14,
   "id": "bdc26485",
   "metadata": {},
   "outputs": [],
   "source": [
    "titanic = pd.get_dummies(data=titanic, columns=['SibSp','Sex','Pclass','Parch','Embarked','prefix'])"
   ]
  },
  {
   "cell_type": "code",
   "execution_count": 18,
   "id": "49a8745c",
   "metadata": {},
   "outputs": [],
   "source": [
    "from sklearn.linear_model import LogisticRegression"
   ]
  },
  {
   "cell_type": "code",
   "execution_count": 19,
   "id": "34db85e2",
   "metadata": {},
   "outputs": [],
   "source": [
    "lg = LogisticRegression()"
   ]
  },
  {
   "cell_type": "code",
   "execution_count": 23,
   "id": "3ed453ed",
   "metadata": {},
   "outputs": [
    {
     "name": "stdout",
     "output_type": "stream",
     "text": [
      "[[157  22]\n",
      " [ 18  71]]\n",
      "              precision    recall  f1-score   support\n",
      "\n",
      "           0       0.90      0.88      0.89       179\n",
      "           1       0.76      0.80      0.78        89\n",
      "\n",
      "    accuracy                           0.85       268\n",
      "   macro avg       0.83      0.84      0.83       268\n",
      "weighted avg       0.85      0.85      0.85       268\n",
      "\n"
     ]
    },
    {
     "name": "stderr",
     "output_type": "stream",
     "text": [
      "C:\\ProgramData\\Miniconda3\\lib\\site-packages\\sklearn\\linear_model\\_logistic.py:818: ConvergenceWarning: lbfgs failed to converge (status=1):\n",
      "STOP: TOTAL NO. of ITERATIONS REACHED LIMIT.\n",
      "\n",
      "Increase the number of iterations (max_iter) or scale the data as shown in:\n",
      "    https://scikit-learn.org/stable/modules/preprocessing.html\n",
      "Please also refer to the documentation for alternative solver options:\n",
      "    https://scikit-learn.org/stable/modules/linear_model.html#logistic-regression\n",
      "  extra_warning_msg=_LOGISTIC_SOLVER_CONVERGENCE_MSG,\n"
     ]
    }
   ],
   "source": [
    "X = titanic.drop(['Survived', 'PassengerId'], axis=1)\n",
    "y = titanic['Survived']\n",
    "X_train, X_test, y_train, y_test = train_test_split(X, y, test_size=0.3)\n",
    "\n",
    "lg.fit(X_train, y_train)\n",
    "\n",
    "predictions = lg.predict(X_test)\n",
    "\n",
    "print(confusion_matrix(y_test, predictions))\n",
    "print(classification_report(y_test, predictions))"
   ]
  },
  {
   "cell_type": "markdown",
   "id": "ac7c47cc",
   "metadata": {},
   "source": [
    "### Ttying to add some noise :)"
   ]
  },
  {
   "cell_type": "code",
   "execution_count": 51,
   "id": "5313364f",
   "metadata": {},
   "outputs": [
    {
     "name": "stdout",
     "output_type": "stream",
     "text": [
      "0.08208955223880597\n"
     ]
    }
   ],
   "source": [
    "size = len(predictions)\n",
    "# predictions = \n",
    "def add_noise(l, coin=0.1):\n",
    "    noise = np.random.binomial(n=1,p=coin)\n",
    "    if noise:\n",
    "        return np.abs(1-l)\n",
    "    else:\n",
    "        return l\n",
    "v_add_noise = np.vectorize(add_noise)    \n",
    "\n",
    "print(np.sum(np.abs(np.subtract(predictions,v_add_noise(predictions))))/size)"
   ]
  },
  {
   "cell_type": "markdown",
   "id": "aa9be8cd",
   "metadata": {},
   "source": [
    "noisy_predictions = v_add_noise(predictions)"
   ]
  },
  {
   "cell_type": "code",
   "execution_count": 53,
   "id": "218b88a9",
   "metadata": {},
   "outputs": [
    {
     "name": "stdout",
     "output_type": "stream",
     "text": [
      "[[144  35]\n",
      " [ 25  64]]\n",
      "              precision    recall  f1-score   support\n",
      "\n",
      "           0       0.85      0.80      0.83       179\n",
      "           1       0.65      0.72      0.68        89\n",
      "\n",
      "    accuracy                           0.78       268\n",
      "   macro avg       0.75      0.76      0.75       268\n",
      "weighted avg       0.78      0.78      0.78       268\n",
      "\n"
     ]
    }
   ],
   "source": [
    "print(confusion_matrix(y_test, noisy_predictions))\n",
    "print(classification_report(y_test, noisy_predictions))"
   ]
  },
  {
   "cell_type": "markdown",
   "id": "97b0cc2d",
   "metadata": {},
   "source": [
    "Well nevermind :)"
   ]
  },
  {
   "cell_type": "markdown",
   "id": "031ed5b6",
   "metadata": {},
   "source": [
    "### Scaling the data"
   ]
  },
  {
   "cell_type": "code",
   "execution_count": 54,
   "id": "95baa79c",
   "metadata": {},
   "outputs": [],
   "source": [
    "from sklearn.preprocessing import StandardScaler"
   ]
  },
  {
   "cell_type": "code",
   "execution_count": 55,
   "id": "cb1bfd17",
   "metadata": {},
   "outputs": [],
   "source": [
    "scaler = StandardScaler().fit(X_train)"
   ]
  },
  {
   "cell_type": "code",
   "execution_count": 56,
   "id": "7808f339",
   "metadata": {},
   "outputs": [],
   "source": [
    "X_scaled = scaler.transform(X_train)"
   ]
  },
  {
   "cell_type": "code",
   "execution_count": 57,
   "id": "d349972e",
   "metadata": {},
   "outputs": [
    {
     "name": "stdout",
     "output_type": "stream",
     "text": [
      "[[155  24]\n",
      " [ 21  68]]\n",
      "              precision    recall  f1-score   support\n",
      "\n",
      "           0       0.88      0.87      0.87       179\n",
      "           1       0.74      0.76      0.75        89\n",
      "\n",
      "    accuracy                           0.83       268\n",
      "   macro avg       0.81      0.81      0.81       268\n",
      "weighted avg       0.83      0.83      0.83       268\n",
      "\n"
     ]
    }
   ],
   "source": [
    "lg.fit(X_scaled, y_train)\n",
    "\n",
    "X_test_scaled = scaler.transform(X_test)\n",
    "predictions = lg.predict(X_test_scaled)\n",
    "\n",
    "print(confusion_matrix(y_test, predictions))\n",
    "print(classification_report(y_test, predictions))"
   ]
  },
  {
   "cell_type": "markdown",
   "id": "a886e270",
   "metadata": {},
   "source": [
    "### Now put it all together"
   ]
  },
  {
   "cell_type": "code",
   "execution_count": 63,
   "id": "4860f30c",
   "metadata": {},
   "outputs": [],
   "source": [
    "test['prefix'] = test['Name'].apply(prefix_name)\n",
    "test.drop('Name', axis=1, inplace=True)\n",
    "test['Age'].fillna(value=age_mean, inplace=True)\n",
    "test.drop('Cabin', axis=1, inplace=True)\n",
    "test['Embarked'].fillna(value=0, inplace=True)\n",
    "mean_fare = test['Fare'].mean()\n",
    "test['Fare'].fillna(value=mean_fare, inplace=True)\n",
    "\n",
    "test = pd.get_dummies(data=test, columns=['SibSp','Sex','Pclass','Parch','Embarked','prefix'])"
   ]
  },
  {
   "cell_type": "code",
   "execution_count": 65,
   "id": "ee9d88af",
   "metadata": {},
   "outputs": [],
   "source": [
    "test.drop('Ticket', axis=1, inplace=True)"
   ]
  },
  {
   "cell_type": "code",
   "execution_count": 66,
   "id": "f0627f2b",
   "metadata": {},
   "outputs": [
    {
     "data": {
      "text/html": [
       "<div>\n",
       "<style scoped>\n",
       "    .dataframe tbody tr th:only-of-type {\n",
       "        vertical-align: middle;\n",
       "    }\n",
       "\n",
       "    .dataframe tbody tr th {\n",
       "        vertical-align: top;\n",
       "    }\n",
       "\n",
       "    .dataframe thead th {\n",
       "        text-align: right;\n",
       "    }\n",
       "</style>\n",
       "<table border=\"1\" class=\"dataframe\">\n",
       "  <thead>\n",
       "    <tr style=\"text-align: right;\">\n",
       "      <th></th>\n",
       "      <th>PassengerId</th>\n",
       "      <th>Age</th>\n",
       "      <th>Fare</th>\n",
       "      <th>SibSp_0</th>\n",
       "      <th>SibSp_1</th>\n",
       "      <th>SibSp_2</th>\n",
       "      <th>SibSp_3</th>\n",
       "      <th>SibSp_4</th>\n",
       "      <th>SibSp_5</th>\n",
       "      <th>SibSp_8</th>\n",
       "      <th>...</th>\n",
       "      <th>Embarked_S</th>\n",
       "      <th>prefix_Col.</th>\n",
       "      <th>prefix_Dr.</th>\n",
       "      <th>prefix_Master.</th>\n",
       "      <th>prefix_Miss.</th>\n",
       "      <th>prefix_Mr.</th>\n",
       "      <th>prefix_Mrs.</th>\n",
       "      <th>prefix_Ms.</th>\n",
       "      <th>prefix_None</th>\n",
       "      <th>prefix_Rev.</th>\n",
       "    </tr>\n",
       "  </thead>\n",
       "  <tbody>\n",
       "    <tr>\n",
       "      <th>0</th>\n",
       "      <td>892</td>\n",
       "      <td>34.5</td>\n",
       "      <td>7.8292</td>\n",
       "      <td>1</td>\n",
       "      <td>0</td>\n",
       "      <td>0</td>\n",
       "      <td>0</td>\n",
       "      <td>0</td>\n",
       "      <td>0</td>\n",
       "      <td>0</td>\n",
       "      <td>...</td>\n",
       "      <td>0</td>\n",
       "      <td>0</td>\n",
       "      <td>0</td>\n",
       "      <td>0</td>\n",
       "      <td>0</td>\n",
       "      <td>1</td>\n",
       "      <td>0</td>\n",
       "      <td>0</td>\n",
       "      <td>0</td>\n",
       "      <td>0</td>\n",
       "    </tr>\n",
       "    <tr>\n",
       "      <th>1</th>\n",
       "      <td>893</td>\n",
       "      <td>47.0</td>\n",
       "      <td>7.0000</td>\n",
       "      <td>0</td>\n",
       "      <td>1</td>\n",
       "      <td>0</td>\n",
       "      <td>0</td>\n",
       "      <td>0</td>\n",
       "      <td>0</td>\n",
       "      <td>0</td>\n",
       "      <td>...</td>\n",
       "      <td>1</td>\n",
       "      <td>0</td>\n",
       "      <td>0</td>\n",
       "      <td>0</td>\n",
       "      <td>0</td>\n",
       "      <td>0</td>\n",
       "      <td>1</td>\n",
       "      <td>0</td>\n",
       "      <td>0</td>\n",
       "      <td>0</td>\n",
       "    </tr>\n",
       "    <tr>\n",
       "      <th>2</th>\n",
       "      <td>894</td>\n",
       "      <td>62.0</td>\n",
       "      <td>9.6875</td>\n",
       "      <td>1</td>\n",
       "      <td>0</td>\n",
       "      <td>0</td>\n",
       "      <td>0</td>\n",
       "      <td>0</td>\n",
       "      <td>0</td>\n",
       "      <td>0</td>\n",
       "      <td>...</td>\n",
       "      <td>0</td>\n",
       "      <td>0</td>\n",
       "      <td>0</td>\n",
       "      <td>0</td>\n",
       "      <td>0</td>\n",
       "      <td>1</td>\n",
       "      <td>0</td>\n",
       "      <td>0</td>\n",
       "      <td>0</td>\n",
       "      <td>0</td>\n",
       "    </tr>\n",
       "    <tr>\n",
       "      <th>3</th>\n",
       "      <td>895</td>\n",
       "      <td>27.0</td>\n",
       "      <td>8.6625</td>\n",
       "      <td>1</td>\n",
       "      <td>0</td>\n",
       "      <td>0</td>\n",
       "      <td>0</td>\n",
       "      <td>0</td>\n",
       "      <td>0</td>\n",
       "      <td>0</td>\n",
       "      <td>...</td>\n",
       "      <td>1</td>\n",
       "      <td>0</td>\n",
       "      <td>0</td>\n",
       "      <td>0</td>\n",
       "      <td>0</td>\n",
       "      <td>1</td>\n",
       "      <td>0</td>\n",
       "      <td>0</td>\n",
       "      <td>0</td>\n",
       "      <td>0</td>\n",
       "    </tr>\n",
       "    <tr>\n",
       "      <th>4</th>\n",
       "      <td>896</td>\n",
       "      <td>22.0</td>\n",
       "      <td>12.2875</td>\n",
       "      <td>0</td>\n",
       "      <td>1</td>\n",
       "      <td>0</td>\n",
       "      <td>0</td>\n",
       "      <td>0</td>\n",
       "      <td>0</td>\n",
       "      <td>0</td>\n",
       "      <td>...</td>\n",
       "      <td>1</td>\n",
       "      <td>0</td>\n",
       "      <td>0</td>\n",
       "      <td>0</td>\n",
       "      <td>0</td>\n",
       "      <td>0</td>\n",
       "      <td>1</td>\n",
       "      <td>0</td>\n",
       "      <td>0</td>\n",
       "      <td>0</td>\n",
       "    </tr>\n",
       "  </tbody>\n",
       "</table>\n",
       "<p>5 rows × 35 columns</p>\n",
       "</div>"
      ],
      "text/plain": [
       "   PassengerId   Age     Fare  SibSp_0  SibSp_1  SibSp_2  SibSp_3  SibSp_4  \\\n",
       "0          892  34.5   7.8292        1        0        0        0        0   \n",
       "1          893  47.0   7.0000        0        1        0        0        0   \n",
       "2          894  62.0   9.6875        1        0        0        0        0   \n",
       "3          895  27.0   8.6625        1        0        0        0        0   \n",
       "4          896  22.0  12.2875        0        1        0        0        0   \n",
       "\n",
       "   SibSp_5  SibSp_8  ...  Embarked_S  prefix_Col.  prefix_Dr.  prefix_Master.  \\\n",
       "0        0        0  ...           0            0           0               0   \n",
       "1        0        0  ...           1            0           0               0   \n",
       "2        0        0  ...           0            0           0               0   \n",
       "3        0        0  ...           1            0           0               0   \n",
       "4        0        0  ...           1            0           0               0   \n",
       "\n",
       "   prefix_Miss.  prefix_Mr.  prefix_Mrs.  prefix_Ms.  prefix_None  prefix_Rev.  \n",
       "0             0           1            0           0            0            0  \n",
       "1             0           0            1           0            0            0  \n",
       "2             0           1            0           0            0            0  \n",
       "3             0           1            0           0            0            0  \n",
       "4             0           0            1           0            0            0  \n",
       "\n",
       "[5 rows x 35 columns]"
      ]
     },
     "execution_count": 66,
     "metadata": {},
     "output_type": "execute_result"
    }
   ],
   "source": [
    "test.head()"
   ]
  },
  {
   "cell_type": "code",
   "execution_count": null,
   "id": "1bc97f18",
   "metadata": {},
   "outputs": [],
   "source": [
    "scaler = StandardScaler().fit(X_train)"
   ]
  },
  {
   "cell_type": "markdown",
   "id": "8d75c9c2",
   "metadata": {},
   "source": [
    "## Third try"
   ]
  },
  {
   "cell_type": "code",
   "execution_count": 13,
   "id": "ec91c041",
   "metadata": {},
   "outputs": [],
   "source": [
    "from sklearn.tree import DecisionTreeClassifier"
   ]
  },
  {
   "cell_type": "code",
   "execution_count": 14,
   "id": "69ef523c",
   "metadata": {
    "scrolled": true
   },
   "outputs": [],
   "source": [
    "cat_feats = ['Sex', 'prefix']\n",
    "titanic = pd.get_dummies(titanic,columns=cat_feats,drop_first=True)"
   ]
  },
  {
   "cell_type": "code",
   "execution_count": 15,
   "id": "a53c1fec",
   "metadata": {},
   "outputs": [
    {
     "name": "stdout",
     "output_type": "stream",
     "text": [
      "<class 'pandas.core.frame.DataFrame'>\n",
      "RangeIndex: 891 entries, 0 to 890\n",
      "Data columns (total 11 columns):\n",
      " #   Column        Non-Null Count  Dtype  \n",
      "---  ------        --------------  -----  \n",
      " 0   Survived      891 non-null    int64  \n",
      " 1   Pclass        891 non-null    int64  \n",
      " 2   Age           891 non-null    float64\n",
      " 3   SibSp         891 non-null    int64  \n",
      " 4   Parch         891 non-null    int64  \n",
      " 5   Fare          891 non-null    float64\n",
      " 6   Sex_male      891 non-null    uint8  \n",
      " 7   prefix_Miss.  891 non-null    uint8  \n",
      " 8   prefix_Mr.    891 non-null    uint8  \n",
      " 9   prefix_Mrs.   891 non-null    uint8  \n",
      " 10  prefix_Other  891 non-null    uint8  \n",
      "dtypes: float64(2), int64(4), uint8(5)\n",
      "memory usage: 46.2 KB\n"
     ]
    }
   ],
   "source": [
    "titanic.info()"
   ]
  },
  {
   "cell_type": "code",
   "execution_count": 49,
   "id": "d38ce467",
   "metadata": {},
   "outputs": [],
   "source": [
    "depths = range(1,20)\n",
    "accuracies = []\n",
    "for d in depths:\n",
    "#     dt = DecisionTreeClassifier(max_depth=d)\n",
    "    dt = RandomForestClassifier(max_depth=d)\n",
    "\n",
    "    X = titanic.drop('Survived', axis=1)\n",
    "    y = titanic['Survived']\n",
    "    X_train, X_test, y_train, y_test = train_test_split(X, y, test_size=0.3)\n",
    "\n",
    "    dt.fit(X_train, y_train)\n",
    "\n",
    "    predictions = dt.predict(X_test)\n",
    "    \n",
    "    accuracies.append(accuracy_score(y_test, predictions))\n",
    "# print(confusion_matrix(y_test, predictions))\n",
    "# print(classification_report(y_test, predictions))"
   ]
  },
  {
   "cell_type": "code",
   "execution_count": 50,
   "id": "113a4127",
   "metadata": {},
   "outputs": [
    {
     "data": {
      "text/plain": [
       "[<matplotlib.lines.Line2D at 0x1e6a8ab7048>]"
      ]
     },
     "execution_count": 50,
     "metadata": {},
     "output_type": "execute_result"
    },
    {
     "data": {
      "image/png": "[encoded data removed]",
      "text/plain": [
       "<Figure size 432x288 with 1 Axes>"
      ]
     },
     "metadata": {
      "needs_background": "light"
     },
     "output_type": "display_data"
    }
   ],
   "source": [
    "plt.plot(depths, accuracies)"
   ]
  },
  {
   "cell_type": "code",
   "execution_count": 61,
   "id": "b96a1a68",
   "metadata": {},
   "outputs": [
    {
     "name": "stdout",
     "output_type": "stream",
     "text": [
      "0.835820895522388\n",
      "[[148  23]\n",
      " [ 21  76]]\n",
      "              precision    recall  f1-score   support\n",
      "\n",
      "           0       0.88      0.87      0.87       171\n",
      "           1       0.77      0.78      0.78        97\n",
      "\n",
      "    accuracy                           0.84       268\n",
      "   macro avg       0.82      0.82      0.82       268\n",
      "weighted avg       0.84      0.84      0.84       268\n",
      "\n"
     ]
    }
   ],
   "source": [
    "d = 5\n",
    "\n",
    "# dt = DecisionTreeClassifier(max_depth=d)\n",
    "dt = RandomForestClassifier(max_depth=d)\n",
    "\n",
    "X = titanic.drop('Survived', axis=1)\n",
    "y = titanic['Survived']\n",
    "X_train, X_test, y_train, y_test = train_test_split(X, y, test_size=0.3)\n",
    "\n",
    "dt.fit(X_train, y_train)\n",
    "\n",
    "predictions = dt.predict(X_test)\n",
    "\n",
    "print(accuracy_score(y_test, predictions))\n",
    "print(confusion_matrix(y_test, predictions))\n",
    "print(classification_report(y_test, predictions))"
   ]
  },
  {
   "cell_type": "markdown",
   "id": "5d332ee9",
   "metadata": {},
   "source": [
    "And now for the test"
   ]
  },
  {
   "cell_type": "code",
   "execution_count": 64,
   "id": "cad3d5e2",
   "metadata": {},
   "outputs": [],
   "source": [
    "test['prefix'] = test['Name'].apply(prefix_name)\n",
    "test.drop('Name', axis=1, inplace=True)\n",
    "test.drop('Cabin', axis=1, inplace=True)\n",
    "test.drop('Ticket', axis=1, inplace=True)\n",
    "# test.drop('PassengerId', axis=1, inplace=True)\n",
    "test.drop('Embarked', axis=1, inplace=True)\n",
    "test['Age'].fillna(value=age_mean, inplace=True)\n",
    "test = pd.get_dummies(test,columns=cat_feats,drop_first=True)"
   ]
  },
  {
   "cell_type": "code",
   "execution_count": 65,
   "id": "78da371a",
   "metadata": {},
   "outputs": [
    {
     "name": "stdout",
     "output_type": "stream",
     "text": [
      "<class 'pandas.core.frame.DataFrame'>\n",
      "RangeIndex: 418 entries, 0 to 417\n",
      "Data columns (total 11 columns):\n",
      " #   Column        Non-Null Count  Dtype  \n",
      "---  ------        --------------  -----  \n",
      " 0   PassengerId   418 non-null    int64  \n",
      " 1   Pclass        418 non-null    int64  \n",
      " 2   Age           418 non-null    float64\n",
      " 3   SibSp         418 non-null    int64  \n",
      " 4   Parch         418 non-null    int64  \n",
      " 5   Fare          417 non-null    float64\n",
      " 6   Sex_male      418 non-null    uint8  \n",
      " 7   prefix_Miss.  418 non-null    uint8  \n",
      " 8   prefix_Mr.    418 non-null    uint8  \n",
      " 9   prefix_Mrs.   418 non-null    uint8  \n",
      " 10  prefix_Other  418 non-null    uint8  \n",
      "dtypes: float64(2), int64(4), uint8(5)\n",
      "memory usage: 21.8 KB\n"
     ]
    }
   ],
   "source": [
    "test.info()"
   ]
  },
  {
   "cell_type": "code",
   "execution_count": 66,
   "id": "c45fba49",
   "metadata": {},
   "outputs": [],
   "source": [
    "fare_mean = titanic['Fare'].mean()\n",
    "test['Fare'].fillna(value=fare_mean, inplace=True)\n",
    "new_test = test.drop('PassengerId', axis=1)"
   ]
  },
  {
   "cell_type": "code",
   "execution_count": 67,
   "id": "8f63f1a5",
   "metadata": {},
   "outputs": [],
   "source": [
    "submission = dt.predict(new_test)"
   ]
  },
  {
   "cell_type": "code",
   "execution_count": 68,
   "id": "6e090fee",
   "metadata": {},
   "outputs": [
    {
     "data": {
      "text/html": [
       "<div>\n",
       "<style scoped>\n",
       "    .dataframe tbody tr th:only-of-type {\n",
       "        vertical-align: middle;\n",
       "    }\n",
       "\n",
       "    .dataframe tbody tr th {\n",
       "        vertical-align: top;\n",
       "    }\n",
       "\n",
       "    .dataframe thead th {\n",
       "        text-align: right;\n",
       "    }\n",
       "</style>\n",
       "<table border=\"1\" class=\"dataframe\">\n",
       "  <thead>\n",
       "    <tr style=\"text-align: right;\">\n",
       "      <th></th>\n",
       "      <th>PassengerId</th>\n",
       "      <th>Pclass</th>\n",
       "      <th>Age</th>\n",
       "      <th>SibSp</th>\n",
       "      <th>Parch</th>\n",
       "      <th>Fare</th>\n",
       "      <th>Sex_male</th>\n",
       "      <th>prefix_Miss.</th>\n",
       "      <th>prefix_Mr.</th>\n",
       "      <th>prefix_Mrs.</th>\n",
       "      <th>prefix_Other</th>\n",
       "    </tr>\n",
       "  </thead>\n",
       "  <tbody>\n",
       "    <tr>\n",
       "      <th>0</th>\n",
       "      <td>892</td>\n",
       "      <td>3</td>\n",
       "      <td>34.5</td>\n",
       "      <td>0</td>\n",
       "      <td>0</td>\n",
       "      <td>7.8292</td>\n",
       "      <td>1</td>\n",
       "      <td>0</td>\n",
       "      <td>1</td>\n",
       "      <td>0</td>\n",
       "      <td>0</td>\n",
       "    </tr>\n",
       "    <tr>\n",
       "      <th>1</th>\n",
       "      <td>893</td>\n",
       "      <td>3</td>\n",
       "      <td>47.0</td>\n",
       "      <td>1</td>\n",
       "      <td>0</td>\n",
       "      <td>7.0000</td>\n",
       "      <td>0</td>\n",
       "      <td>0</td>\n",
       "      <td>0</td>\n",
       "      <td>1</td>\n",
       "      <td>0</td>\n",
       "    </tr>\n",
       "    <tr>\n",
       "      <th>2</th>\n",
       "      <td>894</td>\n",
       "      <td>2</td>\n",
       "      <td>62.0</td>\n",
       "      <td>0</td>\n",
       "      <td>0</td>\n",
       "      <td>9.6875</td>\n",
       "      <td>1</td>\n",
       "      <td>0</td>\n",
       "      <td>1</td>\n",
       "      <td>0</td>\n",
       "      <td>0</td>\n",
       "    </tr>\n",
       "    <tr>\n",
       "      <th>3</th>\n",
       "      <td>895</td>\n",
       "      <td>3</td>\n",
       "      <td>27.0</td>\n",
       "      <td>0</td>\n",
       "      <td>0</td>\n",
       "      <td>8.6625</td>\n",
       "      <td>1</td>\n",
       "      <td>0</td>\n",
       "      <td>1</td>\n",
       "      <td>0</td>\n",
       "      <td>0</td>\n",
       "    </tr>\n",
       "    <tr>\n",
       "      <th>4</th>\n",
       "      <td>896</td>\n",
       "      <td>3</td>\n",
       "      <td>22.0</td>\n",
       "      <td>1</td>\n",
       "      <td>1</td>\n",
       "      <td>12.2875</td>\n",
       "      <td>0</td>\n",
       "      <td>0</td>\n",
       "      <td>0</td>\n",
       "      <td>1</td>\n",
       "      <td>0</td>\n",
       "    </tr>\n",
       "  </tbody>\n",
       "</table>\n",
       "</div>"
      ],
      "text/plain": [
       "   PassengerId  Pclass   Age  SibSp  Parch     Fare  Sex_male  prefix_Miss.  \\\n",
       "0          892       3  34.5      0      0   7.8292         1             0   \n",
       "1          893       3  47.0      1      0   7.0000         0             0   \n",
       "2          894       2  62.0      0      0   9.6875         1             0   \n",
       "3          895       3  27.0      0      0   8.6625         1             0   \n",
       "4          896       3  22.0      1      1  12.2875         0             0   \n",
       "\n",
       "   prefix_Mr.  prefix_Mrs.  prefix_Other  \n",
       "0           1            0             0  \n",
       "1           0            1             0  \n",
       "2           1            0             0  \n",
       "3           1            0             0  \n",
       "4           0            1             0  "
      ]
     },
     "execution_count": 68,
     "metadata": {},
     "output_type": "execute_result"
    }
   ],
   "source": [
    "test.head()"
   ]
  },
  {
   "cell_type": "code",
   "execution_count": 69,
   "id": "24e858e4",
   "metadata": {},
   "outputs": [],
   "source": [
    "submit = pd.DataFrame(submission, columns=['Survived'], index=test['PassengerId'])"
   ]
  },
  {
   "cell_type": "code",
   "execution_count": 70,
   "id": "1840f94e",
   "metadata": {},
   "outputs": [],
   "source": [
    "submit.reset_index(inplace=True)"
   ]
  },
  {
   "cell_type": "code",
   "execution_count": 71,
   "id": "911da56c",
   "metadata": {
    "scrolled": true
   },
   "outputs": [
    {
     "data": {
      "text/html": [
       "<div>\n",
       "<style scoped>\n",
       "    .dataframe tbody tr th:only-of-type {\n",
       "        vertical-align: middle;\n",
       "    }\n",
       "\n",
       "    .dataframe tbody tr th {\n",
       "        vertical-align: top;\n",
       "    }\n",
       "\n",
       "    .dataframe thead th {\n",
       "        text-align: right;\n",
       "    }\n",
       "</style>\n",
       "<table border=\"1\" class=\"dataframe\">\n",
       "  <thead>\n",
       "    <tr style=\"text-align: right;\">\n",
       "      <th></th>\n",
       "      <th>PassengerId</th>\n",
       "      <th>Survived</th>\n",
       "    </tr>\n",
       "  </thead>\n",
       "  <tbody>\n",
       "    <tr>\n",
       "      <th>0</th>\n",
       "      <td>892</td>\n",
       "      <td>0</td>\n",
       "    </tr>\n",
       "    <tr>\n",
       "      <th>1</th>\n",
       "      <td>893</td>\n",
       "      <td>0</td>\n",
       "    </tr>\n",
       "    <tr>\n",
       "      <th>2</th>\n",
       "      <td>894</td>\n",
       "      <td>0</td>\n",
       "    </tr>\n",
       "    <tr>\n",
       "      <th>3</th>\n",
       "      <td>895</td>\n",
       "      <td>0</td>\n",
       "    </tr>\n",
       "    <tr>\n",
       "      <th>4</th>\n",
       "      <td>896</td>\n",
       "      <td>1</td>\n",
       "    </tr>\n",
       "    <tr>\n",
       "      <th>...</th>\n",
       "      <td>...</td>\n",
       "      <td>...</td>\n",
       "    </tr>\n",
       "    <tr>\n",
       "      <th>413</th>\n",
       "      <td>1305</td>\n",
       "      <td>0</td>\n",
       "    </tr>\n",
       "    <tr>\n",
       "      <th>414</th>\n",
       "      <td>1306</td>\n",
       "      <td>1</td>\n",
       "    </tr>\n",
       "    <tr>\n",
       "      <th>415</th>\n",
       "      <td>1307</td>\n",
       "      <td>0</td>\n",
       "    </tr>\n",
       "    <tr>\n",
       "      <th>416</th>\n",
       "      <td>1308</td>\n",
       "      <td>0</td>\n",
       "    </tr>\n",
       "    <tr>\n",
       "      <th>417</th>\n",
       "      <td>1309</td>\n",
       "      <td>0</td>\n",
       "    </tr>\n",
       "  </tbody>\n",
       "</table>\n",
       "<p>418 rows × 2 columns</p>\n",
       "</div>"
      ],
      "text/plain": [
       "     PassengerId  Survived\n",
       "0            892         0\n",
       "1            893         0\n",
       "2            894         0\n",
       "3            895         0\n",
       "4            896         1\n",
       "..           ...       ...\n",
       "413         1305         0\n",
       "414         1306         1\n",
       "415         1307         0\n",
       "416         1308         0\n",
       "417         1309         0\n",
       "\n",
       "[418 rows x 2 columns]"
      ]
     },
     "execution_count": 71,
     "metadata": {},
     "output_type": "execute_result"
    }
   ],
   "source": [
    "submit"
   ]
  },
  {
   "cell_type": "code",
   "execution_count": 72,
   "id": "53fad2ba",
   "metadata": {},
   "outputs": [],
   "source": [
    "submit.to_csv('submit5.csv')"
   ]
  },
  {
   "cell_type": "markdown",
   "id": "fbd6a788",
   "metadata": {},
   "source": [
    "## Fourth try"
   ]
  },
  {
   "cell_type": "code",
   "execution_count": 13,
   "id": "57215af0",
   "metadata": {},
   "outputs": [],
   "source": [
    "from sklearn.svm import SVC"
   ]
  },
  {
   "cell_type": "code",
   "execution_count": 15,
   "id": "2c827a44",
   "metadata": {},
   "outputs": [],
   "source": [
    "cat_feats = ['Sex', 'Prefix']\n",
    "titanic = pd.get_dummies(titanic,columns=cat_feats,drop_first=True)"
   ]
  },
  {
   "cell_type": "code",
   "execution_count": 19,
   "id": "b7fa9af1",
   "metadata": {},
   "outputs": [],
   "source": [
    "X = titanic.drop('Survived', axis=1)\n",
    "y = titanic['Survived']\n",
    "X_train, X_test, y_train, y_test = train_test_split(X, y, test_size=0.3)"
   ]
  },
  {
   "cell_type": "code",
   "execution_count": 17,
   "id": "13f0decd",
   "metadata": {},
   "outputs": [],
   "source": [
    "from sklearn.model_selection import GridSearchCV"
   ]
  },
  {
   "cell_type": "code",
   "execution_count": 18,
   "id": "c2719f1a",
   "metadata": {},
   "outputs": [],
   "source": [
    "param_grid = {'C': [0.1,1, 10, 100], 'gamma': [1,0.1,0.01,0.001]} "
   ]
  },
  {
   "cell_type": "code",
   "execution_count": 20,
   "id": "186eb3ad",
   "metadata": {},
   "outputs": [
    {
     "name": "stdout",
     "output_type": "stream",
     "text": [
      "Fitting 5 folds for each of 16 candidates, totalling 80 fits\n",
      "[CV 1/5] END ....................C=0.1, gamma=1;, score=0.616 total time=   0.3s\n",
      "[CV 2/5] END ....................C=0.1, gamma=1;, score=0.616 total time=   0.3s\n",
      "[CV 3/5] END ....................C=0.1, gamma=1;, score=0.616 total time=   0.3s\n",
      "[CV 4/5] END ....................C=0.1, gamma=1;, score=0.621 total time=   0.3s\n",
      "[CV 5/5] END ....................C=0.1, gamma=1;, score=0.621 total time=   0.3s\n",
      "[CV 1/5] END ..................C=0.1, gamma=0.1;, score=0.616 total time=   0.3s\n",
      "[CV 2/5] END ..................C=0.1, gamma=0.1;, score=0.616 total time=   0.2s\n",
      "[CV 3/5] END ..................C=0.1, gamma=0.1;, score=0.616 total time=   0.3s\n",
      "[CV 4/5] END ..................C=0.1, gamma=0.1;, score=0.621 total time=   0.3s\n",
      "[CV 5/5] END ..................C=0.1, gamma=0.1;, score=0.621 total time=   0.2s\n",
      "[CV 1/5] END .................C=0.1, gamma=0.01;, score=0.696 total time=   0.3s\n",
      "[CV 2/5] END .................C=0.1, gamma=0.01;, score=0.640 total time=   0.3s\n",
      "[CV 3/5] END .................C=0.1, gamma=0.01;, score=0.624 total time=   0.3s\n",
      "[CV 4/5] END .................C=0.1, gamma=0.01;, score=0.653 total time=   0.3s\n",
      "[CV 5/5] END .................C=0.1, gamma=0.01;, score=0.637 total time=   0.3s\n",
      "[CV 1/5] END ................C=0.1, gamma=0.001;, score=0.624 total time=   0.2s\n",
      "[CV 2/5] END ................C=0.1, gamma=0.001;, score=0.680 total time=   0.3s\n",
      "[CV 3/5] END ................C=0.1, gamma=0.001;, score=0.720 total time=   0.3s\n",
      "[CV 4/5] END ................C=0.1, gamma=0.001;, score=0.677 total time=   0.3s\n",
      "[CV 5/5] END ................C=0.1, gamma=0.001;, score=0.694 total time=   0.3s\n",
      "[CV 1/5] END ......................C=1, gamma=1;, score=0.640 total time=   0.3s\n",
      "[CV 2/5] END ......................C=1, gamma=1;, score=0.664 total time=   0.3s\n",
      "[CV 3/5] END ......................C=1, gamma=1;, score=0.632 total time=   0.3s\n",
      "[CV 4/5] END ......................C=1, gamma=1;, score=0.645 total time=   0.3s\n",
      "[CV 5/5] END ......................C=1, gamma=1;, score=0.645 total time=   0.3s\n",
      "[CV 1/5] END ....................C=1, gamma=0.1;, score=0.680 total time=   0.3s\n",
      "[CV 2/5] END ....................C=1, gamma=0.1;, score=0.696 total time=   0.3s\n",
      "[CV 3/5] END ....................C=1, gamma=0.1;, score=0.680 total time=   0.3s\n",
      "[CV 4/5] END ....................C=1, gamma=0.1;, score=0.742 total time=   0.3s\n",
      "[CV 5/5] END ....................C=1, gamma=0.1;, score=0.718 total time=   0.3s\n",
      "[CV 1/5] END ...................C=1, gamma=0.01;, score=0.632 total time=   0.2s\n",
      "[CV 2/5] END ...................C=1, gamma=0.01;, score=0.704 total time=   0.2s\n",
      "[CV 3/5] END ...................C=1, gamma=0.01;, score=0.704 total time=   0.3s\n",
      "[CV 4/5] END ...................C=1, gamma=0.01;, score=0.742 total time=   0.2s\n",
      "[CV 5/5] END ...................C=1, gamma=0.01;, score=0.710 total time=   0.3s\n",
      "[CV 1/5] END ..................C=1, gamma=0.001;, score=0.648 total time=   0.3s\n",
      "[CV 2/5] END ..................C=1, gamma=0.001;, score=0.688 total time=   0.3s\n",
      "[CV 3/5] END ..................C=1, gamma=0.001;, score=0.688 total time=   0.3s\n",
      "[CV 4/5] END ..................C=1, gamma=0.001;, score=0.677 total time=   0.3s\n",
      "[CV 5/5] END ..................C=1, gamma=0.001;, score=0.694 total time=   0.3s\n",
      "[CV 1/5] END .....................C=10, gamma=1;, score=0.672 total time=   0.3s\n",
      "[CV 2/5] END .....................C=10, gamma=1;, score=0.680 total time=   0.3s\n",
      "[CV 3/5] END .....................C=10, gamma=1;, score=0.584 total time=   0.3s\n",
      "[CV 4/5] END .....................C=10, gamma=1;, score=0.653 total time=   0.4s\n",
      "[CV 5/5] END .....................C=10, gamma=1;, score=0.637 total time=   0.4s\n",
      "[CV 1/5] END ...................C=10, gamma=0.1;, score=0.720 total time=   0.3s\n",
      "[CV 2/5] END ...................C=10, gamma=0.1;, score=0.704 total time=   0.3s\n",
      "[CV 3/5] END ...................C=10, gamma=0.1;, score=0.664 total time=   0.3s\n",
      "[CV 4/5] END ...................C=10, gamma=0.1;, score=0.726 total time=   0.3s\n",
      "[CV 5/5] END ...................C=10, gamma=0.1;, score=0.758 total time=   0.3s\n",
      "[CV 1/5] END ..................C=10, gamma=0.01;, score=0.768 total time=   0.2s\n",
      "[CV 2/5] END ..................C=10, gamma=0.01;, score=0.752 total time=   0.2s\n",
      "[CV 3/5] END ..................C=10, gamma=0.01;, score=0.784 total time=   0.2s\n",
      "[CV 4/5] END ..................C=10, gamma=0.01;, score=0.782 total time=   0.2s\n",
      "[CV 5/5] END ..................C=10, gamma=0.01;, score=0.742 total time=   0.2s\n",
      "[CV 1/5] END .................C=10, gamma=0.001;, score=0.768 total time=   0.2s\n",
      "[CV 2/5] END .................C=10, gamma=0.001;, score=0.784 total time=   0.2s\n",
      "[CV 3/5] END .................C=10, gamma=0.001;, score=0.784 total time=   0.2s\n",
      "[CV 4/5] END .................C=10, gamma=0.001;, score=0.790 total time=   0.2s\n",
      "[CV 5/5] END .................C=10, gamma=0.001;, score=0.798 total time=   0.2s\n",
      "[CV 1/5] END ....................C=100, gamma=1;, score=0.648 total time=   0.3s\n",
      "[CV 2/5] END ....................C=100, gamma=1;, score=0.664 total time=   0.3s\n",
      "[CV 3/5] END ....................C=100, gamma=1;, score=0.584 total time=   0.3s\n",
      "[CV 4/5] END ....................C=100, gamma=1;, score=0.637 total time=   0.4s\n",
      "[CV 5/5] END ....................C=100, gamma=1;, score=0.637 total time=   0.4s\n",
      "[CV 1/5] END ..................C=100, gamma=0.1;, score=0.712 total time=   0.2s\n",
      "[CV 2/5] END ..................C=100, gamma=0.1;, score=0.696 total time=   0.2s\n",
      "[CV 3/5] END ..................C=100, gamma=0.1;, score=0.680 total time=   0.3s\n",
      "[CV 4/5] END ..................C=100, gamma=0.1;, score=0.702 total time=   0.3s\n",
      "[CV 5/5] END ..................C=100, gamma=0.1;, score=0.758 total time=   0.3s\n",
      "[CV 1/5] END .................C=100, gamma=0.01;, score=0.776 total time=   0.2s\n",
      "[CV 2/5] END .................C=100, gamma=0.01;, score=0.736 total time=   0.2s\n",
      "[CV 3/5] END .................C=100, gamma=0.01;, score=0.768 total time=   0.2s\n",
      "[CV 4/5] END .................C=100, gamma=0.01;, score=0.806 total time=   0.2s\n",
      "[CV 5/5] END .................C=100, gamma=0.01;, score=0.790 total time=   0.2s\n",
      "[CV 1/5] END ................C=100, gamma=0.001;, score=0.776 total time=   0.2s\n",
      "[CV 2/5] END ................C=100, gamma=0.001;, score=0.792 total time=   0.1s\n",
      "[CV 3/5] END ................C=100, gamma=0.001;, score=0.792 total time=   0.2s\n",
      "[CV 4/5] END ................C=100, gamma=0.001;, score=0.806 total time=   0.2s\n",
      "[CV 5/5] END ................C=100, gamma=0.001;, score=0.839 total time=   0.1s\n"
     ]
    },
    {
     "data": {
      "text/plain": [
       "GridSearchCV(estimator=SVC(),\n",
       "             param_grid={'C': [0.1, 1, 10, 100],\n",
       "                         'gamma': [1, 0.1, 0.01, 0.001]},\n",
       "             verbose=3)"
      ]
     },
     "execution_count": 20,
     "metadata": {},
     "output_type": "execute_result"
    }
   ],
   "source": [
    "grid = GridSearchCV(SVC(),param_grid,verbose=3)\n",
    "grid.fit(X_train,y_train)"
   ]
  },
  {
   "cell_type": "code",
   "execution_count": 21,
   "id": "99696648",
   "metadata": {},
   "outputs": [
    {
     "data": {
      "text/plain": [
       "SVC(C=100, gamma=0.001)"
      ]
     },
     "execution_count": 21,
     "metadata": {},
     "output_type": "execute_result"
    }
   ],
   "source": [
    "grid.best_estimator_"
   ]
  },
  {
   "cell_type": "code",
   "execution_count": 22,
   "id": "bc1c18c8",
   "metadata": {},
   "outputs": [
    {
     "name": "stdout",
     "output_type": "stream",
     "text": [
      "0.7947761194029851\n",
      "[[137  27]\n",
      " [ 28  76]]\n",
      "              precision    recall  f1-score   support\n",
      "\n",
      "           0       0.83      0.84      0.83       164\n",
      "           1       0.74      0.73      0.73       104\n",
      "\n",
      "    accuracy                           0.79       268\n",
      "   macro avg       0.78      0.78      0.78       268\n",
      "weighted avg       0.79      0.79      0.79       268\n",
      "\n"
     ]
    }
   ],
   "source": [
    "predictions = grid.predict(X_test)\n",
    "\n",
    "print(accuracy_score(y_test, predictions))\n",
    "print(confusion_matrix(y_test, predictions))\n",
    "print(classification_report(y_test, predictions))"
   ]
  },
  {
   "cell_type": "markdown",
   "id": "77816df3",
   "metadata": {},
   "source": [
    "### And the test"
   ]
  },
  {
   "cell_type": "code",
   "execution_count": 23,
   "id": "f2451ae0",
   "metadata": {},
   "outputs": [],
   "source": [
    "test['Prefix'] = test['Name'].apply(prefix_name)\n",
    "test.drop('Name', axis=1, inplace=True)\n",
    "test.drop('Cabin', axis=1, inplace=True)\n",
    "test.drop('Ticket', axis=1, inplace=True)\n",
    "# test.drop('PassengerId', axis=1, inplace=True)\n",
    "test.drop('Embarked', axis=1, inplace=True)\n",
    "test['Age'].fillna(value=age_mean, inplace=True)\n",
    "test = pd.get_dummies(test,columns=cat_feats,drop_first=True)"
   ]
  },
  {
   "cell_type": "code",
   "execution_count": 24,
   "id": "e9e0c785",
   "metadata": {},
   "outputs": [],
   "source": [
    "fare_mean = titanic['Fare'].mean()\n",
    "test['Fare'].fillna(value=fare_mean, inplace=True)\n",
    "new_test = test.drop('PassengerId', axis=1)"
   ]
  },
  {
   "cell_type": "code",
   "execution_count": 25,
   "id": "cd320d3d",
   "metadata": {},
   "outputs": [],
   "source": [
    "submission = grid.predict(new_test)"
   ]
  },
  {
   "cell_type": "code",
   "execution_count": 26,
   "id": "7708cd78",
   "metadata": {},
   "outputs": [],
   "source": [
    "submit = pd.DataFrame(submission, columns=['Survived'], index=test['PassengerId'])"
   ]
  },
  {
   "cell_type": "code",
   "execution_count": 27,
   "id": "4a9d763e",
   "metadata": {},
   "outputs": [],
   "source": [
    "submit.reset_index(inplace=True)"
   ]
  },
  {
   "cell_type": "code",
   "execution_count": 28,
   "id": "b5669e20",
   "metadata": {},
   "outputs": [],
   "source": [
    "submit.to_csv('submit6.csv')"
   ]
  },
  {
   "cell_type": "markdown",
   "id": "c872fd44",
   "metadata": {},
   "source": [
    "# Fifth"
   ]
  },
  {
   "cell_type": "code",
   "execution_count": 29,
   "id": "91e7f4d9",
   "metadata": {},
   "outputs": [],
   "source": [
    "from sklearn.neighbors import KNeighborsClassifier"
   ]
  },
  {
   "cell_type": "code",
   "execution_count": 41,
   "id": "f9df5fa0",
   "metadata": {
    "scrolled": true
   },
   "outputs": [],
   "source": [
    "cat_feats = ['Sex', 'Prefix']\n",
    "titanic = pd.get_dummies(titanic,columns=cat_feats,drop_first=True)"
   ]
  },
  {
   "cell_type": "code",
   "execution_count": 62,
   "id": "bc6f8cdb",
   "metadata": {},
   "outputs": [],
   "source": [
    "X = titanic.drop('Survived', axis=1)\n",
    "y = titanic['Survived']\n",
    "X_train, X_test, y_train, y_test = train_test_split(X, y, test_size=0.3)\n",
    "\n",
    "accuracies = []\n",
    "for k in range(1,20):\n",
    "    knn = KNeighborsClassifier(n_neighbors=k)\n",
    "\n",
    "    knn.fit(X_train, y_train)\n",
    "\n",
    "    predictions = knn.predict(X_test)\n",
    "    \n",
    "    accuracies.append(accuracy_score(y_test, predictions))"
   ]
  },
  {
   "cell_type": "code",
   "execution_count": 63,
   "id": "8f4fbb38",
   "metadata": {},
   "outputs": [
    {
     "data": {
      "text/plain": [
       "[<matplotlib.lines.Line2D at 0x2729d9c3748>]"
      ]
     },
     "execution_count": 63,
     "metadata": {},
     "output_type": "execute_result"
    },
    {
     "data": {
      "image/png": "[encoded data removed]",
      "text/plain": [
       "<Figure size 432x288 with 1 Axes>"
      ]
     },
     "metadata": {
      "needs_background": "light"
     },
     "output_type": "display_data"
    }
   ],
   "source": [
    "plt.plot(range(1,20), accuracies)"
   ]
  },
  {
   "cell_type": "code",
   "execution_count": null,
   "id": "ff180791",
   "metadata": {},
   "outputs": [],
   "source": []
  },
  {
   "cell_type": "code",
   "execution_count": 65,
   "id": "48c85938",
   "metadata": {},
   "outputs": [
    {
     "name": "stdout",
     "output_type": "stream",
     "text": [
      "0.6828358208955224\n",
      "[[141  23]\n",
      " [ 62  42]]\n",
      "              precision    recall  f1-score   support\n",
      "\n",
      "           0       0.69      0.86      0.77       164\n",
      "           1       0.65      0.40      0.50       104\n",
      "\n",
      "    accuracy                           0.68       268\n",
      "   macro avg       0.67      0.63      0.63       268\n",
      "weighted avg       0.68      0.68      0.66       268\n",
      "\n"
     ]
    }
   ],
   "source": [
    "X = titanic.drop('Survived', axis=1)\n",
    "y = titanic['Survived']\n",
    "X_train, X_test, y_train, y_test = train_test_split(X, y, test_size=0.3)\n",
    "\n",
    "k=10\n",
    "\n",
    "knn = KNeighborsClassifier(n_neighbors=k)\n",
    "\n",
    "knn.fit(X_train, y_train)\n",
    "\n",
    "predictions = knn.predict(X_test)\n",
    "\n",
    "print(accuracy_score(y_test, predictions))\n",
    "print(confusion_matrix(y_test, predictions))\n",
    "print(classification_report(y_test, predictions))"
   ]
  },
  {
   "cell_type": "markdown",
   "id": "91a42fd0",
   "metadata": {},
   "source": [
    "This is too low to go on :|"
   ]
  },
  {
   "cell_type": "markdown",
   "id": "13cec513",
   "metadata": {},
   "source": [
    "## Neural Networks!"
   ]
  },
  {
   "cell_type": "code",
   "execution_count": 33,
   "id": "c4ce2306",
   "metadata": {},
   "outputs": [],
   "source": [
    "from sklearn.model_selection import train_test_split\n",
    "from sklearn.preprocessing import MinMaxScaler\n",
    "\n",
    "import tensorflow as tf\n",
    "from tensorflow.keras.models import Sequential\n",
    "from tensorflow.keras.layers import Dense, Activation,Dropout\n",
    "from tensorflow.keras.callbacks import EarlyStopping\n",
    "\n",
    "from tensorflow.keras.layers import Dropout\n",
    "\n",
    "from sklearn.metrics import classification_report,confusion_matrix"
   ]
  },
  {
   "cell_type": "code",
   "execution_count": 43,
   "id": "dfc1be98",
   "metadata": {},
   "outputs": [],
   "source": [
    "titanic = pd.get_dummies(data=titanic, columns=['SibSp','Sex','Pclass','Parch','Prefix'])"
   ]
  },
  {
   "cell_type": "code",
   "execution_count": 44,
   "id": "9f753394",
   "metadata": {},
   "outputs": [
    {
     "data": {
      "text/html": [
       "<div>\n",
       "<style scoped>\n",
       "    .dataframe tbody tr th:only-of-type {\n",
       "        vertical-align: middle;\n",
       "    }\n",
       "\n",
       "    .dataframe tbody tr th {\n",
       "        vertical-align: top;\n",
       "    }\n",
       "\n",
       "    .dataframe thead th {\n",
       "        text-align: right;\n",
       "    }\n",
       "</style>\n",
       "<table border=\"1\" class=\"dataframe\">\n",
       "  <thead>\n",
       "    <tr style=\"text-align: right;\">\n",
       "      <th></th>\n",
       "      <th>Survived</th>\n",
       "      <th>Age</th>\n",
       "      <th>Fare</th>\n",
       "      <th>SibSp_0</th>\n",
       "      <th>SibSp_1</th>\n",
       "      <th>SibSp_2</th>\n",
       "      <th>SibSp_3</th>\n",
       "      <th>SibSp_4</th>\n",
       "      <th>SibSp_5</th>\n",
       "      <th>SibSp_8</th>\n",
       "      <th>...</th>\n",
       "      <th>Parch_2</th>\n",
       "      <th>Parch_3</th>\n",
       "      <th>Parch_4</th>\n",
       "      <th>Parch_5</th>\n",
       "      <th>Parch_6</th>\n",
       "      <th>Prefix_Master.</th>\n",
       "      <th>Prefix_Miss.</th>\n",
       "      <th>Prefix_Mr.</th>\n",
       "      <th>Prefix_Mrs.</th>\n",
       "      <th>Prefix_Other</th>\n",
       "    </tr>\n",
       "  </thead>\n",
       "  <tbody>\n",
       "    <tr>\n",
       "      <th>0</th>\n",
       "      <td>0</td>\n",
       "      <td>22.0</td>\n",
       "      <td>7.2500</td>\n",
       "      <td>0</td>\n",
       "      <td>1</td>\n",
       "      <td>0</td>\n",
       "      <td>0</td>\n",
       "      <td>0</td>\n",
       "      <td>0</td>\n",
       "      <td>0</td>\n",
       "      <td>...</td>\n",
       "      <td>0</td>\n",
       "      <td>0</td>\n",
       "      <td>0</td>\n",
       "      <td>0</td>\n",
       "      <td>0</td>\n",
       "      <td>0</td>\n",
       "      <td>0</td>\n",
       "      <td>1</td>\n",
       "      <td>0</td>\n",
       "      <td>0</td>\n",
       "    </tr>\n",
       "    <tr>\n",
       "      <th>1</th>\n",
       "      <td>1</td>\n",
       "      <td>38.0</td>\n",
       "      <td>71.2833</td>\n",
       "      <td>0</td>\n",
       "      <td>1</td>\n",
       "      <td>0</td>\n",
       "      <td>0</td>\n",
       "      <td>0</td>\n",
       "      <td>0</td>\n",
       "      <td>0</td>\n",
       "      <td>...</td>\n",
       "      <td>0</td>\n",
       "      <td>0</td>\n",
       "      <td>0</td>\n",
       "      <td>0</td>\n",
       "      <td>0</td>\n",
       "      <td>0</td>\n",
       "      <td>0</td>\n",
       "      <td>0</td>\n",
       "      <td>1</td>\n",
       "      <td>0</td>\n",
       "    </tr>\n",
       "    <tr>\n",
       "      <th>2</th>\n",
       "      <td>1</td>\n",
       "      <td>26.0</td>\n",
       "      <td>7.9250</td>\n",
       "      <td>1</td>\n",
       "      <td>0</td>\n",
       "      <td>0</td>\n",
       "      <td>0</td>\n",
       "      <td>0</td>\n",
       "      <td>0</td>\n",
       "      <td>0</td>\n",
       "      <td>...</td>\n",
       "      <td>0</td>\n",
       "      <td>0</td>\n",
       "      <td>0</td>\n",
       "      <td>0</td>\n",
       "      <td>0</td>\n",
       "      <td>0</td>\n",
       "      <td>1</td>\n",
       "      <td>0</td>\n",
       "      <td>0</td>\n",
       "      <td>0</td>\n",
       "    </tr>\n",
       "    <tr>\n",
       "      <th>3</th>\n",
       "      <td>1</td>\n",
       "      <td>35.0</td>\n",
       "      <td>53.1000</td>\n",
       "      <td>0</td>\n",
       "      <td>1</td>\n",
       "      <td>0</td>\n",
       "      <td>0</td>\n",
       "      <td>0</td>\n",
       "      <td>0</td>\n",
       "      <td>0</td>\n",
       "      <td>...</td>\n",
       "      <td>0</td>\n",
       "      <td>0</td>\n",
       "      <td>0</td>\n",
       "      <td>0</td>\n",
       "      <td>0</td>\n",
       "      <td>0</td>\n",
       "      <td>0</td>\n",
       "      <td>0</td>\n",
       "      <td>1</td>\n",
       "      <td>0</td>\n",
       "    </tr>\n",
       "    <tr>\n",
       "      <th>4</th>\n",
       "      <td>0</td>\n",
       "      <td>35.0</td>\n",
       "      <td>8.0500</td>\n",
       "      <td>1</td>\n",
       "      <td>0</td>\n",
       "      <td>0</td>\n",
       "      <td>0</td>\n",
       "      <td>0</td>\n",
       "      <td>0</td>\n",
       "      <td>0</td>\n",
       "      <td>...</td>\n",
       "      <td>0</td>\n",
       "      <td>0</td>\n",
       "      <td>0</td>\n",
       "      <td>0</td>\n",
       "      <td>0</td>\n",
       "      <td>0</td>\n",
       "      <td>0</td>\n",
       "      <td>1</td>\n",
       "      <td>0</td>\n",
       "      <td>0</td>\n",
       "    </tr>\n",
       "  </tbody>\n",
       "</table>\n",
       "<p>5 rows × 27 columns</p>\n",
       "</div>"
      ],
      "text/plain": [
       "   Survived   Age     Fare  SibSp_0  SibSp_1  SibSp_2  SibSp_3  SibSp_4  \\\n",
       "0         0  22.0   7.2500        0        1        0        0        0   \n",
       "1         1  38.0  71.2833        0        1        0        0        0   \n",
       "2         1  26.0   7.9250        1        0        0        0        0   \n",
       "3         1  35.0  53.1000        0        1        0        0        0   \n",
       "4         0  35.0   8.0500        1        0        0        0        0   \n",
       "\n",
       "   SibSp_5  SibSp_8  ...  Parch_2  Parch_3  Parch_4  Parch_5  Parch_6  \\\n",
       "0        0        0  ...        0        0        0        0        0   \n",
       "1        0        0  ...        0        0        0        0        0   \n",
       "2        0        0  ...        0        0        0        0        0   \n",
       "3        0        0  ...        0        0        0        0        0   \n",
       "4        0        0  ...        0        0        0        0        0   \n",
       "\n",
       "   Prefix_Master.  Prefix_Miss.  Prefix_Mr.  Prefix_Mrs.  Prefix_Other  \n",
       "0               0             0           1            0             0  \n",
       "1               0             0           0            1             0  \n",
       "2               0             1           0            0             0  \n",
       "3               0             0           0            1             0  \n",
       "4               0             0           1            0             0  \n",
       "\n",
       "[5 rows x 27 columns]"
      ]
     },
     "execution_count": 44,
     "metadata": {},
     "output_type": "execute_result"
    }
   ],
   "source": [
    "titanic.head()"
   ]
  },
  {
   "cell_type": "code",
   "execution_count": 45,
   "id": "cc8759b2",
   "metadata": {},
   "outputs": [],
   "source": [
    "X = titanic.drop('Survived',axis=1).values\n",
    "y = titanic['Survived'].values"
   ]
  },
  {
   "cell_type": "code",
   "execution_count": 46,
   "id": "3bb3ede0",
   "metadata": {},
   "outputs": [],
   "source": [
    "X_train, X_test, y_train, y_test = train_test_split(X,y,test_size=0.25)"
   ]
  },
  {
   "cell_type": "code",
   "execution_count": 47,
   "id": "150c51e3",
   "metadata": {},
   "outputs": [],
   "source": [
    "scaler = MinMaxScaler()"
   ]
  },
  {
   "cell_type": "code",
   "execution_count": 71,
   "id": "2793ec8f",
   "metadata": {},
   "outputs": [
    {
     "data": {
      "text/plain": [
       "MinMaxScaler()"
      ]
     },
     "execution_count": 71,
     "metadata": {},
     "output_type": "execute_result"
    }
   ],
   "source": [
    "scaler.fit(X_train)"
   ]
  },
  {
   "cell_type": "code",
   "execution_count": 72,
   "id": "c66b91ea",
   "metadata": {},
   "outputs": [],
   "source": [
    "X_train = scaler.transform(X_train)\n",
    "X_test = scaler.transform(X_test)"
   ]
  },
  {
   "cell_type": "code",
   "execution_count": 144,
   "id": "ddebff9a",
   "metadata": {},
   "outputs": [
    {
     "name": "stderr",
     "output_type": "stream",
     "text": [
      "C:\\ProgramData\\Miniconda3\\lib\\site-packages\\sklearn\\base.py:444: UserWarning: X has feature names, but MinMaxScaler was fitted without feature names\n",
      "  f\"X has feature names, but {self.__class__.__name__} was fitted without\"\n"
     ]
    }
   ],
   "source": [
    "test = scaler.transform(test)"
   ]
  },
  {
   "cell_type": "code",
   "execution_count": 82,
   "id": "efc4cae1",
   "metadata": {},
   "outputs": [],
   "source": [
    "model = Sequential()\n",
    "model.add(Dense(units=26,activation='relu'))\n",
    "model.add(Dropout(0.5))\n",
    "\n",
    "model.add(Dense(units=13,activation='relu'))\n",
    "model.add(Dropout(0.4))\n",
    "\n",
    "model.add(Dense(units=13,activation='relu'))\n",
    "model.add(Dropout(0.3))\n",
    "\n",
    "model.add(Dense(units=13,activation='relu'))\n",
    "model.add(Dropout(0.5))\n",
    "\n",
    "model.add(Dense(units=1,activation='sigmoid'))\n",
    "model.compile(loss='binary_crossentropy', optimizer='adam')"
   ]
  },
  {
   "cell_type": "code",
   "execution_count": 83,
   "id": "2a9792ab",
   "metadata": {},
   "outputs": [],
   "source": [
    "early_stop = EarlyStopping(monitor='val_loss', mode='min', verbose=1, patience=25)"
   ]
  },
  {
   "cell_type": "code",
   "execution_count": 84,
   "id": "44facf83",
   "metadata": {},
   "outputs": [
    {
     "name": "stdout",
     "output_type": "stream",
     "text": [
      "Epoch 1/600\n",
      "21/21 [==============================] - 1s 11ms/step - loss: 0.7337 - val_loss: 0.6786\n",
      "Epoch 2/600\n",
      "21/21 [==============================] - 0s 3ms/step - loss: 0.6989 - val_loss: 0.6715\n",
      "Epoch 3/600\n",
      "21/21 [==============================] - 0s 3ms/step - loss: 0.6746 - val_loss: 0.6654\n",
      "Epoch 4/600\n",
      "21/21 [==============================] - 0s 3ms/step - loss: 0.6688 - val_loss: 0.6562\n",
      "Epoch 5/600\n",
      "21/21 [==============================] - 0s 3ms/step - loss: 0.6777 - val_loss: 0.6422\n",
      "Epoch 6/600\n",
      "21/21 [==============================] - 0s 3ms/step - loss: 0.6589 - val_loss: 0.6273\n",
      "Epoch 7/600\n",
      "21/21 [==============================] - 0s 3ms/step - loss: 0.6509 - val_loss: 0.6151\n",
      "Epoch 8/600\n",
      "21/21 [==============================] - 0s 3ms/step - loss: 0.6179 - val_loss: 0.5857\n",
      "Epoch 9/600\n",
      "21/21 [==============================] - 0s 3ms/step - loss: 0.6217 - val_loss: 0.5624\n",
      "Epoch 10/600\n",
      "21/21 [==============================] - 0s 3ms/step - loss: 0.6066 - val_loss: 0.5454\n",
      "Epoch 11/600\n",
      "21/21 [==============================] - 0s 3ms/step - loss: 0.6098 - val_loss: 0.5359\n",
      "Epoch 12/600\n",
      "21/21 [==============================] - 0s 3ms/step - loss: 0.5968 - val_loss: 0.5199\n",
      "Epoch 13/600\n",
      "21/21 [==============================] - 0s 3ms/step - loss: 0.5952 - val_loss: 0.5126\n",
      "Epoch 14/600\n",
      "21/21 [==============================] - 0s 3ms/step - loss: 0.5887 - val_loss: 0.5028\n",
      "Epoch 15/600\n",
      "21/21 [==============================] - 0s 3ms/step - loss: 0.5744 - val_loss: 0.4900\n",
      "Epoch 16/600\n",
      "21/21 [==============================] - 0s 3ms/step - loss: 0.5668 - val_loss: 0.4803\n",
      "Epoch 17/600\n",
      "21/21 [==============================] - 0s 3ms/step - loss: 0.5575 - val_loss: 0.4712\n",
      "Epoch 18/600\n",
      "21/21 [==============================] - 0s 3ms/step - loss: 0.5445 - val_loss: 0.4633\n",
      "Epoch 19/600\n",
      "21/21 [==============================] - 0s 3ms/step - loss: 0.5270 - val_loss: 0.4541\n",
      "Epoch 20/600\n",
      "21/21 [==============================] - 0s 3ms/step - loss: 0.5269 - val_loss: 0.4487\n",
      "Epoch 21/600\n",
      "21/21 [==============================] - 0s 3ms/step - loss: 0.5361 - val_loss: 0.4424\n",
      "Epoch 22/600\n",
      "21/21 [==============================] - 0s 3ms/step - loss: 0.5484 - val_loss: 0.4439\n",
      "Epoch 23/600\n",
      "21/21 [==============================] - 0s 3ms/step - loss: 0.5415 - val_loss: 0.4411\n",
      "Epoch 24/600\n",
      "21/21 [==============================] - 0s 3ms/step - loss: 0.5493 - val_loss: 0.4473\n",
      "Epoch 25/600\n",
      "21/21 [==============================] - 0s 3ms/step - loss: 0.5749 - val_loss: 0.4503\n",
      "Epoch 26/600\n",
      "21/21 [==============================] - 0s 3ms/step - loss: 0.5311 - val_loss: 0.4470\n",
      "Epoch 27/600\n",
      "21/21 [==============================] - 0s 3ms/step - loss: 0.5365 - val_loss: 0.4423\n",
      "Epoch 28/600\n",
      "21/21 [==============================] - 0s 3ms/step - loss: 0.5186 - val_loss: 0.4380\n",
      "Epoch 29/600\n",
      "21/21 [==============================] - 0s 3ms/step - loss: 0.5236 - val_loss: 0.4309\n",
      "Epoch 30/600\n",
      "21/21 [==============================] - 0s 3ms/step - loss: 0.5494 - val_loss: 0.4274\n",
      "Epoch 31/600\n",
      "21/21 [==============================] - 0s 3ms/step - loss: 0.5338 - val_loss: 0.4292\n",
      "Epoch 32/600\n",
      "21/21 [==============================] - 0s 3ms/step - loss: 0.5163 - val_loss: 0.4241\n",
      "Epoch 33/600\n",
      "21/21 [==============================] - 0s 3ms/step - loss: 0.5035 - val_loss: 0.4214\n",
      "Epoch 34/600\n",
      "21/21 [==============================] - 0s 3ms/step - loss: 0.5142 - val_loss: 0.4175\n",
      "Epoch 35/600\n",
      "21/21 [==============================] - 0s 3ms/step - loss: 0.5100 - val_loss: 0.4164\n",
      "Epoch 36/600\n",
      "21/21 [==============================] - 0s 3ms/step - loss: 0.5324 - val_loss: 0.4201\n",
      "Epoch 37/600\n",
      "21/21 [==============================] - 0s 3ms/step - loss: 0.5243 - val_loss: 0.4236\n",
      "Epoch 38/600\n",
      "21/21 [==============================] - 0s 3ms/step - loss: 0.4985 - val_loss: 0.4196\n",
      "Epoch 39/600\n",
      "21/21 [==============================] - 0s 3ms/step - loss: 0.5161 - val_loss: 0.4193\n",
      "Epoch 40/600\n",
      "21/21 [==============================] - 0s 3ms/step - loss: 0.5030 - val_loss: 0.4111\n",
      "Epoch 41/600\n",
      "21/21 [==============================] - 0s 3ms/step - loss: 0.4819 - val_loss: 0.4114\n",
      "Epoch 42/600\n",
      "21/21 [==============================] - 0s 4ms/step - loss: 0.4893 - val_loss: 0.4018\n",
      "Epoch 43/600\n",
      "21/21 [==============================] - 0s 3ms/step - loss: 0.4998 - val_loss: 0.4006\n",
      "Epoch 44/600\n",
      "21/21 [==============================] - 0s 3ms/step - loss: 0.5245 - val_loss: 0.4007\n",
      "Epoch 45/600\n",
      "21/21 [==============================] - 0s 3ms/step - loss: 0.5036 - val_loss: 0.4003\n",
      "Epoch 46/600\n",
      "21/21 [==============================] - 0s 3ms/step - loss: 0.4954 - val_loss: 0.3997\n",
      "Epoch 47/600\n",
      "21/21 [==============================] - 0s 3ms/step - loss: 0.4791 - val_loss: 0.3983\n",
      "Epoch 48/600\n",
      "21/21 [==============================] - 0s 3ms/step - loss: 0.5242 - val_loss: 0.4009\n",
      "Epoch 49/600\n",
      "21/21 [==============================] - 0s 3ms/step - loss: 0.5079 - val_loss: 0.4024\n",
      "Epoch 50/600\n",
      "21/21 [==============================] - 0s 3ms/step - loss: 0.4883 - val_loss: 0.4014\n",
      "Epoch 51/600\n",
      "21/21 [==============================] - 0s 3ms/step - loss: 0.5183 - val_loss: 0.4048\n",
      "Epoch 52/600\n",
      "21/21 [==============================] - 0s 3ms/step - loss: 0.4940 - val_loss: 0.4028\n",
      "Epoch 53/600\n",
      "21/21 [==============================] - 0s 3ms/step - loss: 0.4944 - val_loss: 0.4014\n",
      "Epoch 54/600\n",
      "21/21 [==============================] - 0s 3ms/step - loss: 0.4929 - val_loss: 0.3972\n",
      "Epoch 55/600\n",
      "21/21 [==============================] - 0s 3ms/step - loss: 0.5029 - val_loss: 0.3972\n",
      "Epoch 56/600\n",
      "21/21 [==============================] - 0s 3ms/step - loss: 0.4844 - val_loss: 0.3983\n",
      "Epoch 57/600\n",
      "21/21 [==============================] - 0s 3ms/step - loss: 0.4589 - val_loss: 0.3946\n",
      "Epoch 58/600\n",
      "21/21 [==============================] - 0s 3ms/step - loss: 0.4676 - val_loss: 0.3908\n",
      "Epoch 59/600\n",
      "21/21 [==============================] - 0s 3ms/step - loss: 0.4802 - val_loss: 0.3881\n",
      "Epoch 60/600\n",
      "21/21 [==============================] - 0s 3ms/step - loss: 0.4902 - val_loss: 0.3905\n",
      "Epoch 61/600\n",
      "21/21 [==============================] - 0s 3ms/step - loss: 0.4668 - val_loss: 0.3896\n",
      "Epoch 62/600\n",
      "21/21 [==============================] - 0s 3ms/step - loss: 0.4987 - val_loss: 0.3896\n",
      "Epoch 63/600\n",
      "21/21 [==============================] - 0s 3ms/step - loss: 0.4769 - val_loss: 0.3904\n",
      "Epoch 64/600\n",
      "21/21 [==============================] - 0s 3ms/step - loss: 0.4650 - val_loss: 0.3958\n",
      "Epoch 65/600\n",
      "21/21 [==============================] - 0s 3ms/step - loss: 0.4699 - val_loss: 0.3924\n",
      "Epoch 66/600\n",
      "21/21 [==============================] - 0s 3ms/step - loss: 0.4734 - val_loss: 0.3897\n",
      "Epoch 67/600\n",
      "21/21 [==============================] - 0s 3ms/step - loss: 0.4821 - val_loss: 0.3939\n",
      "Epoch 68/600\n",
      "21/21 [==============================] - 0s 3ms/step - loss: 0.4635 - val_loss: 0.3947\n",
      "Epoch 69/600\n",
      "21/21 [==============================] - 0s 3ms/step - loss: 0.5023 - val_loss: 0.3930\n",
      "Epoch 70/600\n",
      "21/21 [==============================] - 0s 3ms/step - loss: 0.4548 - val_loss: 0.3937\n",
      "Epoch 71/600\n",
      "21/21 [==============================] - 0s 3ms/step - loss: 0.4630 - val_loss: 0.3932\n",
      "Epoch 72/600\n",
      "21/21 [==============================] - 0s 3ms/step - loss: 0.4545 - val_loss: 0.3886\n",
      "Epoch 73/600\n",
      "21/21 [==============================] - 0s 3ms/step - loss: 0.4408 - val_loss: 0.3854\n",
      "Epoch 74/600\n",
      "21/21 [==============================] - 0s 3ms/step - loss: 0.4547 - val_loss: 0.3854\n",
      "Epoch 75/600\n",
      "21/21 [==============================] - 0s 3ms/step - loss: 0.4768 - val_loss: 0.3858\n",
      "Epoch 76/600\n",
      "21/21 [==============================] - 0s 3ms/step - loss: 0.4639 - val_loss: 0.3860\n",
      "Epoch 77/600\n",
      "21/21 [==============================] - 0s 3ms/step - loss: 0.4581 - val_loss: 0.3864\n",
      "Epoch 78/600\n",
      "21/21 [==============================] - 0s 3ms/step - loss: 0.4291 - val_loss: 0.3826\n",
      "Epoch 79/600\n",
      "21/21 [==============================] - 0s 3ms/step - loss: 0.4602 - val_loss: 0.3788\n",
      "Epoch 80/600\n",
      "21/21 [==============================] - 0s 3ms/step - loss: 0.4666 - val_loss: 0.3807\n",
      "Epoch 81/600\n",
      "21/21 [==============================] - 0s 3ms/step - loss: 0.4753 - val_loss: 0.3809\n",
      "Epoch 82/600\n",
      "21/21 [==============================] - 0s 3ms/step - loss: 0.4503 - val_loss: 0.3827\n",
      "Epoch 83/600\n"
     ]
    },
    {
     "name": "stdout",
     "output_type": "stream",
     "text": [
      "21/21 [==============================] - 0s 3ms/step - loss: 0.4537 - val_loss: 0.3841\n",
      "Epoch 84/600\n",
      "21/21 [==============================] - 0s 3ms/step - loss: 0.4480 - val_loss: 0.3816\n",
      "Epoch 85/600\n",
      "21/21 [==============================] - 0s 3ms/step - loss: 0.4611 - val_loss: 0.3815\n",
      "Epoch 86/600\n",
      "21/21 [==============================] - 0s 3ms/step - loss: 0.4590 - val_loss: 0.3814\n",
      "Epoch 87/600\n",
      "21/21 [==============================] - 0s 3ms/step - loss: 0.4624 - val_loss: 0.3815\n",
      "Epoch 88/600\n",
      "21/21 [==============================] - 0s 3ms/step - loss: 0.4519 - val_loss: 0.3812\n",
      "Epoch 89/600\n",
      "21/21 [==============================] - 0s 3ms/step - loss: 0.4507 - val_loss: 0.3805\n",
      "Epoch 90/600\n",
      "21/21 [==============================] - 0s 3ms/step - loss: 0.4587 - val_loss: 0.3807\n",
      "Epoch 91/600\n",
      "21/21 [==============================] - 0s 3ms/step - loss: 0.4583 - val_loss: 0.3776\n",
      "Epoch 92/600\n",
      "21/21 [==============================] - 0s 3ms/step - loss: 0.4599 - val_loss: 0.3821\n",
      "Epoch 93/600\n",
      "21/21 [==============================] - 0s 3ms/step - loss: 0.4626 - val_loss: 0.3845\n",
      "Epoch 94/600\n",
      "21/21 [==============================] - 0s 3ms/step - loss: 0.4332 - val_loss: 0.3799\n",
      "Epoch 95/600\n",
      "21/21 [==============================] - 0s 3ms/step - loss: 0.4273 - val_loss: 0.3777\n",
      "Epoch 96/600\n",
      "21/21 [==============================] - 0s 3ms/step - loss: 0.4694 - val_loss: 0.3779\n",
      "Epoch 97/600\n",
      "21/21 [==============================] - 0s 3ms/step - loss: 0.4552 - val_loss: 0.3835\n",
      "Epoch 98/600\n",
      "21/21 [==============================] - 0s 3ms/step - loss: 0.4448 - val_loss: 0.3841\n",
      "Epoch 99/600\n",
      "21/21 [==============================] - 0s 3ms/step - loss: 0.4606 - val_loss: 0.3836\n",
      "Epoch 100/600\n",
      "21/21 [==============================] - 0s 3ms/step - loss: 0.4463 - val_loss: 0.3808\n",
      "Epoch 101/600\n",
      "21/21 [==============================] - 0s 3ms/step - loss: 0.4549 - val_loss: 0.3775\n",
      "Epoch 102/600\n",
      "21/21 [==============================] - 0s 3ms/step - loss: 0.4393 - val_loss: 0.3785\n",
      "Epoch 103/600\n",
      "21/21 [==============================] - 0s 3ms/step - loss: 0.4406 - val_loss: 0.3792\n",
      "Epoch 104/600\n",
      "21/21 [==============================] - 0s 3ms/step - loss: 0.4226 - val_loss: 0.3814\n",
      "Epoch 105/600\n",
      "21/21 [==============================] - 0s 4ms/step - loss: 0.4859 - val_loss: 0.3809\n",
      "Epoch 106/600\n",
      "21/21 [==============================] - 0s 3ms/step - loss: 0.4507 - val_loss: 0.3801\n",
      "Epoch 107/600\n",
      "21/21 [==============================] - 0s 3ms/step - loss: 0.4441 - val_loss: 0.3801\n",
      "Epoch 108/600\n",
      "21/21 [==============================] - 0s 3ms/step - loss: 0.4386 - val_loss: 0.3775\n",
      "Epoch 109/600\n",
      "21/21 [==============================] - 0s 3ms/step - loss: 0.4494 - val_loss: 0.3771\n",
      "Epoch 110/600\n",
      "21/21 [==============================] - 0s 3ms/step - loss: 0.4469 - val_loss: 0.3797\n",
      "Epoch 111/600\n",
      "21/21 [==============================] - 0s 3ms/step - loss: 0.4441 - val_loss: 0.3799\n",
      "Epoch 112/600\n",
      "21/21 [==============================] - 0s 3ms/step - loss: 0.4396 - val_loss: 0.3760\n",
      "Epoch 113/600\n",
      "21/21 [==============================] - 0s 3ms/step - loss: 0.4563 - val_loss: 0.3773\n",
      "Epoch 114/600\n",
      "21/21 [==============================] - 0s 3ms/step - loss: 0.4526 - val_loss: 0.3785\n",
      "Epoch 115/600\n",
      "21/21 [==============================] - 0s 3ms/step - loss: 0.4620 - val_loss: 0.3800\n",
      "Epoch 116/600\n",
      "21/21 [==============================] - 0s 3ms/step - loss: 0.4483 - val_loss: 0.3834\n",
      "Epoch 117/600\n",
      "21/21 [==============================] - 0s 3ms/step - loss: 0.4620 - val_loss: 0.3842\n",
      "Epoch 118/600\n",
      "21/21 [==============================] - 0s 3ms/step - loss: 0.4309 - val_loss: 0.3803\n",
      "Epoch 119/600\n",
      "21/21 [==============================] - 0s 3ms/step - loss: 0.4490 - val_loss: 0.3848\n",
      "Epoch 120/600\n",
      "21/21 [==============================] - 0s 3ms/step - loss: 0.4369 - val_loss: 0.3797\n",
      "Epoch 121/600\n",
      "21/21 [==============================] - 0s 3ms/step - loss: 0.4506 - val_loss: 0.3759\n",
      "Epoch 122/600\n",
      "21/21 [==============================] - 0s 3ms/step - loss: 0.4412 - val_loss: 0.3795\n",
      "Epoch 123/600\n",
      "21/21 [==============================] - 0s 3ms/step - loss: 0.4237 - val_loss: 0.3803\n",
      "Epoch 124/600\n",
      "21/21 [==============================] - 0s 3ms/step - loss: 0.4556 - val_loss: 0.3778\n",
      "Epoch 125/600\n",
      "21/21 [==============================] - 0s 3ms/step - loss: 0.4231 - val_loss: 0.3754\n",
      "Epoch 126/600\n",
      "21/21 [==============================] - 0s 2ms/step - loss: 0.4387 - val_loss: 0.3770\n",
      "Epoch 127/600\n",
      "21/21 [==============================] - 0s 3ms/step - loss: 0.4553 - val_loss: 0.3780\n",
      "Epoch 128/600\n",
      "21/21 [==============================] - 0s 3ms/step - loss: 0.4466 - val_loss: 0.3781\n",
      "Epoch 129/600\n",
      "21/21 [==============================] - 0s 3ms/step - loss: 0.4315 - val_loss: 0.3741\n",
      "Epoch 130/600\n",
      "21/21 [==============================] - 0s 3ms/step - loss: 0.4496 - val_loss: 0.3741\n",
      "Epoch 131/600\n",
      "21/21 [==============================] - 0s 3ms/step - loss: 0.4298 - val_loss: 0.3758\n",
      "Epoch 132/600\n",
      "21/21 [==============================] - 0s 3ms/step - loss: 0.4324 - val_loss: 0.3709\n",
      "Epoch 133/600\n",
      "21/21 [==============================] - 0s 3ms/step - loss: 0.4329 - val_loss: 0.3714\n",
      "Epoch 134/600\n",
      "21/21 [==============================] - 0s 3ms/step - loss: 0.4364 - val_loss: 0.3741\n",
      "Epoch 135/600\n",
      "21/21 [==============================] - 0s 3ms/step - loss: 0.4346 - val_loss: 0.3718\n",
      "Epoch 136/600\n",
      "21/21 [==============================] - 0s 3ms/step - loss: 0.4262 - val_loss: 0.3713\n",
      "Epoch 137/600\n",
      "21/21 [==============================] - 0s 3ms/step - loss: 0.4423 - val_loss: 0.3696\n",
      "Epoch 138/600\n",
      "21/21 [==============================] - 0s 3ms/step - loss: 0.4405 - val_loss: 0.3705\n",
      "Epoch 139/600\n",
      "21/21 [==============================] - 0s 3ms/step - loss: 0.4290 - val_loss: 0.3755\n",
      "Epoch 140/600\n",
      "21/21 [==============================] - 0s 3ms/step - loss: 0.4529 - val_loss: 0.3762\n",
      "Epoch 141/600\n",
      "21/21 [==============================] - 0s 3ms/step - loss: 0.4423 - val_loss: 0.3718\n",
      "Epoch 142/600\n",
      "21/21 [==============================] - 0s 3ms/step - loss: 0.4568 - val_loss: 0.3706\n",
      "Epoch 143/600\n",
      "21/21 [==============================] - 0s 3ms/step - loss: 0.4381 - val_loss: 0.3723\n",
      "Epoch 144/600\n",
      "21/21 [==============================] - 0s 3ms/step - loss: 0.4454 - val_loss: 0.3729\n",
      "Epoch 145/600\n",
      "21/21 [==============================] - 0s 3ms/step - loss: 0.4445 - val_loss: 0.3735\n",
      "Epoch 146/600\n",
      "21/21 [==============================] - 0s 3ms/step - loss: 0.4586 - val_loss: 0.3748\n",
      "Epoch 147/600\n",
      "21/21 [==============================] - 0s 3ms/step - loss: 0.4446 - val_loss: 0.3773\n",
      "Epoch 148/600\n",
      "21/21 [==============================] - 0s 3ms/step - loss: 0.4213 - val_loss: 0.3759\n",
      "Epoch 149/600\n",
      "21/21 [==============================] - 0s 3ms/step - loss: 0.4345 - val_loss: 0.3703\n",
      "Epoch 150/600\n",
      "21/21 [==============================] - 0s 3ms/step - loss: 0.4102 - val_loss: 0.3675\n",
      "Epoch 151/600\n",
      "21/21 [==============================] - 0s 3ms/step - loss: 0.4134 - val_loss: 0.3651\n",
      "Epoch 152/600\n",
      "21/21 [==============================] - 0s 3ms/step - loss: 0.4353 - val_loss: 0.3673\n",
      "Epoch 153/600\n",
      "21/21 [==============================] - 0s 3ms/step - loss: 0.4229 - val_loss: 0.3709\n",
      "Epoch 154/600\n",
      "21/21 [==============================] - 0s 3ms/step - loss: 0.4300 - val_loss: 0.3710\n",
      "Epoch 155/600\n",
      "21/21 [==============================] - 0s 3ms/step - loss: 0.4156 - val_loss: 0.3684\n",
      "Epoch 156/600\n",
      "21/21 [==============================] - 0s 3ms/step - loss: 0.4272 - val_loss: 0.3661\n",
      "Epoch 157/600\n",
      "21/21 [==============================] - 0s 3ms/step - loss: 0.4107 - val_loss: 0.3646\n",
      "Epoch 158/600\n",
      "21/21 [==============================] - 0s 3ms/step - loss: 0.4358 - val_loss: 0.3677\n",
      "Epoch 159/600\n",
      "21/21 [==============================] - 0s 4ms/step - loss: 0.4424 - val_loss: 0.3702\n",
      "Epoch 160/600\n",
      "21/21 [==============================] - 0s 3ms/step - loss: 0.4139 - val_loss: 0.3718\n",
      "Epoch 161/600\n",
      "21/21 [==============================] - 0s 3ms/step - loss: 0.4301 - val_loss: 0.3700\n",
      "Epoch 162/600\n",
      "21/21 [==============================] - 0s 3ms/step - loss: 0.4256 - val_loss: 0.3705\n",
      "Epoch 163/600\n",
      "21/21 [==============================] - 0s 3ms/step - loss: 0.4356 - val_loss: 0.3705\n",
      "Epoch 164/600\n"
     ]
    },
    {
     "name": "stdout",
     "output_type": "stream",
     "text": [
      "21/21 [==============================] - 0s 3ms/step - loss: 0.4320 - val_loss: 0.3693\n",
      "Epoch 165/600\n",
      "21/21 [==============================] - 0s 3ms/step - loss: 0.4331 - val_loss: 0.3711\n",
      "Epoch 166/600\n",
      "21/21 [==============================] - 0s 3ms/step - loss: 0.4243 - val_loss: 0.3669\n",
      "Epoch 167/600\n",
      "21/21 [==============================] - 0s 3ms/step - loss: 0.4387 - val_loss: 0.3661\n",
      "Epoch 168/600\n",
      "21/21 [==============================] - 0s 3ms/step - loss: 0.4368 - val_loss: 0.3688\n",
      "Epoch 169/600\n",
      "21/21 [==============================] - 0s 3ms/step - loss: 0.4533 - val_loss: 0.3714\n",
      "Epoch 170/600\n",
      "21/21 [==============================] - 0s 3ms/step - loss: 0.4450 - val_loss: 0.3714\n",
      "Epoch 171/600\n",
      "21/21 [==============================] - 0s 3ms/step - loss: 0.4191 - val_loss: 0.3677\n",
      "Epoch 172/600\n",
      "21/21 [==============================] - 0s 3ms/step - loss: 0.4487 - val_loss: 0.3677\n",
      "Epoch 173/600\n",
      "21/21 [==============================] - 0s 3ms/step - loss: 0.4250 - val_loss: 0.3677\n",
      "Epoch 174/600\n",
      "21/21 [==============================] - 0s 3ms/step - loss: 0.4477 - val_loss: 0.3702\n",
      "Epoch 175/600\n",
      "21/21 [==============================] - 0s 3ms/step - loss: 0.4283 - val_loss: 0.3698\n",
      "Epoch 176/600\n",
      "21/21 [==============================] - 0s 3ms/step - loss: 0.4447 - val_loss: 0.3720\n",
      "Epoch 177/600\n",
      "21/21 [==============================] - 0s 3ms/step - loss: 0.4359 - val_loss: 0.3698\n",
      "Epoch 178/600\n",
      "21/21 [==============================] - 0s 3ms/step - loss: 0.4155 - val_loss: 0.3690\n",
      "Epoch 179/600\n",
      "21/21 [==============================] - 0s 3ms/step - loss: 0.4378 - val_loss: 0.3676\n",
      "Epoch 180/600\n",
      "21/21 [==============================] - 0s 3ms/step - loss: 0.4243 - val_loss: 0.3660\n",
      "Epoch 181/600\n",
      "21/21 [==============================] - 0s 3ms/step - loss: 0.4202 - val_loss: 0.3660\n",
      "Epoch 182/600\n",
      "21/21 [==============================] - 0s 3ms/step - loss: 0.4208 - val_loss: 0.3660\n",
      "Epoch 182: early stopping\n"
     ]
    },
    {
     "data": {
      "text/plain": [
       "<keras.callbacks.History at 0x1f598d8c9c8>"
      ]
     },
     "execution_count": 84,
     "metadata": {},
     "output_type": "execute_result"
    }
   ],
   "source": [
    "model.fit(x=X_train, \n",
    "          y=y_train, \n",
    "          epochs=600,\n",
    "          validation_data=(X_test, y_test), verbose=1,\n",
    "          callbacks=[early_stop]\n",
    "          )"
   ]
  },
  {
   "cell_type": "code",
   "execution_count": 85,
   "id": "640c87bd",
   "metadata": {},
   "outputs": [
    {
     "data": {
      "text/plain": [
       "<matplotlib.axes._subplots.AxesSubplot at 0x1f599f2c548>"
      ]
     },
     "execution_count": 85,
     "metadata": {},
     "output_type": "execute_result"
    },
    {
     "data": {
      "image/png": "[encoded data removed]",
      "text/plain": [
       "<Figure size 432x288 with 1 Axes>"
      ]
     },
     "metadata": {
      "needs_background": "light"
     },
     "output_type": "display_data"
    }
   ],
   "source": [
    "model_loss = pd.DataFrame(model.history.history)\n",
    "model_loss.plot()"
   ]
  },
  {
   "cell_type": "code",
   "execution_count": 93,
   "id": "32e9b161",
   "metadata": {},
   "outputs": [
    {
     "name": "stdout",
     "output_type": "stream",
     "text": [
      "7/7 [==============================] - 0s 1ms/step\n"
     ]
    }
   ],
   "source": [
    "predictions = (model.predict(X_test) > 0.5).astype(\"int32\")"
   ]
  },
  {
   "cell_type": "code",
   "execution_count": 95,
   "id": "ef787064",
   "metadata": {},
   "outputs": [
    {
     "name": "stdout",
     "output_type": "stream",
     "text": [
      "              precision    recall  f1-score   support\n",
      "\n",
      "           0       0.88      0.82      0.85       134\n",
      "           1       0.76      0.83      0.79        89\n",
      "\n",
      "    accuracy                           0.83       223\n",
      "   macro avg       0.82      0.83      0.82       223\n",
      "weighted avg       0.83      0.83      0.83       223\n",
      "\n"
     ]
    }
   ],
   "source": [
    "print(classification_report(y_test,predictions))"
   ]
  },
  {
   "cell_type": "code",
   "execution_count": 96,
   "id": "ab59a76e",
   "metadata": {},
   "outputs": [
    {
     "name": "stdout",
     "output_type": "stream",
     "text": [
      "[[110  24]\n",
      " [ 15  74]]\n"
     ]
    }
   ],
   "source": [
    "print(confusion_matrix(y_test,predictions))"
   ]
  },
  {
   "cell_type": "code",
   "execution_count": 152,
   "id": "f2417780",
   "metadata": {},
   "outputs": [
    {
     "name": "stdout",
     "output_type": "stream",
     "text": [
      "14/14 [==============================] - 0s 1ms/step\n"
     ]
    }
   ],
   "source": [
    "test_predictions = (model.predict(test) > 0.5).astype(\"int32\")"
   ]
  },
  {
   "cell_type": "code",
   "execution_count": 160,
   "id": "500dde3f",
   "metadata": {},
   "outputs": [
    {
     "data": {
      "text/plain": [
       "(418, 1)"
      ]
     },
     "execution_count": 160,
     "metadata": {},
     "output_type": "execute_result"
    }
   ],
   "source": [
    "test_predictions.shape"
   ]
  },
  {
   "cell_type": "code",
   "execution_count": 164,
   "id": "7a17babe",
   "metadata": {},
   "outputs": [
    {
     "data": {
      "text/html": [
       "<div>\n",
       "<style scoped>\n",
       "    .dataframe tbody tr th:only-of-type {\n",
       "        vertical-align: middle;\n",
       "    }\n",
       "\n",
       "    .dataframe tbody tr th {\n",
       "        vertical-align: top;\n",
       "    }\n",
       "\n",
       "    .dataframe thead th {\n",
       "        text-align: right;\n",
       "    }\n",
       "</style>\n",
       "<table border=\"1\" class=\"dataframe\">\n",
       "  <thead>\n",
       "    <tr style=\"text-align: right;\">\n",
       "      <th></th>\n",
       "      <th>Survived</th>\n",
       "    </tr>\n",
       "    <tr>\n",
       "      <th>PassengerId</th>\n",
       "      <th></th>\n",
       "    </tr>\n",
       "  </thead>\n",
       "  <tbody>\n",
       "    <tr>\n",
       "      <th>892</th>\n",
       "      <td>0</td>\n",
       "    </tr>\n",
       "    <tr>\n",
       "      <th>893</th>\n",
       "      <td>0</td>\n",
       "    </tr>\n",
       "    <tr>\n",
       "      <th>894</th>\n",
       "      <td>0</td>\n",
       "    </tr>\n",
       "    <tr>\n",
       "      <th>895</th>\n",
       "      <td>1</td>\n",
       "    </tr>\n",
       "    <tr>\n",
       "      <th>896</th>\n",
       "      <td>1</td>\n",
       "    </tr>\n",
       "    <tr>\n",
       "      <th>...</th>\n",
       "      <td>...</td>\n",
       "    </tr>\n",
       "    <tr>\n",
       "      <th>1305</th>\n",
       "      <td>1</td>\n",
       "    </tr>\n",
       "    <tr>\n",
       "      <th>1306</th>\n",
       "      <td>1</td>\n",
       "    </tr>\n",
       "    <tr>\n",
       "      <th>1307</th>\n",
       "      <td>0</td>\n",
       "    </tr>\n",
       "    <tr>\n",
       "      <th>1308</th>\n",
       "      <td>1</td>\n",
       "    </tr>\n",
       "    <tr>\n",
       "      <th>1309</th>\n",
       "      <td>1</td>\n",
       "    </tr>\n",
       "  </tbody>\n",
       "</table>\n",
       "<p>418 rows × 1 columns</p>\n",
       "</div>"
      ],
      "text/plain": [
       "             Survived\n",
       "PassengerId          \n",
       "892                 0\n",
       "893                 0\n",
       "894                 0\n",
       "895                 1\n",
       "896                 1\n",
       "...               ...\n",
       "1305                1\n",
       "1306                1\n",
       "1307                0\n",
       "1308                1\n",
       "1309                1\n",
       "\n",
       "[418 rows x 1 columns]"
      ]
     },
     "execution_count": 164,
     "metadata": {},
     "output_type": "execute_result"
    }
   ],
   "source": [
    "submit = pd.DataFrame(test_predictions.reshape((418,)), columns=['Survived'], index=test_ids)\n",
    "# pd.DataFrame(test_predictions.reshape((418,)), columns=['Survived'], index=test_ids)\n",
    "submit\n",
    "# test.shape"
   ]
  },
  {
   "cell_type": "code",
   "execution_count": 165,
   "id": "e022fec0",
   "metadata": {},
   "outputs": [],
   "source": [
    "submit.reset_index(inplace=True)"
   ]
  },
  {
   "cell_type": "code",
   "execution_count": 166,
   "id": "caaf44a1",
   "metadata": {},
   "outputs": [],
   "source": [
    "submit.to_csv('submit7.csv')"
   ]
  },
  {
   "cell_type": "code",
   "execution_count": null,
   "id": "612806d9",
   "metadata": {},
   "outputs": [],
   "source": []
  }
 ],
 "metadata": {
  "kernelspec": {
   "display_name": "Python 3 (ipykernel)",
   "language": "python",
   "name": "python3"
  },
  "language_info": {
   "codemirror_mode": {
    "name": "ipython",
    "version": 3
   },
   "file_extension": ".py",
   "mimetype": "text/x-python",
   "name": "python",
   "nbconvert_exporter": "python",
   "pygments_lexer": "ipython3",
   "version": "3.7.7"
  }
 },
 "nbformat": 4,
 "nbformat_minor": 5
}
