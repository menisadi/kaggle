{
 "cells": [
  {
   "cell_type": "code",
   "execution_count": 1,
   "id": "8b836bc9",
   "metadata": {},
   "outputs": [],
   "source": [
    "import numpy as np\n",
    "import pandas as pd\n",
    "import seaborn as sns\n",
    "import matplotlib.pyplot as plt\n",
    "%config Completer.use_jedi = False\n",
    "%matplotlib inline"
   ]
  },
  {
   "cell_type": "code",
   "execution_count": 2,
   "id": "3921218b",
   "metadata": {},
   "outputs": [],
   "source": [
    "digits = pd.read_csv(\"train.csv\")"
   ]
  },
  {
   "cell_type": "code",
   "execution_count": 3,
   "id": "2f6ff6cb",
   "metadata": {},
   "outputs": [
    {
     "data": {
      "text/html": [
       "<div>\n",
       "<style scoped>\n",
       "    .dataframe tbody tr th:only-of-type {\n",
       "        vertical-align: middle;\n",
       "    }\n",
       "\n",
       "    .dataframe tbody tr th {\n",
       "        vertical-align: top;\n",
       "    }\n",
       "\n",
       "    .dataframe thead th {\n",
       "        text-align: right;\n",
       "    }\n",
       "</style>\n",
       "<table border=\"1\" class=\"dataframe\">\n",
       "  <thead>\n",
       "    <tr style=\"text-align: right;\">\n",
       "      <th></th>\n",
       "      <th>label</th>\n",
       "      <th>pixel0</th>\n",
       "      <th>pixel1</th>\n",
       "      <th>pixel2</th>\n",
       "      <th>pixel3</th>\n",
       "      <th>pixel4</th>\n",
       "      <th>pixel5</th>\n",
       "      <th>pixel6</th>\n",
       "      <th>pixel7</th>\n",
       "      <th>pixel8</th>\n",
       "      <th>...</th>\n",
       "      <th>pixel774</th>\n",
       "      <th>pixel775</th>\n",
       "      <th>pixel776</th>\n",
       "      <th>pixel777</th>\n",
       "      <th>pixel778</th>\n",
       "      <th>pixel779</th>\n",
       "      <th>pixel780</th>\n",
       "      <th>pixel781</th>\n",
       "      <th>pixel782</th>\n",
       "      <th>pixel783</th>\n",
       "    </tr>\n",
       "  </thead>\n",
       "  <tbody>\n",
       "    <tr>\n",
       "      <th>0</th>\n",
       "      <td>1</td>\n",
       "      <td>0</td>\n",
       "      <td>0</td>\n",
       "      <td>0</td>\n",
       "      <td>0</td>\n",
       "      <td>0</td>\n",
       "      <td>0</td>\n",
       "      <td>0</td>\n",
       "      <td>0</td>\n",
       "      <td>0</td>\n",
       "      <td>...</td>\n",
       "      <td>0</td>\n",
       "      <td>0</td>\n",
       "      <td>0</td>\n",
       "      <td>0</td>\n",
       "      <td>0</td>\n",
       "      <td>0</td>\n",
       "      <td>0</td>\n",
       "      <td>0</td>\n",
       "      <td>0</td>\n",
       "      <td>0</td>\n",
       "    </tr>\n",
       "    <tr>\n",
       "      <th>1</th>\n",
       "      <td>0</td>\n",
       "      <td>0</td>\n",
       "      <td>0</td>\n",
       "      <td>0</td>\n",
       "      <td>0</td>\n",
       "      <td>0</td>\n",
       "      <td>0</td>\n",
       "      <td>0</td>\n",
       "      <td>0</td>\n",
       "      <td>0</td>\n",
       "      <td>...</td>\n",
       "      <td>0</td>\n",
       "      <td>0</td>\n",
       "      <td>0</td>\n",
       "      <td>0</td>\n",
       "      <td>0</td>\n",
       "      <td>0</td>\n",
       "      <td>0</td>\n",
       "      <td>0</td>\n",
       "      <td>0</td>\n",
       "      <td>0</td>\n",
       "    </tr>\n",
       "    <tr>\n",
       "      <th>2</th>\n",
       "      <td>1</td>\n",
       "      <td>0</td>\n",
       "      <td>0</td>\n",
       "      <td>0</td>\n",
       "      <td>0</td>\n",
       "      <td>0</td>\n",
       "      <td>0</td>\n",
       "      <td>0</td>\n",
       "      <td>0</td>\n",
       "      <td>0</td>\n",
       "      <td>...</td>\n",
       "      <td>0</td>\n",
       "      <td>0</td>\n",
       "      <td>0</td>\n",
       "      <td>0</td>\n",
       "      <td>0</td>\n",
       "      <td>0</td>\n",
       "      <td>0</td>\n",
       "      <td>0</td>\n",
       "      <td>0</td>\n",
       "      <td>0</td>\n",
       "    </tr>\n",
       "    <tr>\n",
       "      <th>3</th>\n",
       "      <td>4</td>\n",
       "      <td>0</td>\n",
       "      <td>0</td>\n",
       "      <td>0</td>\n",
       "      <td>0</td>\n",
       "      <td>0</td>\n",
       "      <td>0</td>\n",
       "      <td>0</td>\n",
       "      <td>0</td>\n",
       "      <td>0</td>\n",
       "      <td>...</td>\n",
       "      <td>0</td>\n",
       "      <td>0</td>\n",
       "      <td>0</td>\n",
       "      <td>0</td>\n",
       "      <td>0</td>\n",
       "      <td>0</td>\n",
       "      <td>0</td>\n",
       "      <td>0</td>\n",
       "      <td>0</td>\n",
       "      <td>0</td>\n",
       "    </tr>\n",
       "    <tr>\n",
       "      <th>4</th>\n",
       "      <td>0</td>\n",
       "      <td>0</td>\n",
       "      <td>0</td>\n",
       "      <td>0</td>\n",
       "      <td>0</td>\n",
       "      <td>0</td>\n",
       "      <td>0</td>\n",
       "      <td>0</td>\n",
       "      <td>0</td>\n",
       "      <td>0</td>\n",
       "      <td>...</td>\n",
       "      <td>0</td>\n",
       "      <td>0</td>\n",
       "      <td>0</td>\n",
       "      <td>0</td>\n",
       "      <td>0</td>\n",
       "      <td>0</td>\n",
       "      <td>0</td>\n",
       "      <td>0</td>\n",
       "      <td>0</td>\n",
       "      <td>0</td>\n",
       "    </tr>\n",
       "  </tbody>\n",
       "</table>\n",
       "<p>5 rows × 785 columns</p>\n",
       "</div>"
      ],
      "text/plain": [
       "   label  pixel0  pixel1  pixel2  pixel3  pixel4  pixel5  pixel6  pixel7  \\\n",
       "0      1       0       0       0       0       0       0       0       0   \n",
       "1      0       0       0       0       0       0       0       0       0   \n",
       "2      1       0       0       0       0       0       0       0       0   \n",
       "3      4       0       0       0       0       0       0       0       0   \n",
       "4      0       0       0       0       0       0       0       0       0   \n",
       "\n",
       "   pixel8  ...  pixel774  pixel775  pixel776  pixel777  pixel778  pixel779  \\\n",
       "0       0  ...         0         0         0         0         0         0   \n",
       "1       0  ...         0         0         0         0         0         0   \n",
       "2       0  ...         0         0         0         0         0         0   \n",
       "3       0  ...         0         0         0         0         0         0   \n",
       "4       0  ...         0         0         0         0         0         0   \n",
       "\n",
       "   pixel780  pixel781  pixel782  pixel783  \n",
       "0         0         0         0         0  \n",
       "1         0         0         0         0  \n",
       "2         0         0         0         0  \n",
       "3         0         0         0         0  \n",
       "4         0         0         0         0  \n",
       "\n",
       "[5 rows x 785 columns]"
      ]
     },
     "execution_count": 3,
     "metadata": {},
     "output_type": "execute_result"
    }
   ],
   "source": [
    "digits.head()"
   ]
  },
  {
   "cell_type": "code",
   "execution_count": 4,
   "id": "cdcd169d",
   "metadata": {},
   "outputs": [],
   "source": [
    "test = pd.read_csv('test.csv')"
   ]
  },
  {
   "cell_type": "code",
   "execution_count": 5,
   "id": "5dddabd8",
   "metadata": {},
   "outputs": [],
   "source": [
    "from sklearn.neighbors import KNeighborsClassifier"
   ]
  },
  {
   "cell_type": "code",
   "execution_count": 6,
   "id": "1218eeb7",
   "metadata": {},
   "outputs": [],
   "source": [
    "from sklearn.model_selection import train_test_split\n",
    "from sklearn.metrics import confusion_matrix, classification_report, accuracy_score"
   ]
  },
  {
   "cell_type": "markdown",
   "id": "6775b1d7",
   "metadata": {},
   "source": [
    "Trying something (added after the first 2 naive attempts)"
   ]
  },
  {
   "cell_type": "code",
   "execution_count": 50,
   "id": "83e0311e",
   "metadata": {},
   "outputs": [],
   "source": [
    "def averaging(row):\n",
    "    d = np.array(row).reshape((28,28))\n",
    "    blur = np.zeros((28,28))\n",
    "    for i in range(26):\n",
    "        for j in range(26):\n",
    "            blur[i,j] = sum(d[k,l] for k,l in zip(range(i-1,i+2),range(j-1,j+2)))/9\n",
    "    return blur.flatten()"
   ]
  },
  {
   "cell_type": "code",
   "execution_count": 49,
   "id": "15ae666d",
   "metadata": {},
   "outputs": [],
   "source": [
    "pixel_cols = ['pixel'+str(i) for i in range(784)]"
   ]
  },
  {
   "cell_type": "code",
   "execution_count": null,
   "id": "53a20c63",
   "metadata": {},
   "outputs": [],
   "source": [
    "blurred_digits_array = pd.DataFrame(digits['label'])\n",
    "blurred_digits_array[pixel_cols] = pd.DataFrame(digits.drop('label', axis=1).apply(averaging, axis=1).to_list(), columns=pixel_cols)\n",
    "blurred_digits_array.head()"
   ]
  },
  {
   "cell_type": "code",
   "execution_count": null,
   "id": "a7e7dc10",
   "metadata": {},
   "outputs": [],
   "source": [
    "blurred_digits_array.head()"
   ]
  },
  {
   "cell_type": "code",
   "execution_count": null,
   "id": "de4c6b7a",
   "metadata": {},
   "outputs": [],
   "source": [
    "fig, axs = plt.subplots(2,5)\n",
    "for ax in axs.flat:\n",
    "    picID = np.random.randint(42000)\n",
    "    d = np.array(blurred_digits_array.iloc[picID,1:]).reshape((28,28))\n",
    "    ax.imshow(d, cmap='gray')"
   ]
  },
  {
   "cell_type": "code",
   "execution_count": null,
   "id": "f85a63ea",
   "metadata": {},
   "outputs": [],
   "source": []
  },
  {
   "cell_type": "code",
   "execution_count": null,
   "id": "9e7106f0",
   "metadata": {},
   "outputs": [],
   "source": [
    "knn = KNeighborsClassifier(n_neighbors=5)\n",
    "\n",
    "X = blurred_digits_array.drop('label', axis=1)\n",
    "y = blurred_digits_array['label']\n",
    "X_train, X_test, y_train, y_test = train_test_split(X, y, test_size=0.3)\n",
    "\n",
    "knn.fit(X_train, y_train)\n",
    "\n",
    "predictions = knn.predict(X_test)\n",
    "\n",
    "print(classification_report(y_test, predictions))"
   ]
  },
  {
   "cell_type": "code",
   "execution_count": null,
   "id": "44c1409a",
   "metadata": {},
   "outputs": [],
   "source": [
    "scores = []\n",
    "for k in range(1, 20):\n",
    "    knn = KNeighborsClassifier(n_neighbors=k)\n",
    "\n",
    "    X = blurred_digits_array.drop('label', axis=1)\n",
    "    y = blurred_digits_array['label']\n",
    "    X_train, X_test, y_train, y_test = train_test_split(X, y, test_size=0.3)\n",
    "\n",
    "    knn.fit(X_train, y_train)\n",
    "\n",
    "    predictions = knn.predict(X_test)\n",
    "    \n",
    "    score = accuracy_score(y_test, predictions)\n",
    "    scores.append(score)"
   ]
  },
  {
   "cell_type": "code",
   "execution_count": null,
   "id": "c94af496",
   "metadata": {},
   "outputs": [],
   "source": [
    "plt.plot(range(1,20), scores)"
   ]
  },
  {
   "cell_type": "code",
   "execution_count": null,
   "id": "f147bdb6",
   "metadata": {},
   "outputs": [],
   "source": [
    "print(scores)"
   ]
  },
  {
   "cell_type": "code",
   "execution_count": null,
   "id": "0b1bce72",
   "metadata": {
    "scrolled": true
   },
   "outputs": [],
   "source": [
    "knn = KNeighborsClassifier(n_neighbors=3)\n",
    "\n",
    "X = blurred_digits_array.drop('label', axis=1)\n",
    "y = blurred_digits_array['label']\n",
    "X_train, X_test, y_train, y_test = train_test_split(X, y, test_size=0.3)\n",
    "\n",
    "knn.fit(X_train, y_train)\n",
    "\n",
    "predictions = knn.predict(X_test)\n",
    "\n",
    "# print(confusion_matrix(y_test, predictions))\n",
    "print(classification_report(y_test, predictions))"
   ]
  },
  {
   "cell_type": "code",
   "execution_count": null,
   "id": "b4d6910e",
   "metadata": {},
   "outputs": [],
   "source": [
    "test.head()"
   ]
  },
  {
   "cell_type": "code",
   "execution_count": null,
   "id": "803b5e87",
   "metadata": {},
   "outputs": [],
   "source": [
    "blurred_test = pd.DataFrame()\n",
    "blurred_test[pixel_cols] = pd.DataFrame(test.apply(averaging, axis=1).to_list(), columns=pixel_cols)"
   ]
  },
  {
   "cell_type": "code",
   "execution_count": null,
   "id": "e4b853c8",
   "metadata": {},
   "outputs": [],
   "source": [
    "knn = KNeighborsClassifier(n_neighbors=3)\n",
    "\n",
    "X = blurred_digits_array.drop('label', axis=1)\n",
    "y = blurred_digits_array['label']\n",
    "X_train, X_test, y_train, y_test = train_test_split(X, y, test_size=0.1)\n",
    "\n",
    "knn.fit(X_train, y_train)\n",
    "\n",
    "submission = knn.predict(blurred_test)"
   ]
  },
  {
   "cell_type": "code",
   "execution_count": null,
   "id": "1c7a0da7",
   "metadata": {},
   "outputs": [],
   "source": [
    "submit = pd.DataFrame(submission, columns=['label'], index=range(1,len(submission)+1))"
   ]
  },
  {
   "cell_type": "code",
   "execution_count": null,
   "id": "39d3f90f",
   "metadata": {},
   "outputs": [],
   "source": [
    "submit.head()"
   ]
  },
  {
   "cell_type": "code",
   "execution_count": null,
   "id": "4562647c",
   "metadata": {},
   "outputs": [],
   "source": [
    "submit.to_csv('submit3.csv')"
   ]
  },
  {
   "cell_type": "markdown",
   "id": "73cba749",
   "metadata": {},
   "source": [
    "## Some EDA"
   ]
  },
  {
   "cell_type": "code",
   "execution_count": null,
   "id": "b9638385",
   "metadata": {
    "scrolled": true
   },
   "outputs": [],
   "source": [
    "sns.countplot(data=digits, x='label')"
   ]
  },
  {
   "cell_type": "code",
   "execution_count": null,
   "id": "98d29093",
   "metadata": {},
   "outputs": [],
   "source": [
    "digits.describe()"
   ]
  },
  {
   "cell_type": "code",
   "execution_count": null,
   "id": "70f3920e",
   "metadata": {},
   "outputs": [],
   "source": [
    "digits.info()"
   ]
  },
  {
   "cell_type": "code",
   "execution_count": null,
   "id": "3061ae10",
   "metadata": {},
   "outputs": [],
   "source": [
    "fig, axs = plt.subplots(2,5)\n",
    "for ax in axs.flat:\n",
    "    picID = np.random.randint(42000)\n",
    "    d = np.array(digits.iloc[picID,1:]).reshape((28,28))\n",
    "    ax.imshow(d, cmap='gray')"
   ]
  },
  {
   "cell_type": "code",
   "execution_count": null,
   "id": "731e0778",
   "metadata": {},
   "outputs": [],
   "source": [
    "fig, axs = plt.subplots(1,5)\n",
    "fig2, axs2 = plt.subplots(1,5)\n",
    "for ax,ax2 in zip(axs.flat,axs2.flat):\n",
    "    picID = np.random.randint(42000)\n",
    "    d = np.array(digits.iloc[picID,1:]).reshape((28,28))\n",
    "    smaller = np.zeros((28,28))\n",
    "    for i in range(26):\n",
    "        for j in range(26):\n",
    "            smaller[i,j] = sum(d[k,l] for k,l in zip(range(i-2,i+3),range(j-2,j+3)))/25\n",
    "    ax.imshow(d, cmap='gray')\n",
    "    ax2.imshow(smaller, cmap='gray')"
   ]
  },
  {
   "cell_type": "code",
   "execution_count": null,
   "id": "804870a1",
   "metadata": {},
   "outputs": [],
   "source": [
    "wrongs = (i for i in range(len(predictions)) if y_test.to_numpy()[i]!=predictions[i])\n",
    "\n",
    "fig, axs = plt.subplots(2,5)\n",
    "\n",
    "for ax in axs.flat:\n",
    "    picID = next(wrongs)\n",
    "    ax.set_title(f'True:{y_test.to_numpy()[picID]}, Pred:{predictions[picID]}', fontsize=7)\n",
    "    d = np.array(X_test.iloc[picID,:]).reshape((28,28))\n",
    "    ax.imshow(d, cmap='gray')\n",
    "    ax.axis('off')"
   ]
  },
  {
   "cell_type": "markdown",
   "id": "c8fb9485",
   "metadata": {},
   "source": [
    "## Second try"
   ]
  },
  {
   "cell_type": "code",
   "execution_count": null,
   "id": "7ed0a738",
   "metadata": {},
   "outputs": [],
   "source": [
    "from sklearn.ensemble import RandomForestClassifier"
   ]
  },
  {
   "cell_type": "code",
   "execution_count": null,
   "id": "8a129546",
   "metadata": {},
   "outputs": [],
   "source": [
    "rfc = RandomForestClassifier()"
   ]
  },
  {
   "cell_type": "code",
   "execution_count": null,
   "id": "50b7e147",
   "metadata": {},
   "outputs": [],
   "source": [
    "X = digits.drop('label', axis=1)\n",
    "y = digits['label']\n",
    "X_train, X_test, y_train, y_test = train_test_split(X, y, test_size=0.3)\n",
    "\n",
    "rfc.fit(X_train, y_train)\n",
    "\n",
    "predictions = rfc.predict(X_test)\n",
    "\n",
    "# print(confusion_matrix(y_test, predictions))\n",
    "print(classification_report(y_test, predictions))"
   ]
  },
  {
   "cell_type": "code",
   "execution_count": null,
   "id": "98320c7e",
   "metadata": {},
   "outputs": [],
   "source": [
    "scores = []\n",
    "for depth in range(5, 100, 10):\n",
    "    rfc = RandomForestClassifier(max_depth=depth)\n",
    "    X = digits.drop('label', axis=1)\n",
    "    y = digits['label']\n",
    "    X_train, X_test, y_train, y_test = train_test_split(X, y, test_size=0.3)\n",
    "\n",
    "    rfc.fit(X_train, y_train)\n",
    "    predictions = rfc.predict(X_test)\n",
    "    \n",
    "    score = accuracy_score(y_test, predictions)\n",
    "    scores.append(score)"
   ]
  },
  {
   "cell_type": "code",
   "execution_count": null,
   "id": "63d543e3",
   "metadata": {},
   "outputs": [],
   "source": [
    "plt.plot(range(5, 100, 10), scores)"
   ]
  },
  {
   "cell_type": "code",
   "execution_count": null,
   "id": "fd19bff1",
   "metadata": {},
   "outputs": [],
   "source": [
    "depth = range(5,100,10)[1]"
   ]
  },
  {
   "cell_type": "code",
   "execution_count": null,
   "id": "5212e111",
   "metadata": {},
   "outputs": [],
   "source": [
    "rfc = RandomForestClassifier(max_depth=depth)\n",
    "X = digits.drop('label', axis=1)\n",
    "y = digits['label']\n",
    "X_train, X_test, y_train, y_test = train_test_split(X, y, test_size=0.3)\n",
    "\n",
    "rfc.fit(X_train, y_train)\n",
    "predictions = rfc.predict(X_test)\n",
    "\n",
    "print(classification_report(y_test, predictions))"
   ]
  },
  {
   "cell_type": "code",
   "execution_count": null,
   "id": "901cbc60",
   "metadata": {},
   "outputs": [],
   "source": [
    "wrongs = (i for i in range(len(predictions)) if y_test.to_numpy()[i]!=predictions[i])\n",
    "\n",
    "fig, axs = plt.subplots(2,5)\n",
    "\n",
    "for ax in axs.flat:\n",
    "    picID = next(wrongs)\n",
    "    ax.set_title(f'True:{y_test.to_numpy()[picID]}, Pred:{predictions[picID]}', fontsize=7)\n",
    "    d = np.array(X_test.iloc[picID,:]).reshape((28,28))\n",
    "    ax.imshow(d, cmap='gray')\n",
    "    ax.axis('off')"
   ]
  },
  {
   "cell_type": "code",
   "execution_count": null,
   "id": "11071577",
   "metadata": {},
   "outputs": [],
   "source": [
    "depth = 15\n",
    "rfc = RandomForestClassifier(max_depth=depth)\n",
    "X = digits.drop('label', axis=1)\n",
    "y = digits['label']\n",
    "X_train, X_test, y_train, y_test = train_test_split(X, y, test_size=0.1)\n",
    "\n",
    "rfc.fit(X_train, y_train)\n",
    "\n",
    "submission = rfc.predict(test)"
   ]
  },
  {
   "cell_type": "code",
   "execution_count": null,
   "id": "fb8be7ea",
   "metadata": {},
   "outputs": [],
   "source": [
    "submit = pd.DataFrame(submission, columns=['label'], index=range(1,len(submission)+1))"
   ]
  },
  {
   "cell_type": "code",
   "execution_count": null,
   "id": "a3231f42",
   "metadata": {},
   "outputs": [],
   "source": [
    "submit.head()"
   ]
  },
  {
   "cell_type": "code",
   "execution_count": null,
   "id": "dd640ac4",
   "metadata": {},
   "outputs": [],
   "source": [
    "submit.to_csv('submit2.csv')"
   ]
  },
  {
   "cell_type": "markdown",
   "id": "ba5b93b9",
   "metadata": {},
   "source": [
    "## Third"
   ]
  },
  {
   "cell_type": "code",
   "execution_count": 29,
   "id": "e8251102",
   "metadata": {},
   "outputs": [],
   "source": [
    "from sklearn.svm import SVC"
   ]
  },
  {
   "cell_type": "code",
   "execution_count": null,
   "id": "eb55bcfe",
   "metadata": {},
   "outputs": [],
   "source": [
    "from sklearn.model_selection import GridSearchCV"
   ]
  },
  {
   "cell_type": "markdown",
   "id": "a13c5db4",
   "metadata": {},
   "source": [
    "### Without Gridsearch"
   ]
  },
  {
   "cell_type": "code",
   "execution_count": null,
   "id": "69ceb0a6",
   "metadata": {},
   "outputs": [],
   "source": [
    "X = digits.drop('label', axis=1)\n",
    "y = digits['label']\n",
    "X_train, X_test, y_train, y_test = train_test_split(X, y, test_size=0.3)"
   ]
  },
  {
   "cell_type": "code",
   "execution_count": null,
   "id": "ef058654",
   "metadata": {},
   "outputs": [],
   "source": [
    "svc = SVC()\n",
    "svc.fit(X_train,y_train)"
   ]
  },
  {
   "cell_type": "code",
   "execution_count": null,
   "id": "16841415",
   "metadata": {},
   "outputs": [],
   "source": [
    "predictions = svc.predict(X_test)\n",
    "\n",
    "print(classification_report(y_test, predictions))"
   ]
  },
  {
   "cell_type": "code",
   "execution_count": null,
   "id": "0e4fbfef",
   "metadata": {},
   "outputs": [],
   "source": [
    "X = digits.drop('label', axis=1)\n",
    "y = digits['label']\n",
    "X_train, X_test, y_train, y_test = train_test_split(X, y, test_size=0.1)\n",
    "\n",
    "svc.fit(X_train, y_train)\n",
    "\n",
    "submission = svc.predict(test)"
   ]
  },
  {
   "cell_type": "code",
   "execution_count": null,
   "id": "7cf13d0e",
   "metadata": {},
   "outputs": [],
   "source": [
    "submit = pd.DataFrame(submission, columns=['label'], index=range(1,len(submission)+1))"
   ]
  },
  {
   "cell_type": "code",
   "execution_count": null,
   "id": "60c75968",
   "metadata": {},
   "outputs": [],
   "source": [
    "submit.to_csv('submit4.csv')"
   ]
  },
  {
   "cell_type": "markdown",
   "id": "1c1f432b",
   "metadata": {},
   "source": [
    "### With Gridsearch"
   ]
  },
  {
   "cell_type": "code",
   "execution_count": null,
   "id": "1b30d670",
   "metadata": {},
   "outputs": [],
   "source": [
    "X = digits.drop('label', axis=1)\n",
    "y = digits['label']\n",
    "X_train, X_test, y_train, y_test = train_test_split(X, y, test_size=0.3)\n",
    "\n",
    "param_grid = {'C': [0.1,1, 10, 100], 'gamma': [1,0.1,0.01,0.001]} \n",
    "\n",
    "grid = GridSearchCV(SVC(),param_grid,verbose=3)\n",
    "grid.fit(X_train,y_train)"
   ]
  },
  {
   "cell_type": "code",
   "execution_count": null,
   "id": "13177338",
   "metadata": {},
   "outputs": [],
   "source": [
    "grid.best_estimator_"
   ]
  },
  {
   "cell_type": "code",
   "execution_count": null,
   "id": "b456d65d",
   "metadata": {},
   "outputs": [],
   "source": [
    "predictions = grid.predict(X_test)\n",
    "\n",
    "print(classification_report(y_test, predictions))"
   ]
  },
  {
   "cell_type": "markdown",
   "id": "ae0a801f",
   "metadata": {},
   "source": [
    "## Another Try"
   ]
  },
  {
   "cell_type": "code",
   "execution_count": null,
   "id": "ded4cd43",
   "metadata": {},
   "outputs": [],
   "source": [
    "from sklearn.preprocessing import StandardScaler"
   ]
  },
  {
   "cell_type": "code",
   "execution_count": null,
   "id": "0fe9a431",
   "metadata": {},
   "outputs": [],
   "source": [
    "from sklearn.decomposition import PCA"
   ]
  },
  {
   "cell_type": "code",
   "execution_count": null,
   "id": "d65beb1f",
   "metadata": {},
   "outputs": [],
   "source": [
    "scaler = StandardScaler()"
   ]
  },
  {
   "cell_type": "code",
   "execution_count": null,
   "id": "861794d0",
   "metadata": {
    "scrolled": true
   },
   "outputs": [],
   "source": [
    "scaler.fit(digits.drop('label',axis=1))"
   ]
  },
  {
   "cell_type": "code",
   "execution_count": null,
   "id": "25ff733d",
   "metadata": {},
   "outputs": [],
   "source": [
    "scaled_digits = scaler.transform(digits.drop('label', axis=1))"
   ]
  },
  {
   "cell_type": "code",
   "execution_count": null,
   "id": "e52fc75a",
   "metadata": {},
   "outputs": [],
   "source": [
    "pca = PCA(n_components=2)"
   ]
  },
  {
   "cell_type": "code",
   "execution_count": null,
   "id": "fef17180",
   "metadata": {},
   "outputs": [],
   "source": [
    "pca.fit(scaled_digits)\n",
    "# pca.fit(digits)"
   ]
  },
  {
   "cell_type": "code",
   "execution_count": null,
   "id": "1eba1ee1",
   "metadata": {},
   "outputs": [],
   "source": [
    "x_pca = pca.transform(scaled_digits)\n",
    "# x_pca = pca.transform(digits)"
   ]
  },
  {
   "cell_type": "code",
   "execution_count": null,
   "id": "23342a87",
   "metadata": {},
   "outputs": [],
   "source": [
    "plt.figure(figsize=(8,6))\n",
    "plt.scatter(x_pca[:,0],x_pca[:,1],c=digits['label'],s=5,cmap='Spectral')\n",
    "plt.colorbar(boundaries=np.arange(11)-0.5).set_ticks(np.arange(10))\n",
    "plt.xlabel('First principal component')\n",
    "plt.ylabel('Second Principal Component')"
   ]
  },
  {
   "cell_type": "code",
   "execution_count": null,
   "id": "52fbc232",
   "metadata": {},
   "outputs": [],
   "source": [
    "pca = PCA(n_components=30)\n",
    "pca.fit(scaled_digits)\n",
    "x_pca = pca.transform(scaled_digits)"
   ]
  },
  {
   "cell_type": "code",
   "execution_count": null,
   "id": "aa6448ca",
   "metadata": {},
   "outputs": [],
   "source": [
    "# pd.DataFrame(scaled_digits)"
   ]
  },
  {
   "cell_type": "code",
   "execution_count": null,
   "id": "50e662d9",
   "metadata": {},
   "outputs": [],
   "source": [
    "digits_pca = pd.concat([digits['label'],pd.DataFrame(x_pca)],axis=1)"
   ]
  },
  {
   "cell_type": "code",
   "execution_count": null,
   "id": "bdd226d7",
   "metadata": {},
   "outputs": [],
   "source": [
    "digits_pca.describe()"
   ]
  },
  {
   "cell_type": "code",
   "execution_count": null,
   "id": "64b63404",
   "metadata": {},
   "outputs": [],
   "source": [
    "X = digits_pca.drop('label', axis=1)\n",
    "y = digits_pca['label']\n",
    "X_train, X_test, y_train, y_test = train_test_split(X, y, test_size=0.3)"
   ]
  },
  {
   "cell_type": "code",
   "execution_count": null,
   "id": "42c9ea84",
   "metadata": {},
   "outputs": [],
   "source": [
    "svc = SVC()\n",
    "svc.fit(X_train,y_train)"
   ]
  },
  {
   "cell_type": "code",
   "execution_count": null,
   "id": "47759c3f",
   "metadata": {},
   "outputs": [],
   "source": [
    "predictions = svc.predict(X_test)\n",
    "\n",
    "print(classification_report(y_test, predictions))"
   ]
  },
  {
   "cell_type": "code",
   "execution_count": null,
   "id": "54311923",
   "metadata": {},
   "outputs": [],
   "source": [
    "# accuracies = []\n",
    "# for k in range(30,100,10):\n",
    "#     pca = PCA(n_components=k)\n",
    "#     pca.fit(scaled_digits)\n",
    "#     x_pca = pca.transform(scaled_digits)\n",
    "\n",
    "#     digits_pca = pd.concat([digits['label'],pd.DataFrame(x_pca)],axis=1)\n",
    "\n",
    "#     X = digits_pca.drop('label', axis=1)\n",
    "#     y = digits_pca['label']\n",
    "#     X_train, X_test, y_train, y_test = train_test_split(X, y, test_size=0.3)\n",
    "\n",
    "#     svc = SVC()\n",
    "#     svc.fit(X_train,y_train)\n",
    "\n",
    "#     predictions = svc.predict(X_test)\n",
    "\n",
    "#     accuracies.append(accuracy_score(y_test, predictions))\n",
    "# print(accuracies)"
   ]
  },
  {
   "cell_type": "code",
   "execution_count": null,
   "id": "cd6d7174",
   "metadata": {},
   "outputs": [],
   "source": [
    "X = digits_pca.drop('label', axis=1)\n",
    "y = digits['label']\n",
    "X_train, X_test, y_train, y_test = train_test_split(X, y, test_size=0.1)\n",
    "\n",
    "svc.fit(X_train, y_train)\n",
    "\n",
    "scaled_test = scaler.transform(test)\n",
    "pca_test = pd.DataFrame(pca.transform(scaled_test))"
   ]
  },
  {
   "cell_type": "code",
   "execution_count": null,
   "id": "2bf21e06",
   "metadata": {},
   "outputs": [],
   "source": [
    "pca_test.head()"
   ]
  },
  {
   "cell_type": "code",
   "execution_count": null,
   "id": "895b31b6",
   "metadata": {},
   "outputs": [],
   "source": [
    "submission = svc.predict(pca_test)"
   ]
  },
  {
   "cell_type": "code",
   "execution_count": null,
   "id": "ab631f58",
   "metadata": {},
   "outputs": [],
   "source": [
    "submit = pd.DataFrame(submission, columns=['label'], index=range(1,len(submission)+1))"
   ]
  },
  {
   "cell_type": "code",
   "execution_count": null,
   "id": "04250ba6",
   "metadata": {},
   "outputs": [],
   "source": [
    "submit.to_csv('submit5.csv')"
   ]
  },
  {
   "cell_type": "markdown",
   "id": "c409aff4",
   "metadata": {},
   "source": [
    "## And Another"
   ]
  },
  {
   "cell_type": "code",
   "execution_count": 7,
   "id": "dbee1437",
   "metadata": {},
   "outputs": [],
   "source": [
    "from scipy.ndimage import interpolation\n",
    "import scipy as sp\n",
    "import math"
   ]
  },
  {
   "cell_type": "code",
   "execution_count": 15,
   "id": "4e055ee1",
   "metadata": {},
   "outputs": [],
   "source": [
    "# Taken From https://fsix.github.io/mnist/Deskewing.html\n",
    "\n",
    "def moments(image):\n",
    "    c0,c1 = np.mgrid[:image.shape[0],:image.shape[1]] # A trick in numPy to create a mesh grid\n",
    "    totalImage = np.sum(image) #sum of pixels\n",
    "    m0 = np.sum(c0*image)/totalImage #mu_x\n",
    "    m1 = np.sum(c1*image)/totalImage #mu_y\n",
    "    m00 = np.sum((c0-m0)**2*image)/totalImage #var(x)\n",
    "    m11 = np.sum((c1-m1)**2*image)/totalImage #var(y)\n",
    "    m01 = np.sum((c0-m0)*(c1-m1)*image)/totalImage #covariance(x,y)\n",
    "    mu_vector = np.array([m0,m1]) # Notice that these are \\mu_x, \\mu_y respectively\n",
    "    covariance_matrix = np.array([[m00,m01],[m01,m11]]) # Do you see a similarity between the covariance matrix\n",
    "    return mu_vector, covariance_matrix\n",
    "\n",
    "def deskew(image):\n",
    "    c,v = moments(image)\n",
    "    alpha = v[0,1]/v[0,0]\n",
    "    affine = np.array([[1,0],[alpha,1]])\n",
    "    ocenter = np.array(image.shape)/2.0\n",
    "    offset = c-np.dot(affine,ocenter)\n",
    "    img = interpolation.affine_transform(image,affine,offset=offset)\n",
    "    return (img - img.min()) / (img.max() - img.min())\n",
    "\n",
    "def mydeskew(row):\n",
    "    image = np.array(row).reshape((28,28))\n",
    "    return deskew(image).flatten()"
   ]
  },
  {
   "cell_type": "code",
   "execution_count": 9,
   "id": "a727ca95",
   "metadata": {},
   "outputs": [
    {
     "data": {
      "text/plain": [
       "<matplotlib.image.AxesImage at 0x20c495f7d48>"
      ]
     },
     "execution_count": 9,
     "metadata": {},
     "output_type": "execute_result"
    },
    {
     "data": {
      "image/png": "[encoded data removed]",
      "text/plain": [
       "<Figure size 432x288 with 2 Axes>"
      ]
     },
     "metadata": {
      "needs_background": "light"
     },
     "output_type": "display_data"
    }
   ],
   "source": [
    "fig, axs = plt.subplots(1,2)\n",
    "picID = np.random.randint(42000)\n",
    "d = np.array(digits.iloc[picID,1:]).reshape((28,28))\n",
    "axs[0].imshow(d, cmap='gray')\n",
    "axs[1].imshow(deskew(d), cmap='gray')"
   ]
  },
  {
   "cell_type": "markdown",
   "id": "b2313eef",
   "metadata": {},
   "source": [
    "### Preprocessing"
   ]
  },
  {
   "cell_type": "code",
   "execution_count": 11,
   "id": "8e986146",
   "metadata": {},
   "outputs": [],
   "source": [
    "pixel_cols = ['pixel'+str(i) for i in range(784)]"
   ]
  },
  {
   "cell_type": "code",
   "execution_count": 16,
   "id": "617aafef",
   "metadata": {},
   "outputs": [
    {
     "name": "stderr",
     "output_type": "stream",
     "text": [
      "C:\\ProgramData\\Miniconda3\\lib\\site-packages\\pandas\\core\\frame.py:3641: PerformanceWarning: DataFrame is highly fragmented.  This is usually the result of calling `frame.insert` many times, which has poor performance.  Consider joining all columns at once using pd.concat(axis=1) instead.  To get a de-fragmented frame, use `newframe = frame.copy()`\n",
      "  self[k1] = value[k2]\n"
     ]
    },
    {
     "data": {
      "text/html": [
       "<div>\n",
       "<style scoped>\n",
       "    .dataframe tbody tr th:only-of-type {\n",
       "        vertical-align: middle;\n",
       "    }\n",
       "\n",
       "    .dataframe tbody tr th {\n",
       "        vertical-align: top;\n",
       "    }\n",
       "\n",
       "    .dataframe thead th {\n",
       "        text-align: right;\n",
       "    }\n",
       "</style>\n",
       "<table border=\"1\" class=\"dataframe\">\n",
       "  <thead>\n",
       "    <tr style=\"text-align: right;\">\n",
       "      <th></th>\n",
       "      <th>label</th>\n",
       "      <th>pixel0</th>\n",
       "      <th>pixel1</th>\n",
       "      <th>pixel2</th>\n",
       "      <th>pixel3</th>\n",
       "      <th>pixel4</th>\n",
       "      <th>pixel5</th>\n",
       "      <th>pixel6</th>\n",
       "      <th>pixel7</th>\n",
       "      <th>pixel8</th>\n",
       "      <th>...</th>\n",
       "      <th>pixel774</th>\n",
       "      <th>pixel775</th>\n",
       "      <th>pixel776</th>\n",
       "      <th>pixel777</th>\n",
       "      <th>pixel778</th>\n",
       "      <th>pixel779</th>\n",
       "      <th>pixel780</th>\n",
       "      <th>pixel781</th>\n",
       "      <th>pixel782</th>\n",
       "      <th>pixel783</th>\n",
       "    </tr>\n",
       "  </thead>\n",
       "  <tbody>\n",
       "    <tr>\n",
       "      <th>0</th>\n",
       "      <td>1</td>\n",
       "      <td>0.090604</td>\n",
       "      <td>0.090604</td>\n",
       "      <td>0.090604</td>\n",
       "      <td>0.090604</td>\n",
       "      <td>0.090604</td>\n",
       "      <td>0.090604</td>\n",
       "      <td>0.090604</td>\n",
       "      <td>0.090604</td>\n",
       "      <td>0.090604</td>\n",
       "      <td>...</td>\n",
       "      <td>0.087248</td>\n",
       "      <td>0.090604</td>\n",
       "      <td>0.090604</td>\n",
       "      <td>0.090604</td>\n",
       "      <td>0.090604</td>\n",
       "      <td>0.090604</td>\n",
       "      <td>0.090604</td>\n",
       "      <td>0.090604</td>\n",
       "      <td>0.090604</td>\n",
       "      <td>0.090604</td>\n",
       "    </tr>\n",
       "    <tr>\n",
       "      <th>1</th>\n",
       "      <td>0</td>\n",
       "      <td>0.070968</td>\n",
       "      <td>0.070968</td>\n",
       "      <td>0.070968</td>\n",
       "      <td>0.070968</td>\n",
       "      <td>0.070968</td>\n",
       "      <td>0.070968</td>\n",
       "      <td>0.070968</td>\n",
       "      <td>0.070968</td>\n",
       "      <td>0.070968</td>\n",
       "      <td>...</td>\n",
       "      <td>0.070968</td>\n",
       "      <td>0.070968</td>\n",
       "      <td>0.070968</td>\n",
       "      <td>0.070968</td>\n",
       "      <td>0.070968</td>\n",
       "      <td>0.070968</td>\n",
       "      <td>0.070968</td>\n",
       "      <td>0.070968</td>\n",
       "      <td>0.070968</td>\n",
       "      <td>0.070968</td>\n",
       "    </tr>\n",
       "    <tr>\n",
       "      <th>2</th>\n",
       "      <td>1</td>\n",
       "      <td>0.098765</td>\n",
       "      <td>0.098765</td>\n",
       "      <td>0.098765</td>\n",
       "      <td>0.098765</td>\n",
       "      <td>0.098765</td>\n",
       "      <td>0.098765</td>\n",
       "      <td>0.098765</td>\n",
       "      <td>0.098765</td>\n",
       "      <td>0.098765</td>\n",
       "      <td>...</td>\n",
       "      <td>0.098765</td>\n",
       "      <td>0.098765</td>\n",
       "      <td>0.098765</td>\n",
       "      <td>0.098765</td>\n",
       "      <td>0.098765</td>\n",
       "      <td>0.098765</td>\n",
       "      <td>0.098765</td>\n",
       "      <td>0.098765</td>\n",
       "      <td>0.098765</td>\n",
       "      <td>0.098765</td>\n",
       "    </tr>\n",
       "    <tr>\n",
       "      <th>3</th>\n",
       "      <td>4</td>\n",
       "      <td>0.105263</td>\n",
       "      <td>0.105263</td>\n",
       "      <td>0.105263</td>\n",
       "      <td>0.105263</td>\n",
       "      <td>0.105263</td>\n",
       "      <td>0.105263</td>\n",
       "      <td>0.105263</td>\n",
       "      <td>0.105263</td>\n",
       "      <td>0.105263</td>\n",
       "      <td>...</td>\n",
       "      <td>0.105263</td>\n",
       "      <td>0.105263</td>\n",
       "      <td>0.105263</td>\n",
       "      <td>0.105263</td>\n",
       "      <td>0.105263</td>\n",
       "      <td>0.105263</td>\n",
       "      <td>0.105263</td>\n",
       "      <td>0.105263</td>\n",
       "      <td>0.105263</td>\n",
       "      <td>0.105263</td>\n",
       "    </tr>\n",
       "    <tr>\n",
       "      <th>4</th>\n",
       "      <td>0</td>\n",
       "      <td>0.089744</td>\n",
       "      <td>0.089744</td>\n",
       "      <td>0.089744</td>\n",
       "      <td>0.089744</td>\n",
       "      <td>0.089744</td>\n",
       "      <td>0.089744</td>\n",
       "      <td>0.089744</td>\n",
       "      <td>0.089744</td>\n",
       "      <td>0.089744</td>\n",
       "      <td>...</td>\n",
       "      <td>0.089744</td>\n",
       "      <td>0.089744</td>\n",
       "      <td>0.089744</td>\n",
       "      <td>0.089744</td>\n",
       "      <td>0.089744</td>\n",
       "      <td>0.089744</td>\n",
       "      <td>0.089744</td>\n",
       "      <td>0.089744</td>\n",
       "      <td>0.089744</td>\n",
       "      <td>0.089744</td>\n",
       "    </tr>\n",
       "  </tbody>\n",
       "</table>\n",
       "<p>5 rows × 785 columns</p>\n",
       "</div>"
      ],
      "text/plain": [
       "   label    pixel0    pixel1    pixel2    pixel3    pixel4    pixel5  \\\n",
       "0      1  0.090604  0.090604  0.090604  0.090604  0.090604  0.090604   \n",
       "1      0  0.070968  0.070968  0.070968  0.070968  0.070968  0.070968   \n",
       "2      1  0.098765  0.098765  0.098765  0.098765  0.098765  0.098765   \n",
       "3      4  0.105263  0.105263  0.105263  0.105263  0.105263  0.105263   \n",
       "4      0  0.089744  0.089744  0.089744  0.089744  0.089744  0.089744   \n",
       "\n",
       "     pixel6    pixel7    pixel8  ...  pixel774  pixel775  pixel776  pixel777  \\\n",
       "0  0.090604  0.090604  0.090604  ...  0.087248  0.090604  0.090604  0.090604   \n",
       "1  0.070968  0.070968  0.070968  ...  0.070968  0.070968  0.070968  0.070968   \n",
       "2  0.098765  0.098765  0.098765  ...  0.098765  0.098765  0.098765  0.098765   \n",
       "3  0.105263  0.105263  0.105263  ...  0.105263  0.105263  0.105263  0.105263   \n",
       "4  0.089744  0.089744  0.089744  ...  0.089744  0.089744  0.089744  0.089744   \n",
       "\n",
       "   pixel778  pixel779  pixel780  pixel781  pixel782  pixel783  \n",
       "0  0.090604  0.090604  0.090604  0.090604  0.090604  0.090604  \n",
       "1  0.070968  0.070968  0.070968  0.070968  0.070968  0.070968  \n",
       "2  0.098765  0.098765  0.098765  0.098765  0.098765  0.098765  \n",
       "3  0.105263  0.105263  0.105263  0.105263  0.105263  0.105263  \n",
       "4  0.089744  0.089744  0.089744  0.089744  0.089744  0.089744  \n",
       "\n",
       "[5 rows x 785 columns]"
      ]
     },
     "execution_count": 16,
     "metadata": {},
     "output_type": "execute_result"
    }
   ],
   "source": [
    "deskewed_digits_array = pd.DataFrame(digits['label'])\n",
    "deskewed_digits_array[pixel_cols] = pd.DataFrame(digits.drop('label', axis=1).apply(mydeskew, axis=1).to_list(), columns=pixel_cols)\n",
    "deskewed_digits_array.head()"
   ]
  },
  {
   "cell_type": "code",
   "execution_count": 28,
   "id": "fd584dfa",
   "metadata": {},
   "outputs": [
    {
     "data": {
      "image/png": "[encoded data removed]",
      "text/plain": [
       "<Figure size 432x288 with 10 Axes>"
      ]
     },
     "metadata": {
      "needs_background": "light"
     },
     "output_type": "display_data"
    }
   ],
   "source": [
    "fig, axs = plt.subplots(2,5)\n",
    "for i in range(5):\n",
    "    picID = np.random.randint(42000)\n",
    "    img = np.array(digits.iloc[picID,1:]).reshape((28,28))\n",
    "    desked_img = np.array(deskewed_digits_array.iloc[picID,1:]).reshape((28,28))\n",
    "    axs[0,i].imshow(img, cmap='gray')\n",
    "    axs[1,i].imshow(desked_img, cmap='gray')"
   ]
  },
  {
   "cell_type": "code",
   "execution_count": null,
   "id": "02ed3738",
   "metadata": {},
   "outputs": [],
   "source": []
  },
  {
   "cell_type": "code",
   "execution_count": 30,
   "id": "9c25b339",
   "metadata": {},
   "outputs": [],
   "source": [
    "X = deskewed_digits_array.drop('label', axis=1)\n",
    "y = deskewed_digits_array['label']\n",
    "X_train, X_test, y_train, y_test = train_test_split(X, y, test_size=0.3)"
   ]
  },
  {
   "cell_type": "code",
   "execution_count": 31,
   "id": "dd5a6346",
   "metadata": {},
   "outputs": [
    {
     "data": {
      "text/plain": [
       "SVC()"
      ]
     },
     "execution_count": 31,
     "metadata": {},
     "output_type": "execute_result"
    }
   ],
   "source": [
    "svc = SVC()\n",
    "svc.fit(X_train,y_train)"
   ]
  },
  {
   "cell_type": "code",
   "execution_count": 32,
   "id": "9976aa32",
   "metadata": {},
   "outputs": [
    {
     "name": "stdout",
     "output_type": "stream",
     "text": [
      "              precision    recall  f1-score   support\n",
      "\n",
      "           0       0.99      0.99      0.99      1219\n",
      "           1       0.99      0.99      0.99      1403\n",
      "           2       0.98      0.99      0.99      1271\n",
      "           3       0.98      0.98      0.98      1308\n",
      "           4       0.98      0.99      0.98      1243\n",
      "           5       0.98      0.98      0.98      1144\n",
      "           6       0.99      0.99      0.99      1276\n",
      "           7       0.99      0.98      0.98      1281\n",
      "           8       0.98      0.98      0.98      1219\n",
      "           9       0.98      0.96      0.97      1236\n",
      "\n",
      "    accuracy                           0.98     12600\n",
      "   macro avg       0.98      0.98      0.98     12600\n",
      "weighted avg       0.98      0.98      0.98     12600\n",
      "\n"
     ]
    }
   ],
   "source": [
    "predictions = svc.predict(X_test)\n",
    "\n",
    "print(classification_report(y_test, predictions))"
   ]
  },
  {
   "cell_type": "code",
   "execution_count": 33,
   "id": "37332098",
   "metadata": {},
   "outputs": [],
   "source": [
    "X = deskewed_digits_array.drop('label', axis=1)\n",
    "y = deskewed_digits_array['label']\n",
    "X_train, X_test, y_train, y_test = train_test_split(X, y, test_size=0.3)\n",
    "\n",
    "svc.fit(X_train, y_train)"
   ]
  },
  {
   "cell_type": "code",
   "execution_count": 38,
   "id": "d9df7804",
   "metadata": {},
   "outputs": [
    {
     "data": {
      "text/html": [
       "<div>\n",
       "<style scoped>\n",
       "    .dataframe tbody tr th:only-of-type {\n",
       "        vertical-align: middle;\n",
       "    }\n",
       "\n",
       "    .dataframe tbody tr th {\n",
       "        vertical-align: top;\n",
       "    }\n",
       "\n",
       "    .dataframe thead th {\n",
       "        text-align: right;\n",
       "    }\n",
       "</style>\n",
       "<table border=\"1\" class=\"dataframe\">\n",
       "  <thead>\n",
       "    <tr style=\"text-align: right;\">\n",
       "      <th></th>\n",
       "      <th>pixel0</th>\n",
       "      <th>pixel1</th>\n",
       "      <th>pixel2</th>\n",
       "      <th>pixel3</th>\n",
       "      <th>pixel4</th>\n",
       "      <th>pixel5</th>\n",
       "      <th>pixel6</th>\n",
       "      <th>pixel7</th>\n",
       "      <th>pixel8</th>\n",
       "      <th>pixel9</th>\n",
       "      <th>...</th>\n",
       "      <th>pixel774</th>\n",
       "      <th>pixel775</th>\n",
       "      <th>pixel776</th>\n",
       "      <th>pixel777</th>\n",
       "      <th>pixel778</th>\n",
       "      <th>pixel779</th>\n",
       "      <th>pixel780</th>\n",
       "      <th>pixel781</th>\n",
       "      <th>pixel782</th>\n",
       "      <th>pixel783</th>\n",
       "    </tr>\n",
       "  </thead>\n",
       "  <tbody>\n",
       "    <tr>\n",
       "      <th>0</th>\n",
       "      <td>0.073090</td>\n",
       "      <td>0.073090</td>\n",
       "      <td>0.073090</td>\n",
       "      <td>0.073090</td>\n",
       "      <td>0.073090</td>\n",
       "      <td>0.073090</td>\n",
       "      <td>0.073090</td>\n",
       "      <td>0.073090</td>\n",
       "      <td>0.073090</td>\n",
       "      <td>0.073090</td>\n",
       "      <td>...</td>\n",
       "      <td>0.073090</td>\n",
       "      <td>0.073090</td>\n",
       "      <td>0.073090</td>\n",
       "      <td>0.073090</td>\n",
       "      <td>0.073090</td>\n",
       "      <td>0.073090</td>\n",
       "      <td>0.073090</td>\n",
       "      <td>0.073090</td>\n",
       "      <td>0.073090</td>\n",
       "      <td>0.073090</td>\n",
       "    </tr>\n",
       "    <tr>\n",
       "      <th>1</th>\n",
       "      <td>0.117647</td>\n",
       "      <td>0.117647</td>\n",
       "      <td>0.117647</td>\n",
       "      <td>0.117647</td>\n",
       "      <td>0.117647</td>\n",
       "      <td>0.117647</td>\n",
       "      <td>0.117647</td>\n",
       "      <td>0.117647</td>\n",
       "      <td>0.117647</td>\n",
       "      <td>0.117647</td>\n",
       "      <td>...</td>\n",
       "      <td>0.117647</td>\n",
       "      <td>0.117647</td>\n",
       "      <td>0.117647</td>\n",
       "      <td>0.117647</td>\n",
       "      <td>0.117647</td>\n",
       "      <td>0.117647</td>\n",
       "      <td>0.117647</td>\n",
       "      <td>0.117647</td>\n",
       "      <td>0.117647</td>\n",
       "      <td>0.117647</td>\n",
       "    </tr>\n",
       "    <tr>\n",
       "      <th>2</th>\n",
       "      <td>0.075812</td>\n",
       "      <td>0.075812</td>\n",
       "      <td>0.075812</td>\n",
       "      <td>0.075812</td>\n",
       "      <td>0.075812</td>\n",
       "      <td>0.075812</td>\n",
       "      <td>0.075812</td>\n",
       "      <td>0.075812</td>\n",
       "      <td>0.075812</td>\n",
       "      <td>0.075812</td>\n",
       "      <td>...</td>\n",
       "      <td>0.075812</td>\n",
       "      <td>0.075812</td>\n",
       "      <td>0.075812</td>\n",
       "      <td>0.075812</td>\n",
       "      <td>0.075812</td>\n",
       "      <td>0.075812</td>\n",
       "      <td>0.075812</td>\n",
       "      <td>0.075812</td>\n",
       "      <td>0.075812</td>\n",
       "      <td>0.075812</td>\n",
       "    </tr>\n",
       "    <tr>\n",
       "      <th>3</th>\n",
       "      <td>0.081571</td>\n",
       "      <td>0.081571</td>\n",
       "      <td>0.081571</td>\n",
       "      <td>0.081571</td>\n",
       "      <td>0.081571</td>\n",
       "      <td>0.081571</td>\n",
       "      <td>0.081571</td>\n",
       "      <td>0.081571</td>\n",
       "      <td>0.081571</td>\n",
       "      <td>0.081571</td>\n",
       "      <td>...</td>\n",
       "      <td>0.081571</td>\n",
       "      <td>0.081571</td>\n",
       "      <td>0.081571</td>\n",
       "      <td>0.081571</td>\n",
       "      <td>0.081571</td>\n",
       "      <td>0.081571</td>\n",
       "      <td>0.081571</td>\n",
       "      <td>0.081571</td>\n",
       "      <td>0.081571</td>\n",
       "      <td>0.081571</td>\n",
       "    </tr>\n",
       "    <tr>\n",
       "      <th>4</th>\n",
       "      <td>0.083871</td>\n",
       "      <td>0.083871</td>\n",
       "      <td>0.083871</td>\n",
       "      <td>0.083871</td>\n",
       "      <td>0.083871</td>\n",
       "      <td>0.083871</td>\n",
       "      <td>0.083871</td>\n",
       "      <td>0.083871</td>\n",
       "      <td>0.083871</td>\n",
       "      <td>0.083871</td>\n",
       "      <td>...</td>\n",
       "      <td>0.083871</td>\n",
       "      <td>0.083871</td>\n",
       "      <td>0.083871</td>\n",
       "      <td>0.083871</td>\n",
       "      <td>0.083871</td>\n",
       "      <td>0.083871</td>\n",
       "      <td>0.083871</td>\n",
       "      <td>0.083871</td>\n",
       "      <td>0.083871</td>\n",
       "      <td>0.083871</td>\n",
       "    </tr>\n",
       "  </tbody>\n",
       "</table>\n",
       "<p>5 rows × 784 columns</p>\n",
       "</div>"
      ],
      "text/plain": [
       "     pixel0    pixel1    pixel2    pixel3    pixel4    pixel5    pixel6  \\\n",
       "0  0.073090  0.073090  0.073090  0.073090  0.073090  0.073090  0.073090   \n",
       "1  0.117647  0.117647  0.117647  0.117647  0.117647  0.117647  0.117647   \n",
       "2  0.075812  0.075812  0.075812  0.075812  0.075812  0.075812  0.075812   \n",
       "3  0.081571  0.081571  0.081571  0.081571  0.081571  0.081571  0.081571   \n",
       "4  0.083871  0.083871  0.083871  0.083871  0.083871  0.083871  0.083871   \n",
       "\n",
       "     pixel7    pixel8    pixel9  ...  pixel774  pixel775  pixel776  pixel777  \\\n",
       "0  0.073090  0.073090  0.073090  ...  0.073090  0.073090  0.073090  0.073090   \n",
       "1  0.117647  0.117647  0.117647  ...  0.117647  0.117647  0.117647  0.117647   \n",
       "2  0.075812  0.075812  0.075812  ...  0.075812  0.075812  0.075812  0.075812   \n",
       "3  0.081571  0.081571  0.081571  ...  0.081571  0.081571  0.081571  0.081571   \n",
       "4  0.083871  0.083871  0.083871  ...  0.083871  0.083871  0.083871  0.083871   \n",
       "\n",
       "   pixel778  pixel779  pixel780  pixel781  pixel782  pixel783  \n",
       "0  0.073090  0.073090  0.073090  0.073090  0.073090  0.073090  \n",
       "1  0.117647  0.117647  0.117647  0.117647  0.117647  0.117647  \n",
       "2  0.075812  0.075812  0.075812  0.075812  0.075812  0.075812  \n",
       "3  0.081571  0.081571  0.081571  0.081571  0.081571  0.081571  \n",
       "4  0.083871  0.083871  0.083871  0.083871  0.083871  0.083871  \n",
       "\n",
       "[5 rows x 784 columns]"
      ]
     },
     "execution_count": 38,
     "metadata": {},
     "output_type": "execute_result"
    }
   ],
   "source": [
    "deskewed_test = pd.DataFrame(test.apply(mydeskew, axis=1).to_list(), columns=pixel_cols)\n",
    "deskewed_test.head()"
   ]
  },
  {
   "cell_type": "code",
   "execution_count": 37,
   "id": "ace62af0",
   "metadata": {},
   "outputs": [],
   "source": [
    "submission = svc.predict(deskewed_test)"
   ]
  },
  {
   "cell_type": "code",
   "execution_count": 39,
   "id": "e28212d7",
   "metadata": {},
   "outputs": [],
   "source": [
    "submit = pd.DataFrame(submission, columns=['label'], index=range(1,len(submission)+1))"
   ]
  },
  {
   "cell_type": "code",
   "execution_count": 40,
   "id": "1179e3f9",
   "metadata": {},
   "outputs": [],
   "source": [
    "submit.to_csv('submit6.csv')"
   ]
  },
  {
   "cell_type": "markdown",
   "id": "89ab6937",
   "metadata": {},
   "source": [
    "## Maybe I can squeeze it more"
   ]
  },
  {
   "cell_type": "code",
   "execution_count": 51,
   "id": "a2195acf",
   "metadata": {},
   "outputs": [
    {
     "name": "stderr",
     "output_type": "stream",
     "text": [
      "C:\\ProgramData\\Miniconda3\\lib\\site-packages\\pandas\\core\\frame.py:3641: PerformanceWarning: DataFrame is highly fragmented.  This is usually the result of calling `frame.insert` many times, which has poor performance.  Consider joining all columns at once using pd.concat(axis=1) instead.  To get a de-fragmented frame, use `newframe = frame.copy()`\n",
      "  self[k1] = value[k2]\n"
     ]
    },
    {
     "data": {
      "text/html": [
       "<div>\n",
       "<style scoped>\n",
       "    .dataframe tbody tr th:only-of-type {\n",
       "        vertical-align: middle;\n",
       "    }\n",
       "\n",
       "    .dataframe tbody tr th {\n",
       "        vertical-align: top;\n",
       "    }\n",
       "\n",
       "    .dataframe thead th {\n",
       "        text-align: right;\n",
       "    }\n",
       "</style>\n",
       "<table border=\"1\" class=\"dataframe\">\n",
       "  <thead>\n",
       "    <tr style=\"text-align: right;\">\n",
       "      <th></th>\n",
       "      <th>label</th>\n",
       "      <th>pixel0</th>\n",
       "      <th>pixel1</th>\n",
       "      <th>pixel2</th>\n",
       "      <th>pixel3</th>\n",
       "      <th>pixel4</th>\n",
       "      <th>pixel5</th>\n",
       "      <th>pixel6</th>\n",
       "      <th>pixel7</th>\n",
       "      <th>pixel8</th>\n",
       "      <th>...</th>\n",
       "      <th>pixel774</th>\n",
       "      <th>pixel775</th>\n",
       "      <th>pixel776</th>\n",
       "      <th>pixel777</th>\n",
       "      <th>pixel778</th>\n",
       "      <th>pixel779</th>\n",
       "      <th>pixel780</th>\n",
       "      <th>pixel781</th>\n",
       "      <th>pixel782</th>\n",
       "      <th>pixel783</th>\n",
       "    </tr>\n",
       "  </thead>\n",
       "  <tbody>\n",
       "    <tr>\n",
       "      <th>0</th>\n",
       "      <td>1</td>\n",
       "      <td>0.030201</td>\n",
       "      <td>0.030201</td>\n",
       "      <td>0.030201</td>\n",
       "      <td>0.030201</td>\n",
       "      <td>0.030201</td>\n",
       "      <td>0.030201</td>\n",
       "      <td>0.030201</td>\n",
       "      <td>0.030201</td>\n",
       "      <td>0.030201</td>\n",
       "      <td>...</td>\n",
       "      <td>0.0</td>\n",
       "      <td>0.0</td>\n",
       "      <td>0.0</td>\n",
       "      <td>0.0</td>\n",
       "      <td>0.0</td>\n",
       "      <td>0.0</td>\n",
       "      <td>0.0</td>\n",
       "      <td>0.0</td>\n",
       "      <td>0.0</td>\n",
       "      <td>0.0</td>\n",
       "    </tr>\n",
       "    <tr>\n",
       "      <th>1</th>\n",
       "      <td>0</td>\n",
       "      <td>0.023656</td>\n",
       "      <td>0.023656</td>\n",
       "      <td>0.023656</td>\n",
       "      <td>0.023656</td>\n",
       "      <td>0.023656</td>\n",
       "      <td>0.023656</td>\n",
       "      <td>0.023656</td>\n",
       "      <td>0.023656</td>\n",
       "      <td>0.023656</td>\n",
       "      <td>...</td>\n",
       "      <td>0.0</td>\n",
       "      <td>0.0</td>\n",
       "      <td>0.0</td>\n",
       "      <td>0.0</td>\n",
       "      <td>0.0</td>\n",
       "      <td>0.0</td>\n",
       "      <td>0.0</td>\n",
       "      <td>0.0</td>\n",
       "      <td>0.0</td>\n",
       "      <td>0.0</td>\n",
       "    </tr>\n",
       "    <tr>\n",
       "      <th>2</th>\n",
       "      <td>1</td>\n",
       "      <td>0.032922</td>\n",
       "      <td>0.032922</td>\n",
       "      <td>0.032922</td>\n",
       "      <td>0.032922</td>\n",
       "      <td>0.032922</td>\n",
       "      <td>0.032922</td>\n",
       "      <td>0.032922</td>\n",
       "      <td>0.032922</td>\n",
       "      <td>0.032922</td>\n",
       "      <td>...</td>\n",
       "      <td>0.0</td>\n",
       "      <td>0.0</td>\n",
       "      <td>0.0</td>\n",
       "      <td>0.0</td>\n",
       "      <td>0.0</td>\n",
       "      <td>0.0</td>\n",
       "      <td>0.0</td>\n",
       "      <td>0.0</td>\n",
       "      <td>0.0</td>\n",
       "      <td>0.0</td>\n",
       "    </tr>\n",
       "    <tr>\n",
       "      <th>3</th>\n",
       "      <td>4</td>\n",
       "      <td>0.035088</td>\n",
       "      <td>0.035088</td>\n",
       "      <td>0.035088</td>\n",
       "      <td>0.035088</td>\n",
       "      <td>0.035088</td>\n",
       "      <td>0.035088</td>\n",
       "      <td>0.035088</td>\n",
       "      <td>0.035088</td>\n",
       "      <td>0.035088</td>\n",
       "      <td>...</td>\n",
       "      <td>0.0</td>\n",
       "      <td>0.0</td>\n",
       "      <td>0.0</td>\n",
       "      <td>0.0</td>\n",
       "      <td>0.0</td>\n",
       "      <td>0.0</td>\n",
       "      <td>0.0</td>\n",
       "      <td>0.0</td>\n",
       "      <td>0.0</td>\n",
       "      <td>0.0</td>\n",
       "    </tr>\n",
       "    <tr>\n",
       "      <th>4</th>\n",
       "      <td>0</td>\n",
       "      <td>0.029915</td>\n",
       "      <td>0.029915</td>\n",
       "      <td>0.029915</td>\n",
       "      <td>0.029915</td>\n",
       "      <td>0.029915</td>\n",
       "      <td>0.029915</td>\n",
       "      <td>0.029915</td>\n",
       "      <td>0.029915</td>\n",
       "      <td>0.029915</td>\n",
       "      <td>...</td>\n",
       "      <td>0.0</td>\n",
       "      <td>0.0</td>\n",
       "      <td>0.0</td>\n",
       "      <td>0.0</td>\n",
       "      <td>0.0</td>\n",
       "      <td>0.0</td>\n",
       "      <td>0.0</td>\n",
       "      <td>0.0</td>\n",
       "      <td>0.0</td>\n",
       "      <td>0.0</td>\n",
       "    </tr>\n",
       "  </tbody>\n",
       "</table>\n",
       "<p>5 rows × 785 columns</p>\n",
       "</div>"
      ],
      "text/plain": [
       "   label    pixel0    pixel1    pixel2    pixel3    pixel4    pixel5  \\\n",
       "0      1  0.030201  0.030201  0.030201  0.030201  0.030201  0.030201   \n",
       "1      0  0.023656  0.023656  0.023656  0.023656  0.023656  0.023656   \n",
       "2      1  0.032922  0.032922  0.032922  0.032922  0.032922  0.032922   \n",
       "3      4  0.035088  0.035088  0.035088  0.035088  0.035088  0.035088   \n",
       "4      0  0.029915  0.029915  0.029915  0.029915  0.029915  0.029915   \n",
       "\n",
       "     pixel6    pixel7    pixel8  ...  pixel774  pixel775  pixel776  pixel777  \\\n",
       "0  0.030201  0.030201  0.030201  ...       0.0       0.0       0.0       0.0   \n",
       "1  0.023656  0.023656  0.023656  ...       0.0       0.0       0.0       0.0   \n",
       "2  0.032922  0.032922  0.032922  ...       0.0       0.0       0.0       0.0   \n",
       "3  0.035088  0.035088  0.035088  ...       0.0       0.0       0.0       0.0   \n",
       "4  0.029915  0.029915  0.029915  ...       0.0       0.0       0.0       0.0   \n",
       "\n",
       "   pixel778  pixel779  pixel780  pixel781  pixel782  pixel783  \n",
       "0       0.0       0.0       0.0       0.0       0.0       0.0  \n",
       "1       0.0       0.0       0.0       0.0       0.0       0.0  \n",
       "2       0.0       0.0       0.0       0.0       0.0       0.0  \n",
       "3       0.0       0.0       0.0       0.0       0.0       0.0  \n",
       "4       0.0       0.0       0.0       0.0       0.0       0.0  \n",
       "\n",
       "[5 rows x 785 columns]"
      ]
     },
     "execution_count": 51,
     "metadata": {},
     "output_type": "execute_result"
    }
   ],
   "source": [
    "blurred_digits = pd.DataFrame(digits['label'])\n",
    "blurred_digits[pixel_cols] = pd.DataFrame(deskewed_digits_array.drop('label', axis=1).apply(averaging, axis=1).to_list(), columns=pixel_cols)\n",
    "blurred_digits.head()"
   ]
  },
  {
   "cell_type": "code",
   "execution_count": 54,
   "id": "9113cf86",
   "metadata": {},
   "outputs": [
    {
     "data": {
      "image/png": "[encoded data removed]",
      "text/plain": [
       "<Figure size 432x288 with 15 Axes>"
      ]
     },
     "metadata": {
      "needs_background": "light"
     },
     "output_type": "display_data"
    }
   ],
   "source": [
    "fig, axs = plt.subplots(3,5)\n",
    "for i in range(5):\n",
    "    picID = np.random.randint(42000)\n",
    "    img = np.array(digits.iloc[picID,1:]).reshape((28,28))\n",
    "    desked_img = np.array(deskewed_digits_array.iloc[picID,1:]).reshape((28,28))\n",
    "    blurred_img = np.array(blurred_digits.iloc[picID,1:]).reshape((28,28))\n",
    "    axs[0,i].imshow(img, cmap='gray')\n",
    "    axs[1,i].imshow(desked_img, cmap='gray')\n",
    "    axs[2,i].imshow(blurred_img, cmap='gray')"
   ]
  },
  {
   "cell_type": "code",
   "execution_count": 55,
   "id": "176b2021",
   "metadata": {},
   "outputs": [],
   "source": [
    "X = blurred_digits.drop('label', axis=1)\n",
    "y = blurred_digits['label']\n",
    "X_train, X_test, y_train, y_test = train_test_split(X, y, test_size=0.3)"
   ]
  },
  {
   "cell_type": "code",
   "execution_count": 56,
   "id": "980f6545",
   "metadata": {},
   "outputs": [
    {
     "data": {
      "text/plain": [
       "SVC()"
      ]
     },
     "execution_count": 56,
     "metadata": {},
     "output_type": "execute_result"
    }
   ],
   "source": [
    "svc = SVC()\n",
    "svc.fit(X_train,y_train)"
   ]
  },
  {
   "cell_type": "code",
   "execution_count": 57,
   "id": "9317a0e5",
   "metadata": {},
   "outputs": [
    {
     "name": "stdout",
     "output_type": "stream",
     "text": [
      "              precision    recall  f1-score   support\n",
      "\n",
      "           0       0.99      0.99      0.99      1230\n",
      "           1       0.99      0.99      0.99      1409\n",
      "           2       0.97      0.98      0.97      1284\n",
      "           3       0.98      0.97      0.98      1315\n",
      "           4       0.96      0.97      0.97      1215\n",
      "           5       0.97      0.98      0.98      1114\n",
      "           6       0.99      0.99      0.99      1247\n",
      "           7       0.98      0.97      0.98      1286\n",
      "           8       0.97      0.98      0.98      1225\n",
      "           9       0.97      0.96      0.96      1275\n",
      "\n",
      "    accuracy                           0.98     12600\n",
      "   macro avg       0.98      0.98      0.98     12600\n",
      "weighted avg       0.98      0.98      0.98     12600\n",
      "\n"
     ]
    }
   ],
   "source": [
    "predictions = svc.predict(X_test)\n",
    "\n",
    "print(classification_report(y_test, predictions))"
   ]
  },
  {
   "cell_type": "code",
   "execution_count": 58,
   "id": "11d31409",
   "metadata": {},
   "outputs": [
    {
     "data": {
      "text/plain": [
       "SVC()"
      ]
     },
     "execution_count": 58,
     "metadata": {},
     "output_type": "execute_result"
    }
   ],
   "source": [
    "X = blurred_digits.drop('label', axis=1)\n",
    "y = blurred_digits['label']\n",
    "X_train, X_test, y_train, y_test = train_test_split(X, y, test_size=0.1)\n",
    "\n",
    "svc.fit(X_train, y_train)"
   ]
  },
  {
   "cell_type": "code",
   "execution_count": 63,
   "id": "575d2788",
   "metadata": {},
   "outputs": [
    {
     "data": {
      "text/html": [
       "<div>\n",
       "<style scoped>\n",
       "    .dataframe tbody tr th:only-of-type {\n",
       "        vertical-align: middle;\n",
       "    }\n",
       "\n",
       "    .dataframe tbody tr th {\n",
       "        vertical-align: top;\n",
       "    }\n",
       "\n",
       "    .dataframe thead th {\n",
       "        text-align: right;\n",
       "    }\n",
       "</style>\n",
       "<table border=\"1\" class=\"dataframe\">\n",
       "  <thead>\n",
       "    <tr style=\"text-align: right;\">\n",
       "      <th></th>\n",
       "      <th>pixel0</th>\n",
       "      <th>pixel1</th>\n",
       "      <th>pixel2</th>\n",
       "      <th>pixel3</th>\n",
       "      <th>pixel4</th>\n",
       "      <th>pixel5</th>\n",
       "      <th>pixel6</th>\n",
       "      <th>pixel7</th>\n",
       "      <th>pixel8</th>\n",
       "      <th>pixel9</th>\n",
       "      <th>...</th>\n",
       "      <th>pixel774</th>\n",
       "      <th>pixel775</th>\n",
       "      <th>pixel776</th>\n",
       "      <th>pixel777</th>\n",
       "      <th>pixel778</th>\n",
       "      <th>pixel779</th>\n",
       "      <th>pixel780</th>\n",
       "      <th>pixel781</th>\n",
       "      <th>pixel782</th>\n",
       "      <th>pixel783</th>\n",
       "    </tr>\n",
       "  </thead>\n",
       "  <tbody>\n",
       "    <tr>\n",
       "      <th>0</th>\n",
       "      <td>0.024363</td>\n",
       "      <td>0.024363</td>\n",
       "      <td>0.024363</td>\n",
       "      <td>0.024363</td>\n",
       "      <td>0.024363</td>\n",
       "      <td>0.024363</td>\n",
       "      <td>0.024363</td>\n",
       "      <td>0.024363</td>\n",
       "      <td>0.024363</td>\n",
       "      <td>0.024363</td>\n",
       "      <td>...</td>\n",
       "      <td>0.0</td>\n",
       "      <td>0.0</td>\n",
       "      <td>0.0</td>\n",
       "      <td>0.0</td>\n",
       "      <td>0.0</td>\n",
       "      <td>0.0</td>\n",
       "      <td>0.0</td>\n",
       "      <td>0.0</td>\n",
       "      <td>0.0</td>\n",
       "      <td>0.0</td>\n",
       "    </tr>\n",
       "    <tr>\n",
       "      <th>1</th>\n",
       "      <td>0.039216</td>\n",
       "      <td>0.039216</td>\n",
       "      <td>0.039216</td>\n",
       "      <td>0.039216</td>\n",
       "      <td>0.039216</td>\n",
       "      <td>0.039216</td>\n",
       "      <td>0.039216</td>\n",
       "      <td>0.039216</td>\n",
       "      <td>0.039216</td>\n",
       "      <td>0.039216</td>\n",
       "      <td>...</td>\n",
       "      <td>0.0</td>\n",
       "      <td>0.0</td>\n",
       "      <td>0.0</td>\n",
       "      <td>0.0</td>\n",
       "      <td>0.0</td>\n",
       "      <td>0.0</td>\n",
       "      <td>0.0</td>\n",
       "      <td>0.0</td>\n",
       "      <td>0.0</td>\n",
       "      <td>0.0</td>\n",
       "    </tr>\n",
       "    <tr>\n",
       "      <th>2</th>\n",
       "      <td>0.025271</td>\n",
       "      <td>0.025271</td>\n",
       "      <td>0.025271</td>\n",
       "      <td>0.025271</td>\n",
       "      <td>0.025271</td>\n",
       "      <td>0.025271</td>\n",
       "      <td>0.025271</td>\n",
       "      <td>0.025271</td>\n",
       "      <td>0.025271</td>\n",
       "      <td>0.025271</td>\n",
       "      <td>...</td>\n",
       "      <td>0.0</td>\n",
       "      <td>0.0</td>\n",
       "      <td>0.0</td>\n",
       "      <td>0.0</td>\n",
       "      <td>0.0</td>\n",
       "      <td>0.0</td>\n",
       "      <td>0.0</td>\n",
       "      <td>0.0</td>\n",
       "      <td>0.0</td>\n",
       "      <td>0.0</td>\n",
       "    </tr>\n",
       "    <tr>\n",
       "      <th>3</th>\n",
       "      <td>0.027190</td>\n",
       "      <td>0.027190</td>\n",
       "      <td>0.027190</td>\n",
       "      <td>0.027190</td>\n",
       "      <td>0.027190</td>\n",
       "      <td>0.027190</td>\n",
       "      <td>0.027190</td>\n",
       "      <td>0.027190</td>\n",
       "      <td>0.027190</td>\n",
       "      <td>0.027190</td>\n",
       "      <td>...</td>\n",
       "      <td>0.0</td>\n",
       "      <td>0.0</td>\n",
       "      <td>0.0</td>\n",
       "      <td>0.0</td>\n",
       "      <td>0.0</td>\n",
       "      <td>0.0</td>\n",
       "      <td>0.0</td>\n",
       "      <td>0.0</td>\n",
       "      <td>0.0</td>\n",
       "      <td>0.0</td>\n",
       "    </tr>\n",
       "    <tr>\n",
       "      <th>4</th>\n",
       "      <td>0.027957</td>\n",
       "      <td>0.027957</td>\n",
       "      <td>0.027957</td>\n",
       "      <td>0.027957</td>\n",
       "      <td>0.027957</td>\n",
       "      <td>0.027957</td>\n",
       "      <td>0.027957</td>\n",
       "      <td>0.027957</td>\n",
       "      <td>0.027957</td>\n",
       "      <td>0.028315</td>\n",
       "      <td>...</td>\n",
       "      <td>0.0</td>\n",
       "      <td>0.0</td>\n",
       "      <td>0.0</td>\n",
       "      <td>0.0</td>\n",
       "      <td>0.0</td>\n",
       "      <td>0.0</td>\n",
       "      <td>0.0</td>\n",
       "      <td>0.0</td>\n",
       "      <td>0.0</td>\n",
       "      <td>0.0</td>\n",
       "    </tr>\n",
       "  </tbody>\n",
       "</table>\n",
       "<p>5 rows × 784 columns</p>\n",
       "</div>"
      ],
      "text/plain": [
       "     pixel0    pixel1    pixel2    pixel3    pixel4    pixel5    pixel6  \\\n",
       "0  0.024363  0.024363  0.024363  0.024363  0.024363  0.024363  0.024363   \n",
       "1  0.039216  0.039216  0.039216  0.039216  0.039216  0.039216  0.039216   \n",
       "2  0.025271  0.025271  0.025271  0.025271  0.025271  0.025271  0.025271   \n",
       "3  0.027190  0.027190  0.027190  0.027190  0.027190  0.027190  0.027190   \n",
       "4  0.027957  0.027957  0.027957  0.027957  0.027957  0.027957  0.027957   \n",
       "\n",
       "     pixel7    pixel8    pixel9  ...  pixel774  pixel775  pixel776  pixel777  \\\n",
       "0  0.024363  0.024363  0.024363  ...       0.0       0.0       0.0       0.0   \n",
       "1  0.039216  0.039216  0.039216  ...       0.0       0.0       0.0       0.0   \n",
       "2  0.025271  0.025271  0.025271  ...       0.0       0.0       0.0       0.0   \n",
       "3  0.027190  0.027190  0.027190  ...       0.0       0.0       0.0       0.0   \n",
       "4  0.027957  0.027957  0.028315  ...       0.0       0.0       0.0       0.0   \n",
       "\n",
       "   pixel778  pixel779  pixel780  pixel781  pixel782  pixel783  \n",
       "0       0.0       0.0       0.0       0.0       0.0       0.0  \n",
       "1       0.0       0.0       0.0       0.0       0.0       0.0  \n",
       "2       0.0       0.0       0.0       0.0       0.0       0.0  \n",
       "3       0.0       0.0       0.0       0.0       0.0       0.0  \n",
       "4       0.0       0.0       0.0       0.0       0.0       0.0  \n",
       "\n",
       "[5 rows x 784 columns]"
      ]
     },
     "execution_count": 63,
     "metadata": {},
     "output_type": "execute_result"
    }
   ],
   "source": [
    "deskewed_test = pd.DataFrame(test.apply(mydeskew, axis=1).to_list(), columns=pixel_cols)\n",
    "blurred_test = pd.DataFrame(deskewed_test.apply(averaging, axis=1).to_list(), columns=pixel_cols)\n",
    "blurred_test.head()"
   ]
  },
  {
   "cell_type": "code",
   "execution_count": 64,
   "id": "26ae3ed1",
   "metadata": {},
   "outputs": [],
   "source": [
    "submission = svc.predict(blurred_test)"
   ]
  },
  {
   "cell_type": "code",
   "execution_count": 65,
   "id": "93c9efa0",
   "metadata": {},
   "outputs": [],
   "source": [
    "submit = pd.DataFrame(submission, columns=['label'], index=range(1,len(submission)+1))"
   ]
  },
  {
   "cell_type": "code",
   "execution_count": 66,
   "id": "8c731f66",
   "metadata": {},
   "outputs": [],
   "source": [
    "submit.to_csv('submit8.csv')"
   ]
  },
  {
   "cell_type": "code",
   "execution_count": null,
   "id": "5ffea277",
   "metadata": {},
   "outputs": [],
   "source": []
  }
 ],
 "metadata": {
  "kernelspec": {
   "display_name": "Python 3 (ipykernel)",
   "language": "python",
   "name": "python3"
  },
  "language_info": {
   "codemirror_mode": {
    "name": "ipython",
    "version": 3
   },
   "file_extension": ".py",
   "mimetype": "text/x-python",
   "name": "python",
   "nbconvert_exporter": "python",
   "pygments_lexer": "ipython3",
   "version": "3.7.7"
  }
 },
 "nbformat": 4,
 "nbformat_minor": 5
}
